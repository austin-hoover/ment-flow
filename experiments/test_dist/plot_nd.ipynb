{
 "cells": [
  {
   "cell_type": "markdown",
   "id": "1ca1b871-f4d6-4c9e-a199-bac9fed0cb5a",
   "metadata": {},
   "source": [
    "# Plot n-dimensional distributions"
   ]
  },
  {
   "cell_type": "code",
   "execution_count": null,
   "id": "c25ae5b8-5de4-413a-a3bf-8896a4c62094",
   "metadata": {},
   "outputs": [],
   "source": [
    "import os \n",
    "import sys\n",
    "\n",
    "import numpy as np\n",
    "import proplot as pplt\n",
    "import psdist as ps\n",
    "import psdist.visualization as psv\n",
    "import scipy.ndimage\n",
    "\n",
    "import mentflow as mf"
   ]
  },
  {
   "cell_type": "code",
   "execution_count": null,
   "id": "8b98d2e8-8cf4-40f5-82d7-286e4850cad6",
   "metadata": {},
   "outputs": [],
   "source": [
    "pplt.rc[\"cmap.discrete\"] = False\n",
    "pplt.rc[\"cmap.sequential\"] = \"viridis\"\n",
    "pplt.rc[\"figure.facecolor\"] = \"white\"\n",
    "pplt.rc[\"grid\"] = False"
   ]
  },
  {
   "cell_type": "code",
   "execution_count": null,
   "id": "dd9f3797-ddcc-48f8-a784-c598c2567009",
   "metadata": {},
   "outputs": [],
   "source": [
    "d = 6\n",
    "size = int(1.00e+06)\n",
    "normalize = True\n",
    "n_bins = 80\n",
    "rmax = 4.25\n",
    "\n",
    "seed = 0\n",
    "rng = np.random.default_rng(seed)"
   ]
  },
  {
   "cell_type": "code",
   "execution_count": null,
   "id": "c87c3a25-0d9e-4957-8d2b-39767c59b91e",
   "metadata": {},
   "outputs": [],
   "source": [
    "for name, constructor in mf.dist.dist_nd.DISTRIBUTIONS.items():\n",
    "    print(name)\n",
    "        \n",
    "    dist = constructor(d=d, normalize=normalize, noise=None, rng=rng)\n",
    "    X = dist.sample(size)\n",
    "    X = X.detach().cpu().numpy()\n",
    "    \n",
    "    grid = psv.CornerGrid(d=d, diag_rspine=False, figwidth=((5.0 / 4.0) * d))\n",
    "    grid.plot_points(X, limits=(d * [(-rmax, rmax)]), bins=55, mask=False, cmap=\"mono\")\n",
    "    pplt.show()\n",
    "    \n",
    "    r = np.linalg.norm(X, axis=1)\n",
    "\n",
    "    hist, edges = ps.points.radial_histogram(X, bins=100, limits=(0.0, rmax))\n",
    "    hist = scipy.ndimage.gaussian_filter(hist, 1.0)\n",
    "    \n",
    "    fig, ax = pplt.subplots(figsize=(3.0, 2.0))\n",
    "    ax.stairs(hist, edges, color=\"black\", lw=1.25)\n",
    "    ax.format(xlabel=\"Radius\", ylabel=\"Normalized density\")\n",
    "    pplt.show()\n",
    "\n",
    "    hist, edges = np.histogram(r, bins=50, range=(0.0, rmax))\n",
    "\n",
    "    fig, ax = pplt.subplots(figsize=(3.0, 2.0))\n",
    "    ax.stairs(hist, edges, color=\"black\", lw=1.25)\n",
    "    ax.format(xlabel=\"Radius\", ylabel=\"Unnormalized density\")\n",
    "    pplt.show()"
   ]
  },
  {
   "cell_type": "code",
   "execution_count": null,
   "id": "1c878cda-0012-4238-9995-7570f0d9b8e8",
   "metadata": {},
   "outputs": [],
   "source": [
    "dist = mf.dist.dist_nd.gen_dist(name=\"rings\", d=6)\n",
    "\n",
    "X = dist.sample(int(1.00e+06))\n",
    "X = X.detach().cpu().numpy()\n",
    "\n",
    "\n",
    "from ipywidgets import interact\n",
    "@interact(width=(0.0, 10.0), center=(-3.0, 3.0), bins=(10, 150))\n",
    "def update(width, center, bins):\n",
    "    Y = ps.points.slice_planar(\n",
    "        X, axis=list(range(1, d)), center=center, width=width,\n",
    "    )\n",
    "    \n",
    "    fig, ax = pplt.subplots()\n",
    "    ax.hist(Y[:, 0], bins=bins, range=(-4.5, 4.5), color=\"black\")\n",
    "    pplt.show()"
   ]
  },
  {
   "cell_type": "code",
   "execution_count": null,
   "id": "8e59bbcb-53e5-447c-861d-03efaf7990cd",
   "metadata": {},
   "outputs": [],
   "source": [
    "# psv.points.proj1d_interactive_slice(X, color=\"black\")"
   ]
  },
  {
   "cell_type": "code",
   "execution_count": null,
   "id": "971febd3-f854-43eb-bed5-661383763167",
   "metadata": {},
   "outputs": [],
   "source": []
  }
 ],
 "metadata": {
  "kernelspec": {
   "display_name": "ment-flow",
   "language": "python",
   "name": "ment-flow"
  },
  "language_info": {
   "codemirror_mode": {
    "name": "ipython",
    "version": 3
   },
   "file_extension": ".py",
   "mimetype": "text/x-python",
   "name": "python",
   "nbconvert_exporter": "python",
   "pygments_lexer": "ipython3",
   "version": "3.8.18"
  }
 },
 "nbformat": 4,
 "nbformat_minor": 5
}
