{
 "cells": [
  {
   "cell_type": "markdown",
   "id": "4fef2e93-45a7-44c1-86ee-0b737cc26334",
   "metadata": {},
   "source": [
    "# Evaluate MENT-Flow model"
   ]
  },
  {
   "cell_type": "code",
   "execution_count": null,
   "id": "7aef45e3-614f-4027-bdf5-cf4ac7be3285",
   "metadata": {
    "tags": []
   },
   "outputs": [],
   "source": [
    "import os\n",
    "import pickle\n",
    "import sys\n",
    "\n",
    "import matplotlib.pyplot as plt\n",
    "import numpy as np\n",
    "import proplot as pplt\n",
    "import psdist as ps\n",
    "import psdist.visualization as psv\n",
    "import scipy.ndimage\n",
    "import torch\n",
    "import zuko\n",
    "from ipywidgets import interact\n",
    "from ipywidgets import widgets\n",
    "\n",
    "import mentflow as mf\n",
    "from mentflow.train.plot import set_proplot_rc\n",
    "from mentflow.utils import grab\n",
    "from mentflow.utils import unravel\n",
    "\n",
    "sys.path.append(\"../..\")\n",
    "from experiments.load import load_mentflow_run\n",
    "from experiments.rec_nd_2d.setup import make_distribution"
   ]
  },
  {
   "cell_type": "code",
   "execution_count": null,
   "id": "4abd85f5-edd9-4cac-b558-0caf6b7ffe20",
   "metadata": {
    "tags": []
   },
   "outputs": [],
   "source": [
    "set_proplot_rc()"
   ]
  },
  {
   "cell_type": "markdown",
   "id": "b49757bf-37e9-4bab-9de2-325c0f09592e",
   "metadata": {},
   "source": [
    "## Settings"
   ]
  },
  {
   "cell_type": "code",
   "execution_count": null,
   "id": "fb44e782-5c90-40cf-aeb0-9690f330a7ca",
   "metadata": {
    "tags": []
   },
   "outputs": [],
   "source": [
    "device = \"cpu\"\n",
    "precision = torch.float32\n",
    "\n",
    "\n",
    "def send(x):\n",
    "    return x.type(precision).to(device)"
   ]
  },
  {
   "cell_type": "markdown",
   "id": "a82731c4-d798-44bd-b2d2-a2a1e914679c",
   "metadata": {},
   "source": [
    "## Load data"
   ]
  },
  {
   "cell_type": "code",
   "execution_count": null,
   "id": "e3c34342-1c5f-40e3-9791-6395e61b5710",
   "metadata": {
    "tags": []
   },
   "outputs": [],
   "source": [
    "script_name = \"train_flow\"\n",
    "timestamp = 240413163225\n",
    "data_dir = f\"./outputs/{script_name}/{timestamp}/\""
   ]
  },
  {
   "cell_type": "code",
   "execution_count": null,
   "id": "41cdc4c0-34ec-426f-9ef3-8366a91de5e6",
   "metadata": {
    "tags": []
   },
   "outputs": [],
   "source": [
    "run = load_mentflow_run(data_dir, device=device)\n",
    "\n",
    "cfg = run[\"config\"]\n",
    "history = run[\"history\"]\n",
    "model = run[\"model\"]\n",
    "checkpoints = run[\"checkpoints\"]"
   ]
  },
  {
   "cell_type": "code",
   "execution_count": null,
   "id": "aca69e75-279e-49e1-b9e1-cafdbfeb571c",
   "metadata": {
    "tags": []
   },
   "outputs": [],
   "source": [
    "distribution = make_distribution(cfg)"
   ]
  },
  {
   "cell_type": "markdown",
   "id": "225ed3bb-d9d6-4b02-89d5-4e06c2e25e79",
   "metadata": {},
   "source": [
    "## Scalar history"
   ]
  },
  {
   "cell_type": "code",
   "execution_count": null,
   "id": "04f25bbb-e503-4d3e-94ec-006702b1a09c",
   "metadata": {
    "tags": []
   },
   "outputs": [],
   "source": [
    "keys_sorted = sorted(list(history.keys()))\n",
    "imax = len(history[keys_sorted[0]])\n",
    "\n",
    "\n",
    "@interact(\n",
    "    key=widgets.Dropdown(options=keys_sorted, value=\"D_norm\"),\n",
    "    irange=widgets.IntRangeSlider(min=0, max=imax, value=(0, imax)),\n",
    "    log=False,\n",
    ")\n",
    "def update(key: str, irange: int, log: bool):\n",
    "    vals = history[key]\n",
    "    avgs = mf.utils.exp_avg(vals, momentum=0.95)\n",
    "\n",
    "    fig, ax = pplt.subplots()\n",
    "    ax.plot(vals[irange[0] : irange[1]], color=\"gray\")\n",
    "    ax.plot(avgs[irange[0] : irange[1]], color=\"black\", lw=1.0)\n",
    "    if log:\n",
    "        ax.format(yscale=\"log\", yformatter=\"log\")\n",
    "    ax.format(xlabel=\"Iteration (global)\", ylabel=key)\n",
    "    plt.show()"
   ]
  },
  {
   "cell_type": "markdown",
   "id": "b532ede2-99d1-49c1-992a-f99bcfb59ab2",
   "metadata": {},
   "source": [
    "## Evaluation"
   ]
  },
  {
   "cell_type": "markdown",
   "id": "9614a60c-4ddb-4b99-9222-e240d942bfad",
   "metadata": {},
   "source": [
    "### Radial CDF"
   ]
  },
  {
   "cell_type": "code",
   "execution_count": null,
   "id": "2f43eddc-3776-4845-a90d-d7c110b84cb6",
   "metadata": {},
   "outputs": [],
   "source": [
    "@interact(\n",
    "    index=widgets.IntSlider(\n",
    "        min=0,\n",
    "        max=(len(checkpoints) - 1),\n",
    "        value=(len(checkpoints) - 1),\n",
    "    ),\n",
    "    n_samples=widgets.FloatLogSlider(min=2, max=6, value=1.00e05),\n",
    "    rmax=widgets.FloatSlider(min=0.0, max=6.0, value=3.0),\n",
    "    bins=widgets.IntSlider(min=4, max=150, value=50),\n",
    "    kind=[\"step\", \"line\"],\n",
    ")\n",
    "def update(index, n_samples, rmax, bins, kind):\n",
    "    model.load(checkpoints[index][\"path\"], device)\n",
    "\n",
    "    with torch.no_grad():\n",
    "        n_samples = int(n_samples)\n",
    "        x1 = grab(distribution.sample(n_samples))\n",
    "        x2 = grab(model.sample(n_samples))\n",
    "\n",
    "        fig, ax = mf.train.plot.plot_dist_radial_cdf(\n",
    "            x1, x2, rmax=rmax, bins=bins, kind=kind, lw=1.5, colors=[\"red4\", \"black\"]\n",
    "        )\n",
    "\n",
    "        for name in [\"kv\", \"gaussian\"]:\n",
    "            x = mf.distributions.get_distribution(name=name, noise=0.0).sample(n_samples)\n",
    "            x = grab(x)\n",
    "            hist, edges = ps.points.radial_histogram(x, bins=75, limits=(0.0, rmax))\n",
    "            cdf = np.cumsum(hist)\n",
    "            cdf = cdf / cdf[-1]\n",
    "            psv.plot_profile(\n",
    "                cdf,\n",
    "                edges=edges,\n",
    "                ax=ax,\n",
    "                kind=\"line\",\n",
    "                color=\"black\",\n",
    "                alpha=0.1,\n",
    "                ls=\"--\",\n",
    "                zorder=0,\n",
    "                lw=1.5,\n",
    "            )\n",
    "        ax.format(xlabel=\"Radius\", ylabel=\"CDF\")\n",
    "        pplt.show()"
   ]
  },
  {
   "cell_type": "markdown",
   "id": "e457ee14-dbc4-4cf3-ab10-e3f5ec26de59",
   "metadata": {},
   "source": [
    "## 2D projections"
   ]
  },
  {
   "cell_type": "code",
   "execution_count": null,
   "id": "7264c03c-89b6-4d6f-b752-fce6f4a705f4",
   "metadata": {},
   "outputs": [],
   "source": [
    "@interact(\n",
    "    dim1=widgets.Dropdown(options=range(cfg.ndim), value=0),\n",
    "    dim2=widgets.Dropdown(options=range(cfg.ndim), value=1),\n",
    "    index=widgets.IntSlider(\n",
    "        min=0,\n",
    "        max=(len(checkpoints) - 1),\n",
    "        value=(len(checkpoints) - 1),\n",
    "    ),\n",
    "    n=widgets.FloatLogSlider(min=2.0, max=6.0, value=1.00e05),\n",
    "    xmax=widgets.FloatSlider(min=0.0, max=6.0, value=3.0),\n",
    "    bins=widgets.IntSlider(min=4, max=150, value=85),\n",
    ")\n",
    "def update(dim1, dim2, index, n, xmax, bins):\n",
    "    if dim1 == dim2:\n",
    "        return\n",
    "        \n",
    "    model.load(checkpoints[index][\"path\"], device)\n",
    "\n",
    "    with torch.no_grad():\n",
    "        x1 = grab(distribution.sample(int(n)))\n",
    "        x2 = grab(model.sample(int(n)))\n",
    "\n",
    "        fig, axs = pplt.subplots(ncols=2, xspineloc=\"neither\", yspineloc=\"neither\")\n",
    "        for x, ax in zip([x1, x2], axs):\n",
    "            psv.points.plot2d(\n",
    "                x[:, (dim1, dim2)],\n",
    "                bins=bins,\n",
    "                limits=(2 * [(-xmax, xmax)]),\n",
    "                ax=ax,\n",
    "                mask=False,\n",
    "            )\n",
    "        pplt.show()"
   ]
  },
  {
   "cell_type": "markdown",
   "id": "9412a4df-a1ad-4e1d-aa33-21c921fffe35",
   "metadata": {},
   "source": [
    "### Slices "
   ]
  },
  {
   "cell_type": "code",
   "execution_count": null,
   "id": "f3d6b825-cf5b-4539-aec1-245902b7c5f9",
   "metadata": {
    "tags": []
   },
   "outputs": [],
   "source": [
    "n = 100_000\n",
    "model.load(checkpoints[-1][\"path\"], device)\n",
    "with torch.no_grad():\n",
    "    x1 = grab(distribution.sample(int(n)))\n",
    "    x2 = grab(model.sample(int(n)))\n",
    "\n",
    "psv.points.proj2d_interactive_slice(\n",
    "    data=[[x1], [x2]],\n",
    "    slice_res=7,\n",
    "    plot_res=50,\n",
    "    options=dict(mask=True),\n",
    "    cmap=\"viridis\",\n",
    "    autolim_kws=dict(sigma=3.5)\n",
    ")"
   ]
  },
  {
   "cell_type": "markdown",
   "id": "efefaf96-7a9a-428f-9f32-cb880550541e",
   "metadata": {},
   "source": [
    "### Spherical slices "
   ]
  },
  {
   "cell_type": "code",
   "execution_count": null,
   "id": "4eac4d9e-72f1-4aa1-bc5d-44fd12261a56",
   "metadata": {
    "tags": []
   },
   "outputs": [],
   "source": [
    "n = 100_000\n",
    "model.load(checkpoints[-1][\"path\"], device)\n",
    "with torch.no_grad():\n",
    "    x1 = grab(distribution.sample(int(n)))\n",
    "    x2 = grab(model.sample(int(n)))\n",
    "\n",
    "@interact(rmax=(0.0, 6.0), log=False)\n",
    "def update(rmax, log):\n",
    "    fig, axs = pplt.subplots(ncols=2)\n",
    "    limits = 2 * [(-3.5, 3.5)]\n",
    "    for ax, x in zip(axs, [x1, x2]):\n",
    "        x_slice = ps.points.slice_sphere(\n",
    "            x, axis=range(2, x.shape[1]), rmin=0.0, rmax=rmax\n",
    "        )\n",
    "        psv.points.plot2d(\n",
    "            x_slice[:, :2],\n",
    "            ax=ax,\n",
    "            bins=50,\n",
    "            limits=limits,\n",
    "            cmap=\"viridis\",\n",
    "            mask=False,\n",
    "            norm=(\"log\" if log else None),\n",
    "            offset=1.0,\n",
    "            rms_ellipse=True,\n",
    "            rms_ellipse_kws=dict(level=2.0, color=\"white\"),\n",
    "        )\n",
    "    axs.format(xlim=limits[0], ylim=limits[1])"
   ]
  },
  {
   "cell_type": "markdown",
   "id": "b863272d-7d09-408d-a337-430e28b1303d",
   "metadata": {},
   "source": [
    "### Corner plot"
   ]
  },
  {
   "cell_type": "code",
   "execution_count": null,
   "id": "b78a36fb-e7f4-4fdf-8812-60d50904e140",
   "metadata": {},
   "outputs": [],
   "source": [
    "@interact(\n",
    "    index=widgets.IntSlider(\n",
    "        min=0,\n",
    "        max=(len(checkpoints) - 1),\n",
    "        value=(len(checkpoints) - 1),\n",
    "    ),\n",
    "    n=widgets.FloatLogSlider(min=2, max=6, value=1.00e05, continuous_update=False),\n",
    "    xmax=widgets.FloatSlider(min=0.0, max=6.0, value=3.0),\n",
    "    bins=widgets.IntSlider(min=4, max=150, value=85),\n",
    ")\n",
    "def update(index, n, xmax, bins):\n",
    "    model.load(checkpoints[index][\"path\"], device)\n",
    "\n",
    "    with torch.no_grad():\n",
    "        x1 = grab(distribution.sample(int(n)))\n",
    "        x2 = grab(model.sample(int(n)))\n",
    "\n",
    "        mask = True\n",
    "\n",
    "        grid = psv.CornerGrid(d=x1.shape[1], corner=False)\n",
    "        limits = [(-xmax, xmax)] * x1.shape[1]\n",
    "        grid.plot_points(\n",
    "            x2,\n",
    "            lower=True,\n",
    "            upper=False,\n",
    "            mask=mask,\n",
    "            bins=bins,\n",
    "            limits=limits,\n",
    "            cmap=\"blues\",\n",
    "            diag_kws=dict(color=\"blue7\", lw=1.5),\n",
    "        )\n",
    "        grid.plot_points(\n",
    "            x1,\n",
    "            upper=True,\n",
    "            lower=False,\n",
    "            mask=mask,\n",
    "            bins=bins,\n",
    "            limits=limits,\n",
    "            cmap=\"reds\",\n",
    "            diag_kws=dict(color=\"red7\", lw=1.5),\n",
    "        )\n",
    "        pplt.show()"
   ]
  },
  {
   "cell_type": "markdown",
   "id": "fb9f076f-682b-48ad-af1c-b1a92601a336",
   "metadata": {},
   "source": [
    "### Simulated measurements"
   ]
  },
  {
   "cell_type": "code",
   "execution_count": null,
   "id": "5eb5620e-7888-4afe-9f70-f21696650045",
   "metadata": {},
   "outputs": [],
   "source": [
    "@interact(\n",
    "    index=widgets.IntSlider(\n",
    "        min=0,\n",
    "        max=(len(checkpoints) - 1),\n",
    "        value=(len(checkpoints) - 1),\n",
    "    ),\n",
    "    n=widgets.FloatLogSlider(min=2, max=6, value=50000),\n",
    "    log_ymin=widgets.FloatSlider(min=-5.0, max=-1.0, value=-3.0),\n",
    "    maxcols=widgets.IntSlider(min=4, max=12, value=7),\n",
    "    figwidthscale=widgets.FloatSlider(min=0.5, max=2.5, value=1.25),\n",
    ")\n",
    "def update(index, n, log_ymin, maxcols, figwidthscale, kde=False, log=False):\n",
    "    model.load(checkpoints[index][\"path\"], device=device)\n",
    "\n",
    "    with torch.no_grad():\n",
    "        # Generate samples from the model.\n",
    "        x = model.sample(int(n))\n",
    "        x = send(x)\n",
    "\n",
    "        # Compute projections.\n",
    "        for diagnostic in unravel(model.diagnostics):\n",
    "            diagnostic.kde = kde\n",
    "\n",
    "        predictions = mf.simulate.forward(x, model.transforms, model.diagnostics)\n",
    "\n",
    "        y_meas = [grab(meas) for meas in unravel(model.measurements)]\n",
    "        y_pred = [grab(pred) for pred in unravel(predictions)]\n",
    "        coords = [[grab(0.5 * (e[:-1] + e[1:])) for e in diag.edges] for diag in unravel(model.diagnostics)]\n",
    "\n",
    "        # Setup figure.\n",
    "        ncols = min(len(y_meas), maxcols)\n",
    "        nrows = 2 * int(np.ceil(len(y_meas) / ncols))\n",
    "\n",
    "        fig, axs = pplt.subplots(\n",
    "            ncols=ncols,\n",
    "            nrows=nrows,\n",
    "            figwidth=min(figwidthscale * ncols, 10.0),\n",
    "            xspineloc=\"neither\",\n",
    "            yspineloc=\"neither\",\n",
    "            space=0.0,\n",
    "        )\n",
    "\n",
    "        # Plot truth in first row, predictions in second row, etc.\n",
    "        kws = dict(\n",
    "            norm=(\"log\" if log else None),\n",
    "        )\n",
    "        i = 0\n",
    "        for row in range(0, nrows, 2):\n",
    "            for col in range(ncols):\n",
    "                if i < len(y_meas):\n",
    "                    ax_index = row * ncols + col\n",
    "                    scale = np.max(y_meas[i])\n",
    "                    psv.image.plot2d(\n",
    "                        y_meas[i] / scale, coords=coords[i], ax=axs[ax_index], **kws\n",
    "                    )\n",
    "                    psv.image.plot2d(\n",
    "                        y_pred[i] / scale,\n",
    "                        coords=coords[i],\n",
    "                        ax=axs[ax_index + ncols],\n",
    "                        **kws\n",
    "                    )\n",
    "                i += 1\n",
    "\n",
    "        plt.show()"
   ]
  },
  {
   "cell_type": "markdown",
   "id": "5e110e59-d7d0-4755-8faa-3c4667829ca6",
   "metadata": {},
   "source": [
    "### Grid warp "
   ]
  },
  {
   "cell_type": "code",
   "execution_count": null,
   "id": "866bffd2-c336-49d9-8c37-99287d63df99",
   "metadata": {},
   "outputs": [],
   "source": [
    "@interact(\n",
    "    index=widgets.IntSlider(\n",
    "        min=0,\n",
    "        max=(len(checkpoints) - 1),\n",
    "        value=(len(checkpoints) - 1),\n",
    "    ),\n",
    "    xmax=widgets.FloatSlider(min=0.0, max=6.0, value=3.0),\n",
    "    n_lines=widgets.IntSlider(min=0.0, max=200, value=100),\n",
    ")\n",
    "def update(index, xmax, n_lines):\n",
    "    model.load(checkpoints[index][\"path\"], device=device)\n",
    "\n",
    "    with torch.no_grad():\n",
    "        fig, axs = pplt.subplots(ncols=2)\n",
    "\n",
    "        res = 150\n",
    "        grid = np.linspace(-3.5 * xmax, 3.5 * xmax, n_lines)\n",
    "        line_points = []\n",
    "        for i in range(len(grid)):\n",
    "            x = np.full(res, grid[i])\n",
    "            y = np.linspace(-xmax, xmax, res)\n",
    "            line_points.append(np.vstack([x, y]).T)\n",
    "            line_points.append(np.vstack([y, x]).T)\n",
    "\n",
    "        kws = dict(color=\"black\", lw=0.6, alpha=0.25)\n",
    "\n",
    "        for z in line_points:\n",
    "            axs[0].plot(z[:, 0], z[:, 1], **kws)\n",
    "            z = np.hstack([z, np.zeros((z.shape[0], cfg.ndim - z.shape[1]))])\n",
    "            z = send(torch.from_numpy(z))\n",
    "            x = grab(model.generator.forward(z))\n",
    "            for ax in axs[1:]:\n",
    "                ax.plot(x[:, 0], x[:, 1], **kws)\n",
    "\n",
    "        z = model.generator.sample_base(1000)\n",
    "        x = model.generator.forward(z)\n",
    "        z = grab(z)\n",
    "        x = grab(x)\n",
    "        kws = dict(c=\"black\", zorder=999, s=1)\n",
    "        axs[0].scatter(z[:, 0], z[:, 1], **kws)\n",
    "        axs[1].scatter(x[:, 0], x[:, 1], **kws)\n",
    "        axs.format(xlim=(-xmax, xmax), ylim=(-xmax, xmax))\n",
    "        plt.show()"
   ]
  },
  {
   "cell_type": "markdown",
   "id": "c4816896-4fe2-44d9-8b52-f99b801b6445",
   "metadata": {},
   "source": [
    "### Flow trajectory"
   ]
  },
  {
   "cell_type": "code",
   "execution_count": null,
   "id": "c30d7353-b103-40e4-99e4-1e694ccb7ada",
   "metadata": {},
   "outputs": [],
   "source": [
    "@interact(\n",
    "    index=widgets.IntSlider(\n",
    "        min=0,\n",
    "        max=(len(checkpoints) - 1),\n",
    "        value=(len(checkpoints) - 1),\n",
    "    ),\n",
    "    n=widgets.FloatLogSlider(min=2, max=6, value=1.00e05),\n",
    "    xmax=widgets.FloatSlider(min=0.0, max=6.0, value=3.0),\n",
    "    bins=widgets.IntSlider(min=4, max=150, value=75),\n",
    ")\n",
    "def update(index, n, xmax, bins):\n",
    "    model.load(checkpoints[index][\"path\"], device)\n",
    "\n",
    "    with torch.no_grad():\n",
    "        z = model.generator.sample_base(int(n))\n",
    "        try:\n",
    "            xt = model.generator.forward_steps(z)\n",
    "        except:\n",
    "            print(\"`model.gen` does not have `forward_steps` method.\")\n",
    "\n",
    "        fig, axs = pplt.subplots(\n",
    "            figheight=2.0,\n",
    "            ncols=len(xt),\n",
    "            space=None,\n",
    "            xticks=[],\n",
    "            yticks=[],\n",
    "            xspineloc=\"neither\",\n",
    "            yspineloc=\"neither\",\n",
    "        )\n",
    "        limits = 2 * [(-xmax, xmax)]\n",
    "        for ax, x in zip(axs, xt):\n",
    "            x = grab(x)\n",
    "            ax.hist2d(x[:, 0], x[:, 1], bins=bins, range=limits)\n",
    "        axs.format(xlim=limits[0], ylim=limits[1])\n",
    "        plt.show()"
   ]
  },
  {
   "cell_type": "code",
   "execution_count": null,
   "id": "dda68095-72f1-4899-9be6-305e3ef7c86a",
   "metadata": {},
   "outputs": [],
   "source": []
  },
  {
   "cell_type": "code",
   "execution_count": null,
   "id": "61ac1c15-63d9-4ced-b5df-ea3fb5a61289",
   "metadata": {},
   "outputs": [],
   "source": []
  }
 ],
 "metadata": {
  "kernelspec": {
   "display_name": "analysis",
   "language": "python",
   "name": "analysis"
  },
  "language_info": {
   "codemirror_mode": {
    "name": "ipython",
    "version": 3
   },
   "file_extension": ".py",
   "mimetype": "text/x-python",
   "name": "python",
   "nbconvert_exporter": "python",
   "pygments_lexer": "ipython3",
   "version": "3.11.10"
  }
 },
 "nbformat": 4,
 "nbformat_minor": 5
}
