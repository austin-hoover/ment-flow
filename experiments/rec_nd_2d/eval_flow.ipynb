{
 "cells": [
  {
   "cell_type": "markdown",
   "id": "4fef2e93-45a7-44c1-86ee-0b737cc26334",
   "metadata": {},
   "source": [
    "# Evaluate MENT-Flow model"
   ]
  },
  {
   "cell_type": "code",
   "execution_count": 1,
   "id": "7aef45e3-614f-4027-bdf5-cf4ac7be3285",
   "metadata": {},
   "outputs": [],
   "source": [
    "import os\n",
    "import pickle\n",
    "import sys\n",
    "\n",
    "import matplotlib.pyplot as plt\n",
    "import numpy as np\n",
    "import proplot as pplt\n",
    "import psdist as ps\n",
    "import psdist.visualization as psv\n",
    "import scipy.ndimage\n",
    "import torch\n",
    "import zuko\n",
    "from ipywidgets import interact\n",
    "from ipywidgets import widgets\n",
    "\n",
    "import mentflow as mf\n",
    "from mentflow.utils import grab\n",
    "from mentflow.utils import unravel\n",
    "\n",
    "from experiments.load import load_mentflow_run\n",
    "from setup import make_dist"
   ]
  },
  {
   "cell_type": "code",
   "execution_count": 2,
   "id": "4abd85f5-edd9-4cac-b558-0caf6b7ffe20",
   "metadata": {},
   "outputs": [],
   "source": [
    "mf.train.plot.set_proplot_rc()"
   ]
  },
  {
   "cell_type": "markdown",
   "id": "b49757bf-37e9-4bab-9de2-325c0f09592e",
   "metadata": {},
   "source": [
    "## Settings"
   ]
  },
  {
   "cell_type": "code",
   "execution_count": 3,
   "id": "fb44e782-5c90-40cf-aeb0-9690f330a7ca",
   "metadata": {},
   "outputs": [],
   "source": [
    "device = \"mps\"\n",
    "precision = torch.float32\n",
    "\n",
    "def send(x):\n",
    "    return x.type(precision).to(device)"
   ]
  },
  {
   "cell_type": "markdown",
   "id": "a82731c4-d798-44bd-b2d2-a2a1e914679c",
   "metadata": {},
   "source": [
    "## Load data"
   ]
  },
  {
   "cell_type": "code",
   "execution_count": 7,
   "id": "e3c34342-1c5f-40e3-9791-6395e61b5710",
   "metadata": {},
   "outputs": [],
   "source": [
    "script_name = \"train_flow\"\n",
    "timestamp = 240128230333\n",
    "data_dir = f\"./outputs/{script_name}/{timestamp}/\""
   ]
  },
  {
   "cell_type": "code",
   "execution_count": 8,
   "id": "41cdc4c0-34ec-426f-9ef3-8366a91de5e6",
   "metadata": {},
   "outputs": [],
   "source": [
    "run = load_mentflow_run(data_dir, device=device)\n",
    "\n",
    "cfg = run[\"config\"]\n",
    "history = run[\"history\"]\n",
    "model = run[\"model\"]\n",
    "checkpoints = run[\"checkpoints\"]"
   ]
  },
  {
   "cell_type": "code",
   "execution_count": 9,
   "id": "aca69e75-279e-49e1-b9e1-cafdbfeb571c",
   "metadata": {},
   "outputs": [],
   "source": [
    "dist = make_dist(cfg)"
   ]
  },
  {
   "cell_type": "markdown",
   "id": "225ed3bb-d9d6-4b02-89d5-4e06c2e25e79",
   "metadata": {},
   "source": [
    "## Scalar history"
   ]
  },
  {
   "cell_type": "code",
   "execution_count": 10,
   "id": "04f25bbb-e503-4d3e-94ec-006702b1a09c",
   "metadata": {},
   "outputs": [
    {
     "data": {
      "application/vnd.jupyter.widget-view+json": {
       "model_id": "e1697edce9c340179061d2a28938a23e",
       "version_major": 2,
       "version_minor": 0
      },
      "text/plain": [
       "interactive(children=(Dropdown(description='key', options=('D_norm', 'H', 'L', 'batch_size', 'epoch', 'iterati…"
      ]
     },
     "metadata": {},
     "output_type": "display_data"
    }
   ],
   "source": [
    "keys_sorted = sorted(list(history.keys()))\n",
    "imax = len(history[keys_sorted[0]])\n",
    "\n",
    "@interact(\n",
    "    key=widgets.Dropdown(options=keys_sorted, value=\"D_norm\"),\n",
    "    irange=widgets.IntRangeSlider(min=0, max=imax, value=(0, imax)),\n",
    "    log=False,\n",
    ")\n",
    "def update(key, irange, log):\n",
    "    vals = history[key]\n",
    "    avgs = mf.utils.exp_avg(vals, momentum=0.95)\n",
    "\n",
    "    fig, ax = pplt.subplots()\n",
    "    ax.plot(vals[irange[0] : irange[1]], color=\"gray\")\n",
    "    ax.plot(avgs[irange[0] : irange[1]], color=\"black\", lw=1.0)    \n",
    "    if log:\n",
    "        ax.format(yscale=\"log\", yformatter=\"log\")\n",
    "    ax.format(xlabel=\"Iteration (global)\", ylabel=key)\n",
    "    plt.show()"
   ]
  },
  {
   "cell_type": "markdown",
   "id": "b532ede2-99d1-49c1-992a-f99bcfb59ab2",
   "metadata": {},
   "source": [
    "## Evaluation"
   ]
  },
  {
   "cell_type": "markdown",
   "id": "9614a60c-4ddb-4b99-9222-e240d942bfad",
   "metadata": {},
   "source": [
    "### Radial PDF"
   ]
  },
  {
   "cell_type": "code",
   "execution_count": 11,
   "id": "2f43eddc-3776-4845-a90d-d7c110b84cb6",
   "metadata": {},
   "outputs": [
    {
     "data": {
      "application/vnd.jupyter.widget-view+json": {
       "model_id": "286f4bc563e746e593344f5eab2be112",
       "version_major": 2,
       "version_minor": 0
      },
      "text/plain": [
       "interactive(children=(IntSlider(value=4, description='index', max=4), FloatLogSlider(value=100000.0, descripti…"
      ]
     },
     "metadata": {},
     "output_type": "display_data"
    }
   ],
   "source": [
    "@interact(\n",
    "    index=widgets.IntSlider(\n",
    "        min=0, \n",
    "        max=(len(checkpoints) - 1), \n",
    "        value=(len(checkpoints) - 1),\n",
    "    ),\n",
    "    n_samples=widgets.FloatLogSlider(min=2, max=6.5, value=1.00e+05),\n",
    "    rmax=widgets.FloatSlider(min=0.0, max=6.0, value=3.5),\n",
    "    bins=widgets.IntSlider(min=4, max=150, value=50),\n",
    "    kind=[\"step\", \"line\"],\n",
    ")\n",
    "def update(index, n_samples, rmax, bins, kind, normalize=True):\n",
    "    model.load(checkpoints[index][\"path\"], device)\n",
    "\n",
    "    with torch.no_grad():\n",
    "        n_samples = int(n_samples)\n",
    "        x1 = grab(dist.sample(n_samples))\n",
    "        x2 = grab(model.sample(n_samples))\n",
    "\n",
    "        colors = [\"red4\", \"black\"]\n",
    "        \n",
    "        bin_edges = np.linspace(0.0, rmax, bins + 1)\n",
    "    \n",
    "        r1 = np.linalg.norm(x1, axis=1)\n",
    "        r2 = np.linalg.norm(x2, axis=1)\n",
    "        hist_r1, _ = np.histogram(r1, bins=bin_edges, density=True)\n",
    "        hist_r2, _ = np.histogram(r2, bins=bin_edges, density=True)\n",
    "        if normalize:\n",
    "            for i in range(len(bin_edges) - 1):\n",
    "                rmin = bin_edges[i]\n",
    "                rmax = bin_edges[i + 1]\n",
    "                hist_r1[i] = hist_r1[i] / mf.utils.sphere_shell_volume(rmin=rmin, rmax=rmax, d=x1.shape[1])\n",
    "                hist_r2[i] = hist_r2[i] / mf.utils.sphere_shell_volume(rmin=rmin, rmax=rmax, d=x2.shape[1])\n",
    "        \n",
    "        fig, ax = pplt.subplots(figsize=(3.0, 2.0))\n",
    "        scale = hist_r1.max()\n",
    "        psv.plot_profile(hist_r1 / scale, edges=bin_edges, ax=ax, color=colors[0], kind=\"step\", lw=1.5)\n",
    "        psv.plot_profile(hist_r2 / scale, edges=bin_edges, ax=ax, color=colors[1], kind=\"step\", lw=1.5)\n",
    "        ax.format(ymax=1.1)\n",
    "\n",
    "        for name in [\"gaussian\", \"kv\"]:\n",
    "            x = mf.dist.dist_nd.gen_dist(name=name, noise=0.0).sample(n_samples)\n",
    "            x = grab(x)     \n",
    "            r = np.linalg.norm(x, axis=1)\n",
    "            hist, _ = np.histogram(r, bins=bin_edges, density=True)\n",
    "            if normalize:\n",
    "                for i in range(len(bin_edges) - 1):\n",
    "                    rmin = bin_edges[i]\n",
    "                    rmax = bin_edges[i + 1]\n",
    "                    hist[i] = hist[i] / mf.utils.sphere_shell_volume(rmin=rmin, rmax=rmax, d=x.shape[1])\n",
    "\n",
    "            r = np.linspace(0.0, rmax, 100)\n",
    "            ax.plot(r, np.exp(-0.5 * r**2), color=\"black\", alpha=0.1, ls=\"--\", zorder=0, lw=1.5)            \n",
    "        ax.format(xlabel=\"Radius\", ylabel=\"PDF\")\n",
    "        pplt.show()"
   ]
  },
  {
   "cell_type": "code",
   "execution_count": 12,
   "id": "6f9eb181-c30c-4a45-a7ec-1e7a11d4bc4d",
   "metadata": {},
   "outputs": [
    {
     "data": {
      "image/png": "[encoded data removed]",
      "text/plain": [
       "Figure(nrows=1, ncols=1, refwidth=2.5)"
      ]
     },
     "metadata": {
      "image/png": {
       "height": 287,
       "width": 340
      }
     },
     "output_type": "display_data"
    },
    {
     "data": {
      "image/png": "[encoded data removed]",
      "text/plain": [
       "Figure(nrows=1, ncols=1, refwidth=2.5)"
      ]
     },
     "metadata": {
      "image/png": {
       "height": 287,
       "width": 347
      }
     },
     "output_type": "display_data"
    }
   ],
   "source": [
    "model.load(checkpoints[2][\"path\"], device)\n",
    "with torch.no_grad():\n",
    "    n_samples = 100000\n",
    "    n_samples = int(n_samples)\n",
    "    x1 = grab(dist.sample(n_samples))\n",
    "    x2 = grab(model.sample(n_samples))\n",
    "\n",
    "    for x in [x1, x2]:\n",
    "        r  = np.linalg.norm(x[:, :3], axis=1)\n",
    "        rp = np.linalg.norm(x[:, 3:], axis=1)\n",
    "        fig, ax = pplt.subplots()\n",
    "        hist, edges_x, edges_y = np.histogram2d(r, rp, bins=75, range=(2 * [(0.0, 3.5)]))\n",
    "        hist = np.ma.log10(hist)\n",
    "        hist = np.ma.filled(hist, 0.0)\n",
    "        ax.pcolormesh(edges_x, edges_y, hist.T, colorbar=True, cmap=\"viridis\")"
   ]
  },
  {
   "cell_type": "markdown",
   "id": "04336fab-7a95-4b31-a5d0-3d180f3e968a",
   "metadata": {},
   "source": [
    "### Radial CDF"
   ]
  },
  {
   "cell_type": "code",
   "execution_count": null,
   "id": "f5a5cf91-948b-4cf4-8e30-95e5a138cd9b",
   "metadata": {},
   "outputs": [],
   "source": [
    "@interact(\n",
    "    index=widgets.IntSlider(\n",
    "        min=0, \n",
    "        max=(len(checkpoints) - 1), \n",
    "        value=(len(checkpoints) - 1),\n",
    "    ),\n",
    "    n_samples=widgets.FloatLogSlider(min=2, max=6, value=1.00e+05),\n",
    "    rmax=widgets.FloatSlider(min=0.0, max=6.0, value=3.0),\n",
    "    bins=widgets.IntSlider(min=4, max=150, value=50),\n",
    "    kind=[\"step\", \"line\"],\n",
    ")\n",
    "def update(index, n_samples, rmax, bins, kind):\n",
    "    model.load(checkpoints[index][\"path\"], device)\n",
    "\n",
    "    with torch.no_grad():\n",
    "        n_samples = int(n_samples)\n",
    "        x1 = grab(dist.sample(n_samples))\n",
    "        x2 = grab(model.sample(n_samples))\n",
    "        \n",
    "        fig, ax = mf.train.plot.plot_dist_radial_cdf(x1, x2, rmax=rmax, bins=bins, kind=kind, lw=1.5, colors=[\"red4\", \"black\"])\n",
    "\n",
    "        for name in [\"kv\", \"gaussian\"]:\n",
    "            x = mf.dist.dist_nd.gen_dist(name=name, noise=0.0).sample(n_samples)\n",
    "            x = grab(x)     \n",
    "            hist, edges = ps.points.radial_histogram(x, bins=75, limits=(0.0, rmax))\n",
    "            cdf = np.cumsum(hist)\n",
    "            cdf = cdf / cdf[-1]\n",
    "            psv.plot_profile(cdf, edges=edges, ax=ax, kind=\"line\", color=\"black\", alpha=0.1, ls=\"--\", zorder=0, lw=1.5)\n",
    "        ax.format(xlabel=\"Radius\", ylabel=\"CDF\")\n",
    "        pplt.show()"
   ]
  },
  {
   "cell_type": "markdown",
   "id": "e457ee14-dbc4-4cf3-ab10-e3f5ec26de59",
   "metadata": {},
   "source": [
    "## 2D projections"
   ]
  },
  {
   "cell_type": "code",
   "execution_count": 13,
   "id": "7264c03c-89b6-4d6f-b752-fce6f4a705f4",
   "metadata": {},
   "outputs": [
    {
     "data": {
      "application/vnd.jupyter.widget-view+json": {
       "model_id": "ab154048fef248acb3b6bf0112ca597b",
       "version_major": 2,
       "version_minor": 0
      },
      "text/plain": [
       "interactive(children=(Dropdown(description='dim1', options=(0, 1, 2, 3, 4, 5), value=0), Dropdown(description=…"
      ]
     },
     "metadata": {},
     "output_type": "display_data"
    }
   ],
   "source": [
    "@interact(\n",
    "    dim1=widgets.Dropdown(options=range(cfg.d), value=0),\n",
    "    dim2=widgets.Dropdown(options=range(cfg.d), value=1),\n",
    "    index=widgets.IntSlider(\n",
    "        min=0, \n",
    "        max=(len(checkpoints) - 1), \n",
    "        value=(len(checkpoints) - 1),\n",
    "    ),\n",
    "    n=widgets.FloatLogSlider(min=2.0, max=6.0, value=1.00e+05),\n",
    "    xmax=widgets.FloatSlider(min=0.0, max=6.0, value=3.0),\n",
    "    bins=widgets.IntSlider(min=4, max=150, value=85),\n",
    ")\n",
    "def update(dim1, dim2, index, n, xmax, bins):\n",
    "    if dim1 == dim2:\n",
    "        return\n",
    "    model.load(checkpoints[index][\"path\"], device)\n",
    "\n",
    "    with torch.no_grad():\n",
    "        x1 = grab(dist.sample(int(n)))\n",
    "        x2 = grab(model.sample(int(n)))\n",
    "\n",
    "        fig, axs = pplt.subplots(ncols=2, xspineloc=\"neither\", yspineloc=\"neither\")\n",
    "        for x, ax in zip([x1, x2], axs):\n",
    "            psv.points.plot2d(\n",
    "                x[:, (dim1, dim2)],\n",
    "                bins=bins,\n",
    "                limits=(2 * [(-xmax, xmax)]),\n",
    "                ax=ax,\n",
    "                mask=False,\n",
    "            )\n",
    "        pplt.show()"
   ]
  },
  {
   "cell_type": "markdown",
   "id": "b863272d-7d09-408d-a337-430e28b1303d",
   "metadata": {},
   "source": [
    "### Corner plot"
   ]
  },
  {
   "cell_type": "code",
   "execution_count": null,
   "id": "b78a36fb-e7f4-4fdf-8812-60d50904e140",
   "metadata": {},
   "outputs": [],
   "source": [
    "@interact(\n",
    "    index=widgets.IntSlider(\n",
    "        min=0,\n",
    "        max=(len(checkpoints) - 1),\n",
    "        value=(len(checkpoints) - 1),\n",
    "    ),\n",
    "    n=widgets.FloatLogSlider(min=2, max=6, value=1.00e+05, continuous_update=False),\n",
    "    xmax=widgets.FloatSlider(min=0.0, max=6.0, value=3.0),\n",
    "    bins=widgets.IntSlider(min=4, max=150, value=85),\n",
    ")\n",
    "def update(index, n, xmax, bins):\n",
    "    model.load(checkpoints[index][\"path\"], device)\n",
    "\n",
    "    with torch.no_grad():\n",
    "        x1 = grab(dist.sample(int(n)))\n",
    "        x2 = grab(model.sample(int(n)))\n",
    "\n",
    "        mask = True\n",
    "\n",
    "        grid = psv.CornerGrid(d=x1.shape[1], corner=False)\n",
    "        limits = [(-xmax, xmax)] * x1.shape[1]\n",
    "        grid.plot_points(\n",
    "            x2,\n",
    "            lower=True,\n",
    "            upper=False,\n",
    "            mask=mask,\n",
    "            bins=bins,\n",
    "            limits=limits,\n",
    "            cmap=\"blues\",\n",
    "            diag_kws=dict(color=\"blue7\", lw=1.5),\n",
    "        )\n",
    "        grid.plot_points(\n",
    "            x1,\n",
    "            upper=True,\n",
    "            lower=False,\n",
    "            mask=mask,\n",
    "            bins=bins,\n",
    "            limits=limits,\n",
    "            cmap=\"reds\",\n",
    "            diag_kws=dict(color=\"red7\", lw=1.5),\n",
    "        )\n",
    "        pplt.show()"
   ]
  },
  {
   "cell_type": "code",
   "execution_count": null,
   "id": "567222cd-0bd1-4e7b-a9c3-7839d351639c",
   "metadata": {},
   "outputs": [],
   "source": [
    "@interact(\n",
    "    index=widgets.IntSlider(\n",
    "        min=0,\n",
    "        max=(len(checkpoints) - 1),\n",
    "        value=(len(checkpoints) - 1),\n",
    "    ),\n",
    "    n=widgets.FloatLogSlider(min=2, max=6, value=1.00e+05, continuous_update=False),\n",
    "    xmax=widgets.FloatSlider(min=0.0, max=6.0, value=3.0),\n",
    "    bins=widgets.IntSlider(min=4, max=150, value=85),\n",
    ")\n",
    "def update(index, n, xmax, bins):\n",
    "    model.load(checkpoints[index][\"path\"], device)\n",
    "\n",
    "    with torch.no_grad():\n",
    "        x1 = grab(dist.sample(int(n)))\n",
    "        x2 = grab(model.sample(int(n)))\n",
    "\n",
    "        mask = True\n",
    "\n",
    "        grid = psv.CornerGrid(d=x1.shape[1], corner=False)\n",
    "        limits = [(-xmax, xmax)] * x1.shape[1]\n",
    "        grid.plot_points(\n",
    "            x2,\n",
    "            lower=True,\n",
    "            upper=False,\n",
    "            mask=mask,\n",
    "            bins=bins,\n",
    "            limits=limits,\n",
    "            cmap=\"blues\",\n",
    "            diag_kws=dict(color=\"blue7\", lw=1.5),\n",
    "        )\n",
    "        grid.plot_points(\n",
    "            x1,\n",
    "            upper=True,\n",
    "            lower=False,\n",
    "            mask=mask,\n",
    "            bins=bins,\n",
    "            limits=limits,\n",
    "            cmap=\"reds\",\n",
    "            diag_kws=dict(color=\"red7\", lw=1.5),\n",
    "        )\n",
    "\n",
    "        # Try to identify measurement boundary.\n",
    "        for transform in model.transforms:\n",
    "            direction = transform.direction\n",
    "            x = torch.zeros((500, cfg.d))\n",
    "            amplitudes = torch.linspace(-xmax, xmax, x.shape[0]) * 5.0\n",
    "            for i in range(x.shape[0]):\n",
    "                x[i] = amplitudes[i] * direction\n",
    "            x = grab(x)\n",
    "\n",
    "            grid.plot_points(x, kind=\"scatter\", diag=False, s=0.5, update_limits=False)\n",
    "                \n",
    "        pplt.show()"
   ]
  },
  {
   "cell_type": "markdown",
   "id": "fb9f076f-682b-48ad-af1c-b1a92601a336",
   "metadata": {},
   "source": [
    "### Simulated measurements"
   ]
  },
  {
   "cell_type": "code",
   "execution_count": null,
   "id": "5eb5620e-7888-4afe-9f70-f21696650045",
   "metadata": {},
   "outputs": [],
   "source": [
    "# @interact(\n",
    "#     index=widgets.IntSlider(\n",
    "#         min=0, \n",
    "#         max=(len(checkpoints) - 1), \n",
    "#         value=(len(checkpoints) - 1),\n",
    "#     ),\n",
    "#     n=widgets.FloatLogSlider(min=2, max=6, value=50000),\n",
    "#     log_ymin=widgets.FloatSlider(min=-5.0, max=-1.0, value=-3.0),\n",
    "# )\n",
    "# def update(index, n, log_ymin, kde=False, log=False):\n",
    "#     model.load(checkpoints[index][\"path\"], device=device)\n",
    "\n",
    "#     with torch.no_grad():\n",
    "#         x = send(model.sample(int(n)))\n",
    "\n",
    "#         for diagnostic in unravel(model.diagnostics):\n",
    "#             diagnostic.kde = kde\n",
    "            \n",
    "#         predictions = mf.sim.forward(x, model.transforms, model.diagnostics)\n",
    "\n",
    "#         fig, axs = mf.train.plot.plot_proj_1d(\n",
    "#             [grab(measurement) for measurement in unravel(model.measurements)][:5],\n",
    "#             [grab(prediction) for prediction in unravel(predictions)][:5],\n",
    "#             [grab(diagnostic.bin_edges) for diagnostic in unravel(model.diagnostics)][:5],\n",
    "#             maxcols=7,\n",
    "#             kind=\"line\",\n",
    "#             height=1.25,\n",
    "#             lw=1.5,\n",
    "#         )\n",
    "#         axs.format(ymax=1.25, ymin=(10.0 ** log_ymin))\n",
    "#         if log:\n",
    "#             axs.format(yscale=\"log\")\n",
    "#         plt.show()"
   ]
  },
  {
   "cell_type": "code",
   "execution_count": null,
   "id": "e31ee17f-042d-47d7-9794-5be6b097f377",
   "metadata": {},
   "outputs": [],
   "source": [
    "# @interact(\n",
    "#     index=widgets.IntSlider(\n",
    "#         min=0, \n",
    "#         max=(len(checkpoints) - 1), \n",
    "#         value=(len(checkpoints) - 1),\n",
    "#     ),\n",
    "#     n=widgets.FloatLogSlider(min=2, max=6, value=50000),\n",
    "#     log_ymin=widgets.FloatSlider(min=-5.0, max=-1.0, value=-3.0),\n",
    "# )\n",
    "# def update(index, n, log_ymin, kde=False, log=False):\n",
    "#     model.load(checkpoints[index][\"path\"], device=device)\n",
    "\n",
    "#     with torch.no_grad():\n",
    "#         x = send(model.sample(int(n)))\n",
    "\n",
    "#         for diagnostic in unravel(model.diagnostics):\n",
    "#             diagnostic.kde = kde\n",
    "            \n",
    "#         predictions = mf.sim.forward(x, model.transforms, model.diagnostics)\n",
    "\n",
    "#         y_meas = [grab(meas) for meas in unravel(model.measurements)]\n",
    "#         y_pred = [grab(pred) for pred in unravel(predictions)]\n",
    "#         bin_edges = [grab(diagnostic.bin_edges) for diagnostic in unravel(model.diagnostics)]\n",
    "\n",
    "#         maxcols = 10\n",
    "#         ncols = min(len(y_meas), maxcols)\n",
    "#         nrows = int(np.ceil(len(y_meas) / ncols))    \n",
    "#         figheight = 0.50 * nrows\n",
    "#         figwidth = 0.80 * ncols\n",
    "#         fig, axs = pplt.subplots(\n",
    "#             ncols=ncols, nrows=nrows, figheight=figheight, figwidth=figwidth, space=0.0, xticks=[], yticks=[]\n",
    "#         )\n",
    "#         for i in range(len(y_meas)):\n",
    "#             scale = np.max(y_meas[i])\n",
    "#             psv.plot_profile(y_meas[i] / scale, edges=bin_edges[i], ax=axs[i], lw=1.5, color=\"red4\")\n",
    "#             psv.plot_profile(y_pred[i] / scale, edges=bin_edges[i], ax=axs[i], lw=1.5, color=\"black\")\n",
    "    \n",
    "#         axs.format(ymax=1.25, ymin=(10.0 ** log_ymin))\n",
    "#         if log:\n",
    "#             axs.format(yscale=\"log\")\n",
    "#         plt.show()"
   ]
  },
  {
   "cell_type": "markdown",
   "id": "5e110e59-d7d0-4755-8faa-3c4667829ca6",
   "metadata": {},
   "source": [
    "### Grid warp "
   ]
  },
  {
   "cell_type": "code",
   "execution_count": null,
   "id": "866bffd2-c336-49d9-8c37-99287d63df99",
   "metadata": {},
   "outputs": [],
   "source": [
    "@interact(\n",
    "    index=widgets.IntSlider(\n",
    "        min=0, \n",
    "        max=(len(checkpoints) - 1), \n",
    "        value=(len(checkpoints) - 1),\n",
    "    ),\n",
    "    xmax=widgets.FloatSlider(min=0.0, max=6.0, value=3.0),\n",
    "    n_lines=widgets.IntSlider(min=0.0, max=200, value=100),\n",
    ")\n",
    "def update(index, xmax, n_lines):\n",
    "    model.load(checkpoints[index][\"path\"], device=device)\n",
    "\n",
    "    with torch.no_grad():\n",
    "        fig, axs = pplt.subplots(ncols=2)\n",
    "\n",
    "        res = 150\n",
    "        grid = np.linspace(-3.5 * xmax, 3.5 * xmax, n_lines)\n",
    "        line_points = []\n",
    "        for i in range(len(grid)):\n",
    "            x = np.full(res, grid[i])\n",
    "            y = np.linspace(-xmax, xmax, res)\n",
    "            line_points.append(np.vstack([x, y]).T)\n",
    "            line_points.append(np.vstack([y, x]).T)\n",
    "        \n",
    "        kws = dict(color=\"black\", lw=0.6, alpha=0.25)\n",
    "        \n",
    "        for z in line_points:\n",
    "            axs[0].plot(z[:, 0], z[:, 1], **kws)\n",
    "            z = np.hstack([z, np.zeros((z.shape[0], cfg.d - z.shape[1]))])\n",
    "            z = send(torch.from_numpy(z))\n",
    "            x = grab(model.gen.forward(z))\n",
    "            for ax in axs[1:]:\n",
    "                ax.plot(x[:, 0], x[:, 1], **kws)\n",
    "        \n",
    "        z = model.gen.sample_base(1000)\n",
    "        x = model.gen.forward(z)\n",
    "        z = grab(z)\n",
    "        x = grab(x)\n",
    "        kws = dict(c=\"black\", zorder=999, s=1)\n",
    "        axs[0].scatter(z[:, 0], z[:, 1], **kws)\n",
    "        axs[1].scatter(x[:, 0], x[:, 1], **kws)\n",
    "        axs.format(xlim=(-xmax, xmax), ylim=(-xmax, xmax))\n",
    "        plt.show()"
   ]
  },
  {
   "cell_type": "markdown",
   "id": "c4816896-4fe2-44d9-8b52-f99b801b6445",
   "metadata": {},
   "source": [
    "### Flow trajectory"
   ]
  },
  {
   "cell_type": "code",
   "execution_count": null,
   "id": "c30d7353-b103-40e4-99e4-1e694ccb7ada",
   "metadata": {},
   "outputs": [],
   "source": [
    "@interact(\n",
    "    index=widgets.IntSlider(\n",
    "        min=0, \n",
    "        max=(len(checkpoints) - 1), \n",
    "        value=(len(checkpoints) - 1),\n",
    "    ),\n",
    "    n=widgets.FloatLogSlider(min=2, max=6, value=1.00e+05),\n",
    "    xmax=widgets.FloatSlider(min=0.0, max=6.0, value=3.0),\n",
    "    bins=widgets.IntSlider(min=4, max=150, value=75),\n",
    ")\n",
    "def update(index, n, xmax, bins):        \n",
    "    model.load(checkpoints[index][\"path\"], device)\n",
    "\n",
    "    with torch.no_grad():\n",
    "        z = model.gen.sample_base(int(n))\n",
    "        \n",
    "        try:\n",
    "            xt = model.gen.forward_steps(z)\n",
    "        except:\n",
    "            print(\"`model.gen` does not have `forward_steps` method.\")\n",
    "    \n",
    "        fig, axs = pplt.subplots(\n",
    "            figheight=2.0, \n",
    "            ncols=len(xt), \n",
    "            space=None,\n",
    "            xticks=[],\n",
    "            yticks=[], \n",
    "            xspineloc=\"neither\",\n",
    "            yspineloc=\"neither\",\n",
    "        )\n",
    "        limits = 2 * [(-xmax, xmax)]\n",
    "        for ax, x in zip(axs, xt):\n",
    "            x = grab(x)\n",
    "            ax.hist2d(x[:, 0], x[:, 1], bins=bins, range=limits)\n",
    "        axs.format(xlim=limits[0], ylim=limits[1])\n",
    "        plt.show()"
   ]
  },
  {
   "cell_type": "code",
   "execution_count": null,
   "id": "dda68095-72f1-4899-9be6-305e3ef7c86a",
   "metadata": {},
   "outputs": [],
   "source": []
  },
  {
   "cell_type": "code",
   "execution_count": null,
   "id": "61ac1c15-63d9-4ced-b5df-ea3fb5a61289",
   "metadata": {},
   "outputs": [],
   "source": []
  }
 ],
 "metadata": {
  "kernelspec": {
   "display_name": "ment-flow",
   "language": "python",
   "name": "ment-flow"
  },
  "language_info": {
   "codemirror_mode": {
    "name": "ipython",
    "version": 3
   },
   "file_extension": ".py",
   "mimetype": "text/x-python",
   "name": "python",
   "nbconvert_exporter": "python",
   "pygments_lexer": "ipython3",
   "version": "3.8.18"
  }
 },
 "nbformat": 4,
 "nbformat_minor": 5
}
