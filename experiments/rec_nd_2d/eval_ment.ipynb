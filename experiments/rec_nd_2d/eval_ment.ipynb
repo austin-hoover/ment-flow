{
 "cells": [
  {
   "cell_type": "markdown",
   "id": "4fef2e93-45a7-44c1-86ee-0b737cc26334",
   "metadata": {},
   "source": [
    "# Evaluate MENT model"
   ]
  },
  {
   "cell_type": "code",
   "execution_count": null,
   "id": "7aef45e3-614f-4027-bdf5-cf4ac7be3285",
   "metadata": {},
   "outputs": [],
   "source": [
    "import os\n",
    "import pickle\n",
    "import sys\n",
    "\n",
    "import matplotlib.pyplot as plt\n",
    "import numpy as np\n",
    "import proplot as pplt\n",
    "import psdist as ps\n",
    "import psdist.visualization as psv\n",
    "import scipy.ndimage\n",
    "import torch\n",
    "import zuko\n",
    "from ipywidgets import interact\n",
    "from ipywidgets import widgets\n",
    "\n",
    "import mentflow as mf\n",
    "from mentflow.utils import grab\n",
    "from mentflow.utils import unravel\n",
    "\n",
    "from experiments.load import load_ment_run\n",
    "from setup import make_dist"
   ]
  },
  {
   "cell_type": "code",
   "execution_count": null,
   "id": "4abd85f5-edd9-4cac-b558-0caf6b7ffe20",
   "metadata": {},
   "outputs": [],
   "source": [
    "mf.train.plot.set_proplot_rc()"
   ]
  },
  {
   "cell_type": "markdown",
   "id": "b49757bf-37e9-4bab-9de2-325c0f09592e",
   "metadata": {},
   "source": [
    "## Settings"
   ]
  },
  {
   "cell_type": "code",
   "execution_count": null,
   "id": "fb44e782-5c90-40cf-aeb0-9690f330a7ca",
   "metadata": {},
   "outputs": [],
   "source": [
    "device = \"cpu\"\n",
    "precision = torch.float32\n",
    "\n",
    "def send(x):\n",
    "    return x.type(precision).to(device)"
   ]
  },
  {
   "cell_type": "markdown",
   "id": "a82731c4-d798-44bd-b2d2-a2a1e914679c",
   "metadata": {},
   "source": [
    "## Load data"
   ]
  },
  {
   "cell_type": "code",
   "execution_count": null,
   "id": "e3c34342-1c5f-40e3-9791-6395e61b5710",
   "metadata": {},
   "outputs": [],
   "source": [
    "script_name = \"train_ment\"\n",
    "timestamp = 240128211353\n",
    "data_dir = f\"./outputs/{script_name}/{timestamp}/\""
   ]
  },
  {
   "cell_type": "code",
   "execution_count": null,
   "id": "41cdc4c0-34ec-426f-9ef3-8366a91de5e6",
   "metadata": {},
   "outputs": [],
   "source": [
    "run = load_ment_run(data_dir, device=device)\n",
    "\n",
    "cfg = run[\"config\"]\n",
    "history = run[\"history\"]\n",
    "model = run[\"model\"]\n",
    "checkpoints = run[\"checkpoints\"]"
   ]
  },
  {
   "cell_type": "code",
   "execution_count": null,
   "id": "aca69e75-279e-49e1-b9e1-cafdbfeb571c",
   "metadata": {},
   "outputs": [],
   "source": [
    "dist = make_dist(cfg)"
   ]
  },
  {
   "cell_type": "markdown",
   "id": "225ed3bb-d9d6-4b02-89d5-4e06c2e25e79",
   "metadata": {},
   "source": [
    "## Scalar history"
   ]
  },
  {
   "cell_type": "code",
   "execution_count": null,
   "id": "04f25bbb-e503-4d3e-94ec-006702b1a09c",
   "metadata": {},
   "outputs": [],
   "source": [
    "#"
   ]
  },
  {
   "cell_type": "markdown",
   "id": "b532ede2-99d1-49c1-992a-f99bcfb59ab2",
   "metadata": {},
   "source": [
    "## Evaluation"
   ]
  },
  {
   "cell_type": "markdown",
   "id": "9614a60c-4ddb-4b99-9222-e240d942bfad",
   "metadata": {},
   "source": [
    "### Radial PDF"
   ]
  },
  {
   "cell_type": "code",
   "execution_count": null,
   "id": "2f43eddc-3776-4845-a90d-d7c110b84cb6",
   "metadata": {},
   "outputs": [],
   "source": [
    "@interact(\n",
    "    index=widgets.IntSlider(\n",
    "        min=0, \n",
    "        max=(len(checkpoints) - 1), \n",
    "        value=(len(checkpoints) - 1),\n",
    "    ),\n",
    "    n_samples=widgets.FloatLogSlider(min=2, max=6, value=1.00e+05),\n",
    "    rmax=widgets.FloatSlider(min=0.0, max=6.0, value=3.5),\n",
    "    bins=widgets.IntSlider(min=4, max=150, value=50),\n",
    "    kind=[\"step\", \"line\"],\n",
    ")\n",
    "def update(index, n_samples, rmax, bins, kind):\n",
    "    model.load(checkpoints[index][\"path\"], device)\n",
    "\n",
    "    with torch.no_grad():\n",
    "        n_samples = int(n_samples)\n",
    "        x1 = grab(dist.sample(n_samples))\n",
    "        x2 = grab(model.sample(n_samples))\n",
    "\n",
    "        colors = [\"red4\", \"black\"]\n",
    "        normalize = True\n",
    "        \n",
    "        bin_edges = np.linspace(0.0, rmax, bins + 1)\n",
    "    \n",
    "        r1 = np.linalg.norm(x1, axis=1)\n",
    "        r2 = np.linalg.norm(x2, axis=1)\n",
    "        hist_r1, _ = np.histogram(r1, bins=bin_edges, density=True)\n",
    "        hist_r2, _ = np.histogram(r2, bins=bin_edges, density=True)\n",
    "        if normalize:\n",
    "            for i in range(len(bin_edges) - 1):\n",
    "                rmin = bin_edges[i]\n",
    "                rmax = bin_edges[i + 1]\n",
    "                hist_r1[i] = hist_r1[i] / mf.utils.sphere_shell_volume(rmin=rmin, rmax=rmax, d=x1.shape[1])\n",
    "                hist_r2[i] = hist_r2[i] / mf.utils.sphere_shell_volume(rmin=rmin, rmax=rmax, d=x2.shape[1])\n",
    "        \n",
    "        fig, ax = pplt.subplots(figsize=(3.0, 2.0))\n",
    "        scale = hist_r1.max()\n",
    "        psv.plot_profile(hist_r1 / scale, edges=bin_edges, ax=ax, color=colors[0], kind=\"step\", lw=1.5)\n",
    "        psv.plot_profile(hist_r2 / scale, edges=bin_edges, ax=ax, color=colors[1], kind=\"step\", lw=1.5)\n",
    "        ax.format(ymax=1.1)\n",
    "        \n",
    "        r = np.linspace(0.0, rmax, 100)\n",
    "        ax.plot(r, np.exp(-0.5 * r**2), color=\"black\", alpha=0.1, ls=\"--\", zorder=0, lw=1.5)          \n",
    "        \n",
    "        ax.format(xlabel=\"Radius\", ylabel=\"PDF\")\n",
    "        pplt.show()"
   ]
  },
  {
   "cell_type": "markdown",
   "id": "04336fab-7a95-4b31-a5d0-3d180f3e968a",
   "metadata": {},
   "source": [
    "### Radial CDF"
   ]
  },
  {
   "cell_type": "code",
   "execution_count": null,
   "id": "f5a5cf91-948b-4cf4-8e30-95e5a138cd9b",
   "metadata": {},
   "outputs": [],
   "source": [
    "@interact(\n",
    "    index=widgets.IntSlider(\n",
    "        min=0, \n",
    "        max=(len(checkpoints) - 1), \n",
    "        value=(len(checkpoints) - 1),\n",
    "    ),\n",
    "    n_samples=widgets.FloatLogSlider(min=2, max=6, value=1.00e+05),\n",
    "    rmax=widgets.FloatSlider(min=0.0, max=6.0, value=3.0),\n",
    "    bins=widgets.IntSlider(min=4, max=150, value=50),\n",
    "    kind=[\"step\", \"line\"],\n",
    ")\n",
    "def update(index, n_samples, rmax, bins, kind):\n",
    "    model.load(checkpoints[index][\"path\"], device)\n",
    "\n",
    "    with torch.no_grad():\n",
    "        n_samples = int(n_samples)\n",
    "        x1 = grab(dist.sample(n_samples))\n",
    "        x2 = grab(model.sample(n_samples))\n",
    "        \n",
    "        fig, ax = mf.train.plot.plot_dist_radial_cdf(x1, x2, rmax=rmax, bins=bins, kind=kind, lw=1.5, colors=[\"red4\", \"black\"])\n",
    "\n",
    "        for name in [\"kv\", \"gaussian\"]:\n",
    "            x = mf.dist.dist_nd.gen_dist(name=name, noise=0.0).sample(n_samples)\n",
    "            x = grab(x)     \n",
    "            hist, edges = ps.points.radial_histogram(x, bins=75, limits=(0.0, rmax))\n",
    "            cdf = np.cumsum(hist)\n",
    "            cdf = cdf / cdf[-1]\n",
    "            psv.plot_profile(cdf, edges=edges, ax=ax, kind=\"line\", color=\"black\", alpha=0.1, ls=\"--\", zorder=0, lw=1.5)\n",
    "        ax.format(xlabel=\"Radius\", ylabel=\"CDF\")\n",
    "        pplt.show()"
   ]
  },
  {
   "cell_type": "markdown",
   "id": "e457ee14-dbc4-4cf3-ab10-e3f5ec26de59",
   "metadata": {},
   "source": [
    "## 2D projections"
   ]
  },
  {
   "cell_type": "code",
   "execution_count": null,
   "id": "7264c03c-89b6-4d6f-b752-fce6f4a705f4",
   "metadata": {},
   "outputs": [],
   "source": [
    "@interact(\n",
    "    dim1=widgets.Dropdown(options=range(cfg.d), value=0),\n",
    "    dim2=widgets.Dropdown(options=range(cfg.d), value=1),\n",
    "    index=widgets.IntSlider(\n",
    "        min=0, \n",
    "        max=(len(checkpoints) - 1), \n",
    "        value=(len(checkpoints) - 1),\n",
    "    ),\n",
    "    n=widgets.FloatLogSlider(min=2.0, max=6.0, value=1.00e+05),\n",
    "    xmax=widgets.FloatSlider(min=0.0, max=6.0, value=3.0),\n",
    "    bins=widgets.IntSlider(min=4, max=150, value=85),\n",
    ")\n",
    "def update(dim1, dim2, index, n, xmax, bins):\n",
    "    if dim1 == dim2:\n",
    "        return\n",
    "    model.load(checkpoints[index][\"path\"], device)\n",
    "\n",
    "    with torch.no_grad():\n",
    "        x1 = grab(dist.sample(int(n)))\n",
    "        x2 = grab(model.sample(int(n)))\n",
    "\n",
    "        fig, axs = pplt.subplots(ncols=2, xspineloc=\"neither\", yspineloc=\"neither\")\n",
    "        for x, ax in zip([x1, x2], axs):\n",
    "            psv.points.plot2d(\n",
    "                x[:, (dim1, dim2)],\n",
    "                bins=bins,\n",
    "                limits=(2 * [(-xmax, xmax)]),\n",
    "                ax=ax,\n",
    "                mask=False,\n",
    "            )\n",
    "        pplt.show()"
   ]
  },
  {
   "cell_type": "markdown",
   "id": "b863272d-7d09-408d-a337-430e28b1303d",
   "metadata": {},
   "source": [
    "### Corner plot"
   ]
  },
  {
   "cell_type": "code",
   "execution_count": null,
   "id": "b78a36fb-e7f4-4fdf-8812-60d50904e140",
   "metadata": {},
   "outputs": [],
   "source": [
    "@interact(\n",
    "    index=widgets.IntSlider(\n",
    "        min=0,\n",
    "        max=(len(checkpoints) - 1),\n",
    "        value=(len(checkpoints) - 1),\n",
    "    ),\n",
    "    n=widgets.FloatLogSlider(min=2, max=6, value=1.00e+05, continuous_update=False),\n",
    "    xmax=widgets.FloatSlider(min=0.0, max=6.0, value=3.0),\n",
    "    bins=widgets.IntSlider(min=4, max=150, value=85),\n",
    ")\n",
    "def update(index, n, xmax, bins):\n",
    "    model.load(checkpoints[index][\"path\"], device)\n",
    "\n",
    "    with torch.no_grad():\n",
    "        x1 = grab(dist.sample(int(n)))\n",
    "        x2 = grab(model.sample(int(n)))\n",
    "\n",
    "        mask = True\n",
    "\n",
    "        grid = psv.CornerGrid(d=x1.shape[1], corner=False)\n",
    "        limits = [(-xmax, xmax)] * x1.shape[1]\n",
    "        grid.plot_points(\n",
    "            x2,\n",
    "            lower=True,\n",
    "            upper=False,\n",
    "            mask=mask,\n",
    "            bins=bins,\n",
    "            limits=limits,\n",
    "            cmap=\"blues\",\n",
    "            diag_kws=dict(color=\"blue7\", lw=1.5),\n",
    "        )\n",
    "        grid.plot_points(\n",
    "            x1,\n",
    "            upper=True,\n",
    "            lower=False,\n",
    "            mask=mask,\n",
    "            bins=bins,\n",
    "            limits=limits,\n",
    "            cmap=\"reds\",\n",
    "            diag_kws=dict(color=\"red7\", lw=1.5),\n",
    "        )\n",
    "        pplt.show()"
   ]
  },
  {
   "cell_type": "markdown",
   "id": "fb9f076f-682b-48ad-af1c-b1a92601a336",
   "metadata": {},
   "source": [
    "### Simulated measurements"
   ]
  },
  {
   "cell_type": "code",
   "execution_count": null,
   "id": "5eb5620e-7888-4afe-9f70-f21696650045",
   "metadata": {},
   "outputs": [],
   "source": [
    "@interact(\n",
    "    index=widgets.IntSlider(\n",
    "        min=0, \n",
    "        max=(len(checkpoints) - 1), \n",
    "        value=(len(checkpoints) - 1),\n",
    "    ),\n",
    "    n=widgets.FloatLogSlider(min=2, max=6, value=50000),\n",
    "    log_ymin=widgets.FloatSlider(min=-5.0, max=-1.0, value=-3.0),\n",
    "    maxcols=widgets.IntSlider(min=4, max=12, value=7),\n",
    "    figwidthscale=widgets.FloatSlider(min=0.5, max=2.5, value=1.25),\n",
    ")\n",
    "def update(index, n, log_ymin, maxcols, figwidthscale, log=False):\n",
    "    model.load(checkpoints[index][\"path\"], device=device)\n",
    "\n",
    "    with torch.no_grad():\n",
    "        # Generate samples from the model.\n",
    "        x = model.sample(int(n))\n",
    "        x = send(x)\n",
    "\n",
    "        # Compute projections.            \n",
    "        predictions = mf.sim.forward(x, model.transforms, model.diagnostics)\n",
    "        \n",
    "        y_meas = [grab(meas) for meas in unravel(model.measurements)]\n",
    "        y_pred = [grab(pred) for pred in unravel(predictions)]      \n",
    "        coords = [\n",
    "            [grab(c) for c in diagnostic.bin_coords] \n",
    "            for diagnostic in unravel(model.diagnostics)\n",
    "        ]\n",
    "\n",
    "        # Setup figure.\n",
    "        ncols = min(len(y_meas), maxcols)\n",
    "        nrows = 2 * int(np.ceil(len(y_meas) / ncols))\n",
    "        \n",
    "        fig, axs = pplt.subplots(\n",
    "            ncols=ncols, nrows=nrows, \n",
    "            figwidth=min(figwidthscale * ncols, 10.0),\n",
    "            xspineloc=\"neither\",\n",
    "            yspineloc=\"neither\",\n",
    "            space=0.0,\n",
    "        )\n",
    "\n",
    "        # Plot truth in first row, predictions in second row, etc.\n",
    "        kws = dict(\n",
    "            norm=(\"log\" if log else None),\n",
    "        )\n",
    "        i = 0\n",
    "        for row in range(0, nrows, 2):\n",
    "            for col in range(ncols):    \n",
    "                if i < len(y_meas):\n",
    "                    ax_index = row * ncols + col\n",
    "                    scale = np.max(y_meas[i])        \n",
    "                    psv.image.plot2d(y_meas[i] / scale, coords=coords[i], ax=axs[ax_index], **kws)\n",
    "                    psv.image.plot2d(y_pred[i] / scale, coords=coords[i], ax=axs[ax_index + ncols], **kws)\n",
    "                i += 1\n",
    "                \n",
    "        plt.show()"
   ]
  }
 ],
 "metadata": {
  "kernelspec": {
   "display_name": "ment-flow",
   "language": "python",
   "name": "ment-flow"
  },
  "language_info": {
   "codemirror_mode": {
    "name": "ipython",
    "version": 3
   },
   "file_extension": ".py",
   "mimetype": "text/x-python",
   "name": "python",
   "nbconvert_exporter": "python",
   "pygments_lexer": "ipython3",
   "version": "3.8.18"
  }
 },
 "nbformat": 4,
 "nbformat_minor": 5
}
