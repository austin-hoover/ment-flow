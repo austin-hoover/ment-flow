{
 "cells": [
  {
   "cell_type": "markdown",
   "id": "ffbfb671-f222-490c-a892-9f3752d1f632",
   "metadata": {},
   "source": [
    "# Train MENT"
   ]
  },
  {
   "cell_type": "code",
   "execution_count": null,
   "id": "010d3ae3-ca52-4bb8-ac9a-edea61e3468f",
   "metadata": {},
   "outputs": [],
   "source": [
    "import hydra\n",
    "import numpy as np\n",
    "import proplot as pplt\n",
    "import torch\n",
    "from omegaconf import DictConfig\n",
    "from omegaconf import OmegaConf\n",
    "from pprint import pprint\n",
    "\n",
    "import mentflow as mf\n",
    "\n",
    "import setup"
   ]
  },
  {
   "cell_type": "code",
   "execution_count": null,
   "id": "76d0296b-61a1-4698-ae7a-9e292b164c62",
   "metadata": {
    "scrolled": true
   },
   "outputs": [],
   "source": [
    "with hydra.initialize(version_base=None, config_path=\"../config\"):\n",
    "    cfg = hydra.compose(\n",
    "        config_name=\"rec_nd_2d_ment.yaml\",\n",
    "        overrides=[\n",
    "            \"d=3\",\n",
    "            \"seed=21\",\n",
    "            \"dist.name=rings\",\n",
    "            \"meas.optics=corner\",\n",
    "            \"meas.bins=20\",\n",
    "\n",
    "            \"model.mode=sample\",\n",
    "            \"model.samp.method=grid\",\n",
    "            \"model.samp.res=50\",\n",
    "            \"model.samp.noise=1.0\",\n",
    "            \"model.verbose=true\",\n",
    "            \n",
    "            \"train.omega=1.0\",\n",
    "            \"train.batch_size=1000000\",\n",
    "            \n",
    "            \"eval.dist=none\",\n",
    "        ],\n",
    "    )\n",
    "    print(OmegaConf.to_yaml(cfg))"
   ]
  },
  {
   "cell_type": "code",
   "execution_count": null,
   "id": "2e24fdaa-9f2f-4642-80ff-1107c6a0cacc",
   "metadata": {},
   "outputs": [],
   "source": [
    "transforms, diagnostics, measurements = setup.generate_training_data(\n",
    "    cfg,\n",
    "    make_dist=setup.make_dist,\n",
    "    make_diagnostics=setup.make_diagnostics,\n",
    "    make_transforms=setup.make_transforms,\n",
    ")\n",
    "\n",
    "model = setup.setup_ment_model(\n",
    "    cfg,\n",
    "    transforms=transforms,\n",
    "    diagnostics=diagnostics,\n",
    "    measurements=measurements,\n",
    ")\n",
    "\n",
    "setup.train_ment_model(\n",
    "    cfg,\n",
    "    model=model,\n",
    "    setup_plot=setup.setup_plot,\n",
    "    setup_eval=setup.setup_eval,\n",
    "    output_dir=None,\n",
    "    notebook=True,\n",
    ")"
   ]
  },
  {
   "cell_type": "code",
   "execution_count": null,
   "id": "74d39cd4-9f47-4d06-a33f-0d06a6061b79",
   "metadata": {},
   "outputs": [],
   "source": []
  }
 ],
 "metadata": {
  "kernelspec": {
   "display_name": "ment-flow",
   "language": "python",
   "name": "ment-flow"
  },
  "language_info": {
   "codemirror_mode": {
    "name": "ipython",
    "version": 3
   },
   "file_extension": ".py",
   "mimetype": "text/x-python",
   "name": "python",
   "nbconvert_exporter": "python",
   "pygments_lexer": "ipython3",
   "version": "3.8.18"
  }
 },
 "nbformat": 4,
 "nbformat_minor": 5
}
