{
 "cells": [
  {
   "cell_type": "markdown",
   "id": "4fef2e93-45a7-44c1-86ee-0b737cc26334",
   "metadata": {},
   "source": [
    "# Evaluate 2D MENT model"
   ]
  },
  {
   "cell_type": "code",
   "execution_count": null,
   "id": "7aef45e3-614f-4027-bdf5-cf4ac7be3285",
   "metadata": {},
   "outputs": [],
   "source": [
    "import os\n",
    "import sys\n",
    "import time\n",
    "\n",
    "import matplotlib.pyplot as plt\n",
    "import numpy as np\n",
    "import proplot as pplt\n",
    "import psdist as ps\n",
    "import psdist.visualization as psv\n",
    "import torch\n",
    "from ipywidgets import interact\n",
    "from ipywidgets import widgets\n",
    "\n",
    "import mentflow as mf\n",
    "from mentflow.train.plot import set_proplot_rc\n",
    "from mentflow.train.plot import plot_proj_1d\n",
    "from mentflow.utils import grab\n",
    "from mentflow.utils import unravel\n",
    "\n",
    "sys.path.append(\"../../..\")\n",
    "from experiments.load import load_ment_run\n",
    "from experiments.rec_2d.setup import make_distribution"
   ]
  },
  {
   "cell_type": "code",
   "execution_count": null,
   "id": "e9e77687-3945-4d94-b5c3-ceef8d9dc3fc",
   "metadata": {},
   "outputs": [],
   "source": [
    "set_proplot_rc()"
   ]
  },
  {
   "cell_type": "markdown",
   "id": "a82731c4-d798-44bd-b2d2-a2a1e914679c",
   "metadata": {},
   "source": [
    "## Load data"
   ]
  },
  {
   "cell_type": "code",
   "execution_count": null,
   "id": "e3c34342-1c5f-40e3-9791-6395e61b5710",
   "metadata": {},
   "outputs": [],
   "source": [
    "script_name = \"train_ment\"\n",
    "timestamp = 240412120752\n",
    "data_dir = f\"./outputs/{script_name}/{timestamp}/\""
   ]
  },
  {
   "cell_type": "code",
   "execution_count": null,
   "id": "57cc7aa8-ca7e-4408-807d-3b06fdf105af",
   "metadata": {},
   "outputs": [],
   "source": [
    "run = load_ment_run(data_dir)\n",
    "\n",
    "cfg = run[\"config\"]\n",
    "history = run[\"history\"]\n",
    "model = run[\"model\"]\n",
    "checkpoints = run[\"checkpoints\"]"
   ]
  },
  {
   "cell_type": "code",
   "execution_count": null,
   "id": "4ab624bc-077e-42b8-a9cf-5b1e2396df23",
   "metadata": {},
   "outputs": [],
   "source": [
    "distribution = make_distribution(cfg)"
   ]
  },
  {
   "cell_type": "markdown",
   "id": "b532ede2-99d1-49c1-992a-f99bcfb59ab2",
   "metadata": {},
   "source": [
    "## Evaluation"
   ]
  },
  {
   "cell_type": "markdown",
   "id": "04336fab-7a95-4b31-a5d0-3d180f3e968a",
   "metadata": {},
   "source": [
    "### Density"
   ]
  },
  {
   "cell_type": "code",
   "execution_count": null,
   "id": "f5a5cf91-948b-4cf4-8e30-95e5a138cd9b",
   "metadata": {},
   "outputs": [],
   "source": [
    "@interact(\n",
    "    index=widgets.IntSlider(\n",
    "        min=0,\n",
    "        max=(len(checkpoints) - 1),\n",
    "        value=(len(checkpoints) - 1),\n",
    "    ),\n",
    "    size=widgets.FloatLogSlider(min=2, max=6, value=1.00e05),\n",
    "    xmax=widgets.FloatSlider(min=0.0, max=6.0, value=3.0),\n",
    "    bins=widgets.IntSlider(min=4, max=150, value=125),\n",
    ")\n",
    "def update(index: int, size: int, xmax: float, bins: int):\n",
    "    model.load(checkpoints[index][\"path\"], device=\"cpu\")\n",
    "    \n",
    "    size = int(size)\n",
    "    x_pred = grab(model.sample(size))\n",
    "    x_true = grab(distribution.sample(size))\n",
    "\n",
    "    fig, axs = pplt.subplots(ncols=2, xspineloc=\"neither\", yspineloc=\"neither\", space=0)\n",
    "    for ax, x in zip(axs, [x_true, x_pred]):\n",
    "        ax.hist2d(x[:, 0], x[:, 1], bins=bins, range=[(-xmax, xmax), (-xmax, xmax)])\n",
    "    pplt.show()"
   ]
  },
  {
   "cell_type": "markdown",
   "id": "fb9f076f-682b-48ad-af1c-b1a92601a336",
   "metadata": {},
   "source": [
    "### Projections"
   ]
  },
  {
   "cell_type": "code",
   "execution_count": null,
   "id": "5eb5620e-7888-4afe-9f70-f21696650045",
   "metadata": {},
   "outputs": [],
   "source": [
    "@interact(\n",
    "    index=widgets.IntSlider(\n",
    "        min=0,\n",
    "        max=(len(checkpoints) - 1),\n",
    "        value=(len(checkpoints) - 1),\n",
    "    ),\n",
    "    size=widgets.FloatLogSlider(min=2, max=6, value=50000),\n",
    "    log_ymin=widgets.FloatSlider(min=-5.0, max=-1.0, value=-3.0),\n",
    ")\n",
    "def update(index: int, size: float, log_ymin: float, kde: bool = False, log: bool = False):\n",
    "    # Load model parameters.\n",
    "    model.load(checkpoints[index][\"path\"], device=\"cpu\")\n",
    "\n",
    "    # Plot settigns\n",
    "    kind = \"line\"\n",
    "    lw = 1.25\n",
    "    colors = [\"red4\", \"black\"]\n",
    "\n",
    "    # Simulate the measurements.\n",
    "    size = int(size)\n",
    "    x_pred = model.sample(int(size))\n",
    "\n",
    "    for diagnostic in unravel(model.diagnostics):\n",
    "        diagnostic.kde = kde\n",
    "\n",
    "    predictions = mf.simulate.forward(x_pred, model.transforms, model.diagnostics)\n",
    "\n",
    "    # Plot simulated vs. measured profiles.\n",
    "    y_pred = [grab(pred) for pred in unravel(predictions)]\n",
    "    y_meas = [grab(meas) for meas in unravel(model.measurements)]\n",
    "    edges = [grab(diag.edges) for diag in unravel(model.diagnostics)]\n",
    "\n",
    "    fig, axs = plot_proj_1d(\n",
    "        y_pred,\n",
    "        y_meas,\n",
    "        edges,\n",
    "        maxcols=7,\n",
    "        kind=kind,\n",
    "        height=1.25,\n",
    "        lw=lw,\n",
    "        colors=colors,\n",
    "    )\n",
    "    axs.format(ymax=1.25, ymin=(10.0**log_ymin))\n",
    "    if log:\n",
    "        axs.format(yscale=\"log\")\n",
    "    pplt.show()"
   ]
  },
  {
   "cell_type": "code",
   "execution_count": null,
   "id": "61ac1c15-63d9-4ced-b5df-ea3fb5a61289",
   "metadata": {},
   "outputs": [],
   "source": []
  }
 ],
 "metadata": {
  "kernelspec": {
   "display_name": "analysis",
   "language": "python",
   "name": "analysis"
  },
  "language_info": {
   "codemirror_mode": {
    "name": "ipython",
    "version": 3
   },
   "file_extension": ".py",
   "mimetype": "text/x-python",
   "name": "python",
   "nbconvert_exporter": "python",
   "pygments_lexer": "ipython3",
   "version": "3.11.10"
  }
 },
 "nbformat": 4,
 "nbformat_minor": 5
}
