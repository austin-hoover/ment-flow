{
 "cells": [
  {
   "cell_type": "markdown",
   "id": "4fef2e93-45a7-44c1-86ee-0b737cc26334",
   "metadata": {},
   "source": [
    "# Evaluate 2D MENT model"
   ]
  },
  {
   "cell_type": "code",
   "execution_count": null,
   "id": "7aef45e3-614f-4027-bdf5-cf4ac7be3285",
   "metadata": {},
   "outputs": [],
   "source": [
    "import os\n",
    "import pickle\n",
    "import sys\n",
    "\n",
    "import matplotlib.pyplot as plt\n",
    "import numpy as np\n",
    "import proplot as pplt\n",
    "import psdist as ps\n",
    "import psdist.visualization as psv\n",
    "import torch\n",
    "from ipywidgets import interact\n",
    "from ipywidgets import widgets\n",
    "\n",
    "import mentflow as mf\n",
    "from mentflow.utils import grab\n",
    "from mentflow.utils import unravel\n",
    "\n",
    "from experiments.load import load_ment_run\n",
    "from setup import make_dist"
   ]
  },
  {
   "cell_type": "markdown",
   "id": "a880abb5-7396-4ebc-9473-ab8cf59ccf5f",
   "metadata": {},
   "source": [
    "## Settings"
   ]
  },
  {
   "cell_type": "code",
   "execution_count": null,
   "id": "145dce7a-3215-4fa6-b262-4b5b53395093",
   "metadata": {},
   "outputs": [],
   "source": [
    "device = \"cpu\"\n",
    "precision = torch.float32\n",
    "\n",
    "def send(x):\n",
    "    return x.type(precision).to(device)"
   ]
  },
  {
   "cell_type": "markdown",
   "id": "a82731c4-d798-44bd-b2d2-a2a1e914679c",
   "metadata": {},
   "source": [
    "## Load data"
   ]
  },
  {
   "cell_type": "code",
   "execution_count": null,
   "id": "e3c34342-1c5f-40e3-9791-6395e61b5710",
   "metadata": {},
   "outputs": [],
   "source": [
    "script_name = \"train_ment\"\n",
    "timestamp = 240123092736\n",
    "data_dir = f\"./outputs/{script_name}/{timestamp}/\""
   ]
  },
  {
   "cell_type": "code",
   "execution_count": null,
   "id": "57cc7aa8-ca7e-4408-807d-3b06fdf105af",
   "metadata": {},
   "outputs": [],
   "source": [
    "run = load_ment_run(data_dir, device=\"cpu\")\n",
    "\n",
    "cfg = run[\"config\"]\n",
    "history = run[\"history\"]\n",
    "model = run[\"model\"]\n",
    "checkpoints = run[\"checkpoints\"]"
   ]
  },
  {
   "cell_type": "code",
   "execution_count": null,
   "id": "4ab624bc-077e-42b8-a9cf-5b1e2396df23",
   "metadata": {},
   "outputs": [],
   "source": [
    "dist = make_dist(cfg)"
   ]
  },
  {
   "cell_type": "markdown",
   "id": "b532ede2-99d1-49c1-992a-f99bcfb59ab2",
   "metadata": {},
   "source": [
    "## Evaluation"
   ]
  },
  {
   "cell_type": "markdown",
   "id": "04336fab-7a95-4b31-a5d0-3d180f3e968a",
   "metadata": {},
   "source": [
    "### Density"
   ]
  },
  {
   "cell_type": "code",
   "execution_count": null,
   "id": "f5a5cf91-948b-4cf4-8e30-95e5a138cd9b",
   "metadata": {},
   "outputs": [],
   "source": [
    "@interact(\n",
    "    index=widgets.IntSlider(\n",
    "        min=0, \n",
    "        max=(len(checkpoints) - 1), \n",
    "        value=(len(checkpoints) - 1),\n",
    "    ),\n",
    "    n=widgets.FloatLogSlider(min=2, max=6, value=1.00e+05),\n",
    "    xmax=widgets.FloatSlider(min=0.0, max=6.0, value=3.0),\n",
    "    bins=widgets.IntSlider(min=4, max=150, value=125),\n",
    ")\n",
    "def update(index, n, xmax, bins):\n",
    "    model.load(checkpoints[index][\"path\"], device=\"cpu\")\n",
    "\n",
    "    with torch.no_grad():\n",
    "        x_pred = grab(model.sample(int(n)))\n",
    "        x_true = grab(dist.sample(int(n)))\n",
    "        \n",
    "        fig, axs = pplt.subplots(ncols=2, xspineloc=\"neither\", yspineloc=\"neither\", space=0)\n",
    "        kws = dict()\n",
    "        limits = 2 * [(-xmax, xmax)]\n",
    "        axs[0].hist2d(x_true[:, 0], x_true[:, 1], bins=bins, range=limits, **kws)\n",
    "        axs[1].hist2d(x_pred[:, 0], x_pred[:, 1], bins=bins, range=limits, **kws)\n",
    "        pplt.show()"
   ]
  },
  {
   "cell_type": "markdown",
   "id": "fb9f076f-682b-48ad-af1c-b1a92601a336",
   "metadata": {},
   "source": [
    "### Projections"
   ]
  },
  {
   "cell_type": "code",
   "execution_count": null,
   "id": "5eb5620e-7888-4afe-9f70-f21696650045",
   "metadata": {},
   "outputs": [],
   "source": [
    "@interact(\n",
    "    index=widgets.IntSlider(\n",
    "        min=0, \n",
    "        max=(len(checkpoints) - 1), \n",
    "        value=(len(checkpoints) - 1),\n",
    "    ),\n",
    "    n=widgets.FloatLogSlider(min=2, max=6, value=50000),\n",
    "    log_ymin=widgets.FloatSlider(min=-5.0, max=-1.0, value=-3.0),\n",
    ")\n",
    "def update(index, n, log_ymin, kde=False, log=False):\n",
    "    model.load(checkpoints[index][\"path\"], device=\"cpu\")\n",
    "\n",
    "    kind = \"line\"\n",
    "    lw = 1.25\n",
    "    colors = [\"black\", \"red\"]\n",
    "    \n",
    "    with torch.no_grad():\n",
    "        x_pred = model.sample(int(n))\n",
    "\n",
    "        for diagnostic in unravel(model.diagnostics):\n",
    "            diagnostic.kde = kde\n",
    "            \n",
    "        predictions = mf.sim.forward(x_pred, model.transforms, model.diagnostics)\n",
    "\n",
    "        y_pred = [grab(prediction) for prediction in unravel(predictions)]\n",
    "        y_meas = [grab(measurement) for measurement in unravel(model.measurements)]\n",
    "        edges = [grab(diagnostic.bin_edges) for diagnostic in unravel(model.diagnostics)]\n",
    "\n",
    "        fig, axs = mf.train.plot.plot_proj_1d(\n",
    "            y_pred,\n",
    "            y_meas,\n",
    "            edges,\n",
    "            maxcols=7,\n",
    "            kind=kind,\n",
    "            height=1.25,\n",
    "            lw=lw,\n",
    "            colors=colors,\n",
    "        )\n",
    "        \n",
    "        x_true = dist.sample(int(n))\n",
    "        predictions = mf.sim.forward(x_true, model.transforms, model.diagnostics)\n",
    "        y_pred = [grab(prediction) for prediction in unravel(predictions)]\n",
    "        for i in range(len(y_pred)):\n",
    "            mf.train.plot.plot_profile(\n",
    "                y_pred[i] / y_meas[i].max(), \n",
    "                edges[i], \n",
    "                ax=axs[i],\n",
    "                kind=kind,\n",
    "                lw=lw,\n",
    "                zorder=0, \n",
    "                color=colors[0],\n",
    "                alpha=0.2,\n",
    "            )\n",
    "        \n",
    "        axs.format(ymax=1.25, ymin=(10.0 ** log_ymin))\n",
    "        if log:\n",
    "            axs.format(yscale=\"log\")\n",
    "        plt.show()"
   ]
  },
  {
   "cell_type": "code",
   "execution_count": null,
   "id": "61ac1c15-63d9-4ced-b5df-ea3fb5a61289",
   "metadata": {},
   "outputs": [],
   "source": []
  }
 ],
 "metadata": {
  "kernelspec": {
   "display_name": "ment-flow",
   "language": "python",
   "name": "ment-flow"
  },
  "language_info": {
   "codemirror_mode": {
    "name": "ipython",
    "version": 3
   },
   "file_extension": ".py",
   "mimetype": "text/x-python",
   "name": "python",
   "nbconvert_exporter": "python",
   "pygments_lexer": "ipython3",
   "version": "3.8.18"
  }
 },
 "nbformat": 4,
 "nbformat_minor": 5
}
