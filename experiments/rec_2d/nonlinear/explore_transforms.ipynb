{
 "cells": [
  {
   "cell_type": "code",
   "execution_count": null,
   "id": "79b163c9-bd1d-4e5b-b5bc-93bcbac3d682",
   "metadata": {},
   "outputs": [],
   "source": [
    "import matplotlib.pyplot as plt\n",
    "import numpy as np\n",
    "import omegaconf\n",
    "import proplot as pplt\n",
    "import psdist.visualization as psv\n",
    "import torch\n",
    "from ipywidgets import interact\n",
    "from ipywidgets import widgets\n",
    "\n",
    "import mentflow as mf\n",
    "from mentflow.utils import grab\n",
    "from mentflow.utils import unravel"
   ]
  },
  {
   "cell_type": "code",
   "execution_count": null,
   "id": "858ba7e8-86a4-4449-b373-47806a40e6f1",
   "metadata": {},
   "outputs": [],
   "source": [
    "mf.train.plot.set_proplot_rc()"
   ]
  },
  {
   "cell_type": "code",
   "execution_count": null,
   "id": "3602b332-b2a9-43cc-ab3f-ce9f54a83843",
   "metadata": {},
   "outputs": [],
   "source": [
    "cfg = {\n",
    "    \"dist\": {\n",
    "        \"name\": \"rings\",\n",
    "    },\n",
    "    \"meas\": {\n",
    "        \"min_angle\": 0.0,\n",
    "        \"max_angle\": 180.0,\n",
    "        \"num\": 6,\n",
    "    },\n",
    "}\n",
    "cfg = omegaconf.DictConfig(cfg)"
   ]
  },
  {
   "cell_type": "code",
   "execution_count": null,
   "id": "a2624232-f52b-4edb-aa58-96ce79cdd618",
   "metadata": {},
   "outputs": [],
   "source": [
    "dist = mf.dist.toy.gen_dist(name=cfg.dist.name)"
   ]
  },
  {
   "cell_type": "code",
   "execution_count": null,
   "id": "ab7519f1-f2b3-4188-810c-e00bdc41256b",
   "metadata": {},
   "outputs": [],
   "source": [
    "transforms = []\n",
    "\n",
    "## Constant linear focusing, varying multipole strength.\n",
    "strength_max = +0.5\n",
    "strength_min = -strength_max\n",
    "order = 3\n",
    "strengths = np.linspace(strength_min, strength_max, cfg.meas.num)\n",
    "for strength in strengths:\n",
    "    multipole = mf.sim.MultipoleTransform(order=order, strength=strength)\n",
    "\n",
    "    angle = np.radians(45.0)\n",
    "    matrix = mf.sim.rotation_matrix(angle)\n",
    "    matrix = matrix.type(torch.float32)\n",
    "    rotation = mf.sim.LinearTransform(matrix)\n",
    "    \n",
    "    transform = mf.sim.CompositeTransform(multipole, rotation)\n",
    "    transforms.append(transform)"
   ]
  },
  {
   "cell_type": "code",
   "execution_count": null,
   "id": "878d3773-fff3-44cd-a18a-e1b52d6fe303",
   "metadata": {},
   "outputs": [],
   "source": [
    "@interact(\n",
    "    index=widgets.IntSlider(min=0, max=(len(transforms) - 1), value=0),\n",
    "    n=widgets.FloatLogSlider(min=2, max=6, value=1.00e+05),\n",
    "    xmax=widgets.FloatSlider(min=0.0, max=6.0, value=3.5),\n",
    "    bins=widgets.IntSlider(min=4, max=200, value=125),\n",
    ")\n",
    "def update(index, n, xmax, bins):\n",
    "    transform = transforms[index]\n",
    "\n",
    "    x = dist.sample(n)\n",
    "    x = transform(x)\n",
    "    x = grab(x)\n",
    "    \n",
    "    fig, ax = pplt.subplots()\n",
    "    limits = 2 * [(-xmax, +xmax)]\n",
    "    ax.hist2d(x[:, 0], x[:, 1], bins=bins, range=limits)\n",
    "    \n",
    "    pax = ax.panel_axes(\"bottom\", width=0.75)\n",
    "\n",
    "    hist, edges = np.histogram(x[:, 0], bins=bins, density=True)\n",
    "    hist = hist / hist.max()\n",
    "    psv.plot_profile(hist, edges=edges, ax=pax, color=\"black\", kind=\"step\")\n",
    "    pplt.show()"
   ]
  },
  {
   "cell_type": "code",
   "execution_count": null,
   "id": "fdf14749-aa37-4e19-8be0-06d8a8dccdfa",
   "metadata": {},
   "outputs": [],
   "source": [
    "@interact(\n",
    "    index=widgets.IntSlider(min=0, max=(len(transforms) - 1), value=0),\n",
    "    n=widgets.FloatLogSlider(min=2, max=6, value=1.00e+05),\n",
    "    xmax=widgets.FloatSlider(min=0.0, max=6.0, value=3.5),\n",
    "    n_bins=widgets.IntSlider(min=4, max=200, value=125),\n",
    "    n_lines=widgets.IntSlider(min=5, max=50, value=15),\n",
    "    scale=widgets.FloatSlider(min=1.0, max=4.0, value=1.0),\n",
    ")\n",
    "def update(index, n, xmax, n_bins, n_lines, scale):\n",
    "    transform = transforms[index]\n",
    "\n",
    "    x = dist.sample(n)\n",
    "    u = transform(x)\n",
    "    u = grab(u)\n",
    "    x = grab(x)\n",
    "    \n",
    "    fig, axs = pplt.subplots(ncols=2)\n",
    "    limits = 2 * [(-xmax, +xmax)]\n",
    "    for ax, _x in zip(axs, [x, u]):\n",
    "        ax.hist2d(_x[:, 0], _x[:, 1], bins=n_bins, range=limits)\n",
    "    \n",
    "    n_dots_per_line = 150\n",
    "    u = mf.utils.get_grid_points_torch(\n",
    "        scale * torch.linspace(-xmax, +xmax, n_lines),\n",
    "        3.0 * torch.linspace(-xmax, +xmax, n_dots_per_line),\n",
    "    )\n",
    "    \n",
    "    x = transform.inverse(u)\n",
    "    x = grab(x)\n",
    "    u = grab(u)\n",
    "    \n",
    "    for ax, _x in zip(axs, [x, u]):\n",
    "        for line in np.split(_x, n_lines):\n",
    "            ax.plot(line[:, 0], line[:, 1], color=\"white\", alpha=0.5)\n",
    "    axs.format(xlim=(-xmax, xmax), ylim=(-xmax, xmax))\n",
    "    axs[0].format(title=\"Input space\")\n",
    "    axs[1].format(title=\"Transformed space\")\n",
    "    pplt.show()"
   ]
  },
  {
   "cell_type": "code",
   "execution_count": null,
   "id": "214d29c0-62b3-4dc5-af4d-16e74003b81f",
   "metadata": {},
   "outputs": [],
   "source": []
  }
 ],
 "metadata": {
  "kernelspec": {
   "display_name": "ment-flow",
   "language": "python",
   "name": "ment-flow"
  },
  "language_info": {
   "codemirror_mode": {
    "name": "ipython",
    "version": 3
   },
   "file_extension": ".py",
   "mimetype": "text/x-python",
   "name": "python",
   "nbconvert_exporter": "python",
   "pygments_lexer": "ipython3",
   "version": "3.8.18"
  }
 },
 "nbformat": 4,
 "nbformat_minor": 5
}
