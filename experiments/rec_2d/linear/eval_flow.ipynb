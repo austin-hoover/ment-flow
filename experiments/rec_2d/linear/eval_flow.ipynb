{
 "cells": [
  {
   "cell_type": "markdown",
   "id": "4fef2e93-45a7-44c1-86ee-0b737cc26334",
   "metadata": {},
   "source": [
    "# Evaluate 2D MENT-Flow model"
   ]
  },
  {
   "cell_type": "code",
   "execution_count": null,
   "id": "7aef45e3-614f-4027-bdf5-cf4ac7be3285",
   "metadata": {},
   "outputs": [],
   "source": [
    "import os\n",
    "import pickle\n",
    "import sys\n",
    "\n",
    "import matplotlib.pyplot as plt\n",
    "import numpy as np\n",
    "import proplot as pplt\n",
    "import torch\n",
    "from ipywidgets import interact, widgets\n",
    "\n",
    "import mentflow as mf\n",
    "from mentflow.utils import grab\n",
    "from mentflow.utils import unravel\n",
    "\n",
    "from experiments.load import load_run\n",
    "from setup import make_dist"
   ]
  },
  {
   "cell_type": "code",
   "execution_count": null,
   "id": "4abd85f5-edd9-4cac-b558-0caf6b7ffe20",
   "metadata": {},
   "outputs": [],
   "source": [
    "mf.train.plot.set_proplot_rc()"
   ]
  },
  {
   "cell_type": "markdown",
   "id": "2a5d3d6b-d899-4581-8b79-e1f733e2db6c",
   "metadata": {},
   "source": [
    "## Settings"
   ]
  },
  {
   "cell_type": "code",
   "execution_count": null,
   "id": "2c94122f-c7d8-4614-8596-ce79d3db5a1b",
   "metadata": {},
   "outputs": [],
   "source": [
    "device = torch.device(\"cpu\")\n",
    "precision = torch.float32\n",
    "\n",
    "def send(x):\n",
    "    return x.type(precision).to(device)"
   ]
  },
  {
   "cell_type": "markdown",
   "id": "a82731c4-d798-44bd-b2d2-a2a1e914679c",
   "metadata": {},
   "source": [
    "## Load data"
   ]
  },
  {
   "cell_type": "code",
   "execution_count": null,
   "id": "e3c34342-1c5f-40e3-9791-6395e61b5710",
   "metadata": {},
   "outputs": [],
   "source": [
    "data_name = \"two-spirals\"\n",
    "script_name = \"train_flow\"\n",
    "timestamp = 240107212132\n",
    "data_dir = f\"./output/{data_name}/{script_name}/{timestamp}/\""
   ]
  },
  {
   "cell_type": "code",
   "execution_count": null,
   "id": "41cdc4c0-34ec-426f-9ef3-8366a91de5e6",
   "metadata": {},
   "outputs": [],
   "source": [
    "run = load_run(data_dir)\n",
    "\n",
    "cfg = run[\"cfg\"]\n",
    "model = run[\"model\"]\n",
    "checkpoints = run[\"checkpoints\"]\n",
    "history = run[\"history\"]"
   ]
  },
  {
   "cell_type": "code",
   "execution_count": null,
   "id": "aca69e75-279e-49e1-b9e1-cafdbfeb571c",
   "metadata": {},
   "outputs": [],
   "source": [
    "dist = make_dist(cfg)"
   ]
  },
  {
   "cell_type": "markdown",
   "id": "225ed3bb-d9d6-4b02-89d5-4e06c2e25e79",
   "metadata": {},
   "source": [
    "## Scalar history"
   ]
  },
  {
   "cell_type": "code",
   "execution_count": null,
   "id": "04f25bbb-e503-4d3e-94ec-006702b1a09c",
   "metadata": {},
   "outputs": [],
   "source": [
    "keys_sorted = sorted(list(history.keys()))\n",
    "imax = len(history[keys_sorted[0]])\n",
    "\n",
    "@interact(\n",
    "    key=widgets.Dropdown(options=keys_sorted, value=\"D_norm\"),\n",
    "    irange=widgets.IntRangeSlider(min=0, max=imax, value=(0, imax)),\n",
    "    log=False,\n",
    ")\n",
    "def update(key, irange, log):\n",
    "    vals = history[key]\n",
    "    avgs = mf.utils.exp_avg(vals, momentum=0.95)\n",
    "\n",
    "    fig, ax = pplt.subplots()\n",
    "    ax.plot(vals[irange[0] : irange[1]], color=\"gray\")\n",
    "    ax.plot(avgs[irange[0] : irange[1]], color=\"black\", lw=1.0)    \n",
    "    if log:\n",
    "        ax.format(yscale=\"log\", yformatter=\"log\")\n",
    "    ax.format(xlabel=\"Iteration (global)\", ylabel=key)\n",
    "    plt.show()"
   ]
  },
  {
   "cell_type": "markdown",
   "id": "b532ede2-99d1-49c1-992a-f99bcfb59ab2",
   "metadata": {},
   "source": [
    "## Evaluation"
   ]
  },
  {
   "cell_type": "markdown",
   "id": "04336fab-7a95-4b31-a5d0-3d180f3e968a",
   "metadata": {},
   "source": [
    "### Density"
   ]
  },
  {
   "cell_type": "code",
   "execution_count": null,
   "id": "f5a5cf91-948b-4cf4-8e30-95e5a138cd9b",
   "metadata": {},
   "outputs": [],
   "source": [
    "@interact(\n",
    "    index=widgets.IntSlider(\n",
    "        min=0, \n",
    "        max=(len(checkpoints) - 1), \n",
    "        value=(len(checkpoints) - 1),\n",
    "    ),\n",
    "    n=widgets.FloatLogSlider(min=2, max=6, value=1.00e+05),\n",
    "    xmax=widgets.FloatSlider(min=0.0, max=6.0, value=3.0),\n",
    "    bins=widgets.IntSlider(min=4, max=150, value=125),\n",
    ")\n",
    "def update(index, n, xmax, bins):\n",
    "    model.load(checkpoints[index][\"path\"], device)\n",
    "\n",
    "    with torch.no_grad():\n",
    "        x = grab(model.sample(int(n)))\n",
    "        x0 = grab(dist.sample(int(n)))\n",
    "        \n",
    "        fig, axs = pplt.subplots(ncols=2, xspineloc=\"neither\", yspineloc=\"neither\", space=0)\n",
    "        kws = dict()\n",
    "        limits = 2 * [(-xmax, xmax)]\n",
    "        axs[0].hist2d(x0[:, 0], x0[:, 1], bins=bins, range=limits, **kws)\n",
    "        axs[1].hist2d(x[:, 0], x[:, 1], bins=bins, range=limits, **kws)\n",
    "        pplt.show()"
   ]
  },
  {
   "cell_type": "markdown",
   "id": "fb9f076f-682b-48ad-af1c-b1a92601a336",
   "metadata": {},
   "source": [
    "### Projections"
   ]
  },
  {
   "cell_type": "code",
   "execution_count": null,
   "id": "5eb5620e-7888-4afe-9f70-f21696650045",
   "metadata": {},
   "outputs": [],
   "source": [
    "@interact(\n",
    "    index=widgets.IntSlider(\n",
    "        min=0, \n",
    "        max=(len(checkpoints) - 1), \n",
    "        value=(len(checkpoints) - 1),\n",
    "    ),\n",
    "    n=widgets.FloatLogSlider(min=2, max=6, value=50000),\n",
    "    log_ymin=widgets.FloatSlider(min=-5.0, max=-1.0, value=-3.0),\n",
    ")\n",
    "def update(index, n, log_ymin, kde=False, log=False):\n",
    "    model.load(checkpoints[index][\"path\"], device=device)\n",
    "\n",
    "    with torch.no_grad():\n",
    "        x = send(model.sample(int(n)))\n",
    "\n",
    "        for diagnostic in unravel(model.diagnostics):\n",
    "            diagnostic.kde = kde\n",
    "            \n",
    "        predictions = mf.sim.forward(x, model.transforms, model.diagnostics)\n",
    "\n",
    "        fig, axs = mf.train.plot.plot_proj_1d(\n",
    "            [grab(measurement) for measurement in unravel(model.measurements)],\n",
    "            [grab(prediction) for prediction in unravel(predictions)],\n",
    "            [grab(diagnostic.bin_edges) for diagnostic in unravel(model.diagnostics)],\n",
    "            maxcols=7,\n",
    "            kind=\"line\",\n",
    "            height=1.25,\n",
    "            lw=1.5,\n",
    "        )\n",
    "        axs.format(ymax=1.25, ymin=(10.0 ** log_ymin))\n",
    "        if log:\n",
    "            axs.format(yscale=\"log\")\n",
    "        plt.show()"
   ]
  },
  {
   "cell_type": "markdown",
   "id": "5e110e59-d7d0-4755-8faa-3c4667829ca6",
   "metadata": {},
   "source": [
    "### Grid warp "
   ]
  },
  {
   "cell_type": "code",
   "execution_count": null,
   "id": "866bffd2-c336-49d9-8c37-99287d63df99",
   "metadata": {},
   "outputs": [],
   "source": [
    "@interact(\n",
    "    index=widgets.IntSlider(\n",
    "        min=0, \n",
    "        max=(len(checkpoints) - 1), \n",
    "        value=(len(checkpoints) - 1),\n",
    "    ),\n",
    "    xmax=widgets.FloatSlider(min=0.0, max=6.0, value=3.0),\n",
    "    n_lines=widgets.IntSlider(min=0.0, max=200, value=100),\n",
    ")\n",
    "def update(index, xmax, n_lines):\n",
    "    model.load(checkpoints[index][\"path\"], device=device)\n",
    "\n",
    "    with torch.no_grad():\n",
    "        fig, axs = pplt.subplots(ncols=2)\n",
    "\n",
    "        res = 150\n",
    "        grid = np.linspace(-3.5 * xmax, 3.5 * xmax, n_lines)\n",
    "        line_points = []\n",
    "        for i in range(len(grid)):\n",
    "            x = np.full(res, grid[i])\n",
    "            y = np.linspace(-xmax, xmax, res)\n",
    "            line_points.append(np.vstack([x, y]).T)\n",
    "            line_points.append(np.vstack([y, x]).T)\n",
    "        \n",
    "        kws = dict(color=\"black\", lw=0.6, alpha=0.25)\n",
    "        \n",
    "        for z in line_points:\n",
    "            axs[0].plot(z[:, 0], z[:, 1], **kws)\n",
    "            z = send(torch.from_numpy(z))\n",
    "            x = grab(model.gen.forward(z))\n",
    "            for ax in axs[1:]:\n",
    "                ax.plot(x[:, 0], x[:, 1], **kws)\n",
    "        \n",
    "        z = model.gen.sample_base(1000)\n",
    "        x = model.gen.forward(z)\n",
    "        z = grab(z)\n",
    "        x = grab(x)\n",
    "        kws = dict(c=\"black\", zorder=999, s=1)\n",
    "        axs[0].scatter(z[:, 0], z[:, 1], **kws)\n",
    "        axs[1].scatter(x[:, 0], x[:, 1], **kws)\n",
    "        axs.format(xlim=(-xmax, xmax), ylim=(-xmax, xmax))\n",
    "        plt.show()"
   ]
  },
  {
   "cell_type": "markdown",
   "id": "c4816896-4fe2-44d9-8b52-f99b801b6445",
   "metadata": {},
   "source": [
    "### Flow trajectory"
   ]
  },
  {
   "cell_type": "code",
   "execution_count": null,
   "id": "c30d7353-b103-40e4-99e4-1e694ccb7ada",
   "metadata": {},
   "outputs": [],
   "source": [
    "@interact(\n",
    "    index=widgets.IntSlider(\n",
    "        min=0, \n",
    "        max=(len(checkpoints) - 1), \n",
    "        value=(len(checkpoints) - 1),\n",
    "    ),\n",
    "    n=widgets.FloatLogSlider(min=2, max=6, value=1.00e+05),\n",
    "    xmax=widgets.FloatSlider(min=0.0, max=6.0, value=3.0),\n",
    "    bins=widgets.IntSlider(min=4, max=150, value=125),\n",
    ")\n",
    "def update(index, n, xmax, bins):        \n",
    "    model.load(checkpoints[index][\"path\"], device)\n",
    "\n",
    "    with torch.no_grad():\n",
    "        flow = model.gen.get_flow()\n",
    "        z = model.gen.sample_base(int(n))\n",
    "\n",
    "        try:\n",
    "            xt = model.gen.forward_steps(z)\n",
    "        except:\n",
    "            print(\"`model.gen` does not have `forward_steps` method.\")\n",
    "    \n",
    "        fig, axs = pplt.subplots(\n",
    "            figheight=2.0, \n",
    "            ncols=len(xt), \n",
    "            space=None,\n",
    "            xticks=[],\n",
    "            yticks=[], \n",
    "            xspineloc=\"neither\",\n",
    "            yspineloc=\"neither\",\n",
    "        )\n",
    "        limits = 2 * [(-xmax, xmax)]\n",
    "        for ax, x in zip(axs, xt):\n",
    "            x = grab(x)\n",
    "            ax.hist2d(x[:, 0], x[:, 1], bins=bins, range=limits)\n",
    "        axs.format(xlim=limits[0], ylim=limits[1])\n",
    "        plt.show()"
   ]
  },
  {
   "cell_type": "code",
   "execution_count": null,
   "id": "dda68095-72f1-4899-9be6-305e3ef7c86a",
   "metadata": {},
   "outputs": [],
   "source": []
  }
 ],
 "metadata": {
  "kernelspec": {
   "display_name": "ment-flow",
   "language": "python",
   "name": "ment-flow"
  },
  "language_info": {
   "codemirror_mode": {
    "name": "ipython",
    "version": 3
   },
   "file_extension": ".py",
   "mimetype": "text/x-python",
   "name": "python",
   "nbconvert_exporter": "python",
   "pygments_lexer": "ipython3",
   "version": "3.8.18"
  }
 },
 "nbformat": 4,
 "nbformat_minor": 5
}
