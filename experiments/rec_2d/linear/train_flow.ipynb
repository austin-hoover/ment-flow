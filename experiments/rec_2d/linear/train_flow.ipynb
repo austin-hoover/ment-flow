{
 "cells": [
  {
   "cell_type": "markdown",
   "id": "9f502eda-c9a2-484b-b251-73ca2fcfa5e7",
   "metadata": {},
   "source": [
    "# Train MENT-Flow"
   ]
  },
  {
   "cell_type": "code",
   "execution_count": null,
   "id": "b38ba5ee-a5c7-4e73-b1d2-e54afb9b1e0e",
   "metadata": {},
   "outputs": [],
   "source": [
    "import hydra\n",
    "import numpy as np\n",
    "import torch\n",
    "from omegaconf import DictConfig\n",
    "from omegaconf import OmegaConf\n",
    "from pprint import pprint\n",
    "\n",
    "import mentflow as mf\n",
    "\n",
    "import setup"
   ]
  },
  {
   "cell_type": "code",
   "execution_count": null,
   "id": "0ac4501a-ebdd-4031-bfb4-a9635ea2fc11",
   "metadata": {
    "scrolled": true
   },
   "outputs": [],
   "source": [
    "with hydra.initialize(version_base=None, config_path=\"../../config\"):\n",
    "    cfg = hydra.compose(\n",
    "        config_name=\"rec_2d_linear_flow.yaml\", \n",
    "        overrides=[\n",
    "            \"dist.name=swissroll\",\n",
    "            \"meas.noise_scale=0.15\",\n",
    "            \"meas.noise_type=uniform\",\n",
    "            \"train.epochs=20\",\n",
    "            \"train.iters=200\",\n",
    "            \"train.dmax=0.001\",\n",
    "            \"train.penalty_step=5.0\",\n",
    "            \"train.penalty_scale=1.1\",\n",
    "            \"seed=21\",\n",
    "            \"plot.line_kind=line\",\n",
    "            \"gen.transforms=3\",\n",
    "            \"device=mps\",\n",
    "        ]\n",
    "    )\n",
    "    print(OmegaConf.to_yaml(cfg))"
   ]
  },
  {
   "cell_type": "code",
   "execution_count": null,
   "id": "8708daa8-3b72-4748-a7fb-34a7127ea812",
   "metadata": {},
   "outputs": [],
   "source": [
    "transforms, diagnostics, measurements = setup.generate_training_data(\n",
    "    cfg,\n",
    "    make_dist=setup.make_dist,\n",
    "    make_diagnostics=setup.make_diagnostics,\n",
    "    make_transforms=setup.make_transforms,\n",
    ")\n",
    "\n",
    "model = setup.setup_mentflow_model(\n",
    "    cfg,\n",
    "    transforms=transforms,\n",
    "    diagnostics=diagnostics,\n",
    "    measurements=measurements,\n",
    ")\n",
    "\n",
    "setup.train_mentflow_model(\n",
    "    cfg,\n",
    "    model=model,\n",
    "    setup_plot=setup.setup_plot,\n",
    "    setup_eval=setup.setup_eval,\n",
    "    output_dir=None,\n",
    "    notebook=True,\n",
    ")"
   ]
  },
  {
   "cell_type": "code",
   "execution_count": null,
   "id": "da5751d7-caab-4a1c-ad45-cfc400502f60",
   "metadata": {},
   "outputs": [],
   "source": []
  }
 ],
 "metadata": {
  "kernelspec": {
   "display_name": "ment-flow",
   "language": "python",
   "name": "ment-flow"
  },
  "language_info": {
   "codemirror_mode": {
    "name": "ipython",
    "version": 3
   },
   "file_extension": ".py",
   "mimetype": "text/x-python",
   "name": "python",
   "nbconvert_exporter": "python",
   "pygments_lexer": "ipython3",
   "version": "3.8.18"
  }
 },
 "nbformat": 4,
 "nbformat_minor": 5
}
