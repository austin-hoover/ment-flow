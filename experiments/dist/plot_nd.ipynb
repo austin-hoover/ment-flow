{
 "cells": [
  {
   "cell_type": "markdown",
   "id": "1ca1b871-f4d6-4c9e-a199-bac9fed0cb5a",
   "metadata": {},
   "source": [
    "# Plot n-dimensional distributions"
   ]
  },
  {
   "cell_type": "code",
   "execution_count": null,
   "id": "c25ae5b8-5de4-413a-a3bf-8896a4c62094",
   "metadata": {},
   "outputs": [],
   "source": [
    "import matplotlib.pyplot as plt\n",
    "import numpy as np\n",
    "import proplot as pplt\n",
    "import psdist as ps\n",
    "import psdist.visualization as psv\n",
    "\n",
    "import mentflow as mf"
   ]
  },
  {
   "cell_type": "code",
   "execution_count": null,
   "id": "8b98d2e8-8cf4-40f5-82d7-286e4850cad6",
   "metadata": {},
   "outputs": [],
   "source": [
    "pplt.rc[\"cmap.discrete\"] = False\n",
    "pplt.rc[\"cmap.sequential\"] = \"viridis\"\n",
    "pplt.rc[\"figure.facecolor\"] = \"white\"\n",
    "pplt.rc[\"grid\"] = False"
   ]
  },
  {
   "cell_type": "code",
   "execution_count": null,
   "id": "dd9f3797-ddcc-48f8-a784-c598c2567009",
   "metadata": {},
   "outputs": [],
   "source": [
    "ndim = 4\n",
    "size = 1_000_000\n",
    "normalize = True\n",
    "n_bins = 80\n",
    "rmax = 3.5\n",
    "seed = 0\n",
    "\n",
    "names = [\n",
    "    \"gaussian\",\n",
    "    \"gaussian_mixture\",\n",
    "    \"hollow\",\n",
    "    \"kv\",\n",
    "    \"rings\",\n",
    "    \"waterbag\",\n",
    "]"
   ]
  },
  {
   "cell_type": "code",
   "execution_count": null,
   "id": "c87c3a25-0d9e-4957-8d2b-39767c59b91e",
   "metadata": {},
   "outputs": [],
   "source": [
    "limits= ndim * [(-rmax, rmax)]\n",
    "\n",
    "for name in names:\n",
    "    print(name)   \n",
    "    \n",
    "    dist = mf.dist.get_dist(name, ndim=ndim, seed=seed, normalize=normalize)\n",
    "    x = dist.sample(size)\n",
    "    x = mf.utils.grab(x)\n",
    "            \n",
    "    grid = psv.CornerGrid(ndim, diag_rspine=False)\n",
    "    grid.plot_points(x, limits=limits, bins=55, mask=False, cmap=\"mono\")\n",
    "    pplt.show()\n",
    "\n",
    "    slice_width = 1.0\n",
    "    x_slice = ps.points.slice_planar(\n",
    "        x, \n",
    "        axis=list(range(1, ndim)),\n",
    "        center=np.zeros(ndim - 1), \n",
    "        width=(slice_width * np.ones(ndim - 1)),\n",
    "    )\n",
    "\n",
    "    fig, ax = pplt.subplots(figsize=(3.0, 2.0))\n",
    "    ax.hist(x_slice[:, 0], bins=50, range=limits[0], density=True, color=\"black\")\n",
    "    ax.format(title=f\"~1D slice (width={slice_width})\")\n",
    "    pplt.show()\n",
    "\n",
    "    print()"
   ]
  },
  {
   "cell_type": "code",
   "execution_count": null,
   "id": "c4e976f9-7ac8-4430-abaf-219a60156f18",
   "metadata": {},
   "outputs": [],
   "source": []
  }
 ],
 "metadata": {
  "kernelspec": {
   "display_name": "Python (ment-flow)",
   "language": "python",
   "name": "ment-flow"
  },
  "language_info": {
   "codemirror_mode": {
    "name": "ipython",
    "version": 3
   },
   "file_extension": ".py",
   "mimetype": "text/x-python",
   "name": "python",
   "nbconvert_exporter": "python",
   "pygments_lexer": "ipython3",
   "version": "3.8.18"
  }
 },
 "nbformat": 4,
 "nbformat_minor": 5
}
