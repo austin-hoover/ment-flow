{
 "cells": [
  {
   "cell_type": "markdown",
   "id": "4fef2e93-45a7-44c1-86ee-0b737cc26334",
   "metadata": {},
   "source": [
    "# Evaluate 2D MENT-Flow model"
   ]
  },
  {
   "cell_type": "code",
   "execution_count": null,
   "id": "7aef45e3-614f-4027-bdf5-cf4ac7be3285",
   "metadata": {},
   "outputs": [],
   "source": [
    "import os\n",
    "import pickle\n",
    "import sys\n",
    "from pprint import pprint\n",
    "\n",
    "import matplotlib.pyplot as plt\n",
    "import numpy as np\n",
    "import proplot as pplt\n",
    "import skimage.filters\n",
    "import torch\n",
    "from ipywidgets import interact\n",
    "from ipywidgets import widgets\n",
    "\n",
    "import mentflow as mf\n",
    "import experiments.setup\n",
    "\n",
    "import plotting"
   ]
  },
  {
   "cell_type": "code",
   "execution_count": null,
   "id": "869644db-d946-4d2d-84ea-323b6d6e2d0e",
   "metadata": {},
   "outputs": [],
   "source": [
    "pplt.rc[\"cmap.discrete\"] = False\n",
    "pplt.rc[\"cmap.sequential\"] = \"viridis\"\n",
    "pplt.rc[\"figure.facecolor\"] = \"white\"\n",
    "pplt.rc[\"grid\"] = False"
   ]
  },
  {
   "cell_type": "markdown",
   "id": "a82731c4-d798-44bd-b2d2-a2a1e914679c",
   "metadata": {},
   "source": [
    "## Setup"
   ]
  },
  {
   "cell_type": "code",
   "execution_count": null,
   "id": "e3c34342-1c5f-40e3-9791-6395e61b5710",
   "metadata": {},
   "outputs": [],
   "source": [
    "data_name = \"spirals\"\n",
    "timestamp = 231128232746\n",
    "script_name = \"train_nsf_penalty\"\n",
    "datadir = f\"./data_output/{data_name}/{script_name}/{timestamp}/\""
   ]
  },
  {
   "cell_type": "code",
   "execution_count": null,
   "id": "2c94122f-c7d8-4614-8596-ce79d3db5a1b",
   "metadata": {},
   "outputs": [],
   "source": [
    "device = torch.device(\"cpu\")\n",
    "precision = torch.float32"
   ]
  },
  {
   "cell_type": "code",
   "execution_count": null,
   "id": "57fe2613-6910-480e-95ef-b83691393269",
   "metadata": {},
   "outputs": [],
   "source": [
    "def grab(x):\n",
    "    return x.detach().cpu().numpy()"
   ]
  },
  {
   "cell_type": "code",
   "execution_count": null,
   "id": "03e6cf99-969c-4dc5-bf79-2da8c59a7f3a",
   "metadata": {},
   "outputs": [],
   "source": [
    "def cvt(x):\n",
    "    return x.type(precision).to(device)"
   ]
  },
  {
   "cell_type": "markdown",
   "id": "7d5e4bd1-803e-4e5f-aeb9-07685bcff78d",
   "metadata": {},
   "source": [
    "Get info from log."
   ]
  },
  {
   "cell_type": "code",
   "execution_count": null,
   "id": "71b38156-ea78-4714-9ca1-f710e6fbfba3",
   "metadata": {},
   "outputs": [],
   "source": [
    "path = os.path.join(datadir, \"log.txt\")\n",
    "\n",
    "info = {}\n",
    "file = open(path, \"r\")\n",
    "for line in file:\n",
    "    line = line.rstrip()\n",
    "    if line.startswith(\"Namespace\"):\n",
    "        line = line.split(\"Namespace(\")[1].split(\")\")[0]\n",
    "        strings = [string.strip() for string in line.split(\",\")]\n",
    "        for string in strings:\n",
    "            key, val = string.split(\"=\")\n",
    "            info[key] = val\n",
    "file.close()\n",
    "\n",
    "print(info)"
   ]
  },
  {
   "cell_type": "markdown",
   "id": "1eb36136-b7bc-42bd-ad05-8467546ac5ab",
   "metadata": {},
   "source": [
    "Get info to generate data."
   ]
  },
  {
   "cell_type": "markdown",
   "id": "225ed3bb-d9d6-4b02-89d5-4e06c2e25e79",
   "metadata": {},
   "source": [
    "## Training history"
   ]
  },
  {
   "cell_type": "code",
   "execution_count": null,
   "id": "c3a6dce5-b264-4447-b229-7da946296474",
   "metadata": {},
   "outputs": [],
   "source": [
    "path = os.path.join(datadir, \"history.pkl\")\n",
    "with open(path, \"rb\") as file:\n",
    "    history = pickle.load(file)\n",
    "    \n",
    "print(list(history.keys()))"
   ]
  },
  {
   "cell_type": "code",
   "execution_count": null,
   "id": "04f25bbb-e503-4d3e-94ec-006702b1a09c",
   "metadata": {},
   "outputs": [],
   "source": [
    "keys_sorted = sorted(list(history.keys()))\n",
    "imax = len(history[keys_sorted[0]])\n",
    "\n",
    "@interact(\n",
    "    key=widgets.Dropdown(options=keys_sorted, value=\"C_norm\"),\n",
    "    irange=widgets.IntRangeSlider(min=0, max=imax, value=(0, imax)),\n",
    "    log=False,\n",
    ")\n",
    "def update(key, irange, log):\n",
    "    vals = history[key]\n",
    "    \n",
    "    avg = vals[0]\n",
    "    avgs = []\n",
    "    for i, val in enumerate(vals):\n",
    "        avg = 0.99 * avg + 0.01 * val\n",
    "        avgs.append(avg)\n",
    "\n",
    "    fig, ax = pplt.subplots()\n",
    "    ax.plot(vals[irange[0] : irange[1]], color=\"gray\")\n",
    "    ax.plot(avgs[irange[0] : irange[1]], color=\"black\", lw=1.0)    \n",
    "    if log:\n",
    "        ax.format(yscale=\"log\", yformatter=\"log\")\n",
    "    ax.format(xlabel=\"Iteration (global)\", ylabel=key)\n",
    "    plt.show()"
   ]
  },
  {
   "cell_type": "code",
   "execution_count": null,
   "id": "2fc4eae1-6820-4de2-b81a-5b51e474bf6b",
   "metadata": {},
   "outputs": [],
   "source": [
    "fig, ax = pplt.subplots()\n",
    "ax.plot(history[\"epoch\"], history[\"C_norm\"], marker=\".\")"
   ]
  },
  {
   "cell_type": "markdown",
   "id": "b532ede2-99d1-49c1-992a-f99bcfb59ab2",
   "metadata": {},
   "source": [
    "## Load model"
   ]
  },
  {
   "cell_type": "markdown",
   "id": "7fed9efe-6954-4e7d-9c2f-32369498fb6f",
   "metadata": {},
   "source": [
    "Setup model from config file."
   ]
  },
  {
   "cell_type": "code",
   "execution_count": null,
   "id": "d7cccfd2-52eb-4c1b-a262-4dd335eeb087",
   "metadata": {},
   "outputs": [],
   "source": [
    "path = os.path.join(datadir, \"config.pkl\")\n",
    "with open(path, \"rb\") as file:\n",
    "    cfg = pickle.load(file)\n",
    "    \n",
    "pprint(cfg)"
   ]
  },
  {
   "cell_type": "code",
   "execution_count": null,
   "id": "d30a2bbc-e324-4154-b7b1-20d9b6030ba9",
   "metadata": {},
   "outputs": [],
   "source": [
    "model = experiments.setup.setup_model(cfg)\n",
    "model.eval()"
   ]
  },
  {
   "cell_type": "markdown",
   "id": "db23284f-2b84-4141-ba07-2fd314b14263",
   "metadata": {},
   "source": [
    "Get model checkpoint filename, along with step and iteration."
   ]
  },
  {
   "cell_type": "code",
   "execution_count": null,
   "id": "56adca51-e3d3-4a2a-a99c-08e56e65868b",
   "metadata": {},
   "outputs": [],
   "source": [
    "subdir = \"checkpoints\"\n",
    "subdir = os.path.join(datadir, subdir)\n",
    "checkpoint_paths = os.listdir(subdir)\n",
    "checkpoint_paths = [os.path.join(subdir, f) for f in checkpoint_paths]\n",
    "checkpoint_paths = sorted(checkpoint_paths)\n",
    "\n",
    "checkpoints = []\n",
    "for path in checkpoint_paths:\n",
    "    (step, iteration) = experiments.setup.get_step_and_iteration_number(path)\n",
    "    checkpoints.append(\n",
    "        {\n",
    "            \"step\": step,\n",
    "            \"iteration\": iteration,\n",
    "            \"path\": path,\n",
    "        }\n",
    "    )"
   ]
  },
  {
   "cell_type": "markdown",
   "id": "5f7741b8-ce55-421f-aa1e-3b0e0836a10a",
   "metadata": {},
   "source": [
    "Get the diagnostic, lattices, and measurements. These will be reloaded at every `model.load(path)` but are the same for every model."
   ]
  },
  {
   "cell_type": "code",
   "execution_count": null,
   "id": "66dfb7dd-e15e-4028-a339-a3c5e3b97b9e",
   "metadata": {},
   "outputs": [],
   "source": [
    "model.load(checkpoints[0][\"path\"], device=device)\n",
    "diagnostic = model.diagnostic\n",
    "lattices = model.lattices\n",
    "measurements = model.measurements\n",
    "measurements_np = [grab(measurement) for measurement in measurements]"
   ]
  },
  {
   "cell_type": "markdown",
   "id": "8201767c-1f65-4391-9f7b-1ffb318bce98",
   "metadata": {},
   "source": [
    "## Evaluation"
   ]
  },
  {
   "cell_type": "code",
   "execution_count": null,
   "id": "603f7980-c1c9-4344-8021-c83cabf5e416",
   "metadata": {},
   "outputs": [],
   "source": [
    "def load_data(n):\n",
    "    return mf.data.toy.gen_data(\n",
    "        name=cfg[\"data\"][\"name\"],\n",
    "        size=n,\n",
    "        noise=cfg[\"data\"][\"noise\"],\n",
    "        shuffle=cfg[\"data\"][\"shuffle\"],\n",
    "        decorr=cfg[\"data\"][\"decorr\"],\n",
    "        seed=cfg[\"data\"][\"seed\"],\n",
    "        warp=cfg[\"data\"][\"warp\"],\n",
    "    )"
   ]
  },
  {
   "cell_type": "markdown",
   "id": "04336fab-7a95-4b31-a5d0-3d180f3e968a",
   "metadata": {},
   "source": [
    "### Density"
   ]
  },
  {
   "cell_type": "code",
   "execution_count": null,
   "id": "f5a5cf91-948b-4cf4-8e30-95e5a138cd9b",
   "metadata": {},
   "outputs": [],
   "source": [
    "@interact(\n",
    "    index=widgets.IntSlider(min=0, max=(len(checkpoints) - 1), value=0),\n",
    "    n=widgets.FloatLogSlider(min=2, max=6, value=1.00e+06),\n",
    "    xmax=widgets.FloatSlider(min=0.0, max=6.0, value=3.0),\n",
    "    bins=widgets.IntSlider(min=4, max=150, value=125),\n",
    "    res=widgets.IntSlider(min=4, max=250, value=150),\n",
    ")\n",
    "def update(index, n, xmax, bins, res):\n",
    "    model.load(checkpoints[index][\"path\"], device=device)\n",
    "\n",
    "    n = int(n)\n",
    "\n",
    "    x = model.sample(n)\n",
    "    x = grab(x)\n",
    "\n",
    "    x0 = load_data(n)\n",
    "\n",
    "    limits = 2 * [(-xmax, xmax)]\n",
    "    coords = 2 * [torch.linspace(-xmax, xmax, res)]\n",
    "    x_grid = torch.vstack([C.ravel() for C in torch.meshgrid(*coords, indexing=\"ij\")]).T\n",
    "    x_grid = x_grid.to(device)\n",
    "    log_prob = model.log_prob(x_grid)\n",
    "    prob = torch.exp(log_prob)\n",
    "    prob = prob.reshape((res, res))\n",
    "    prob = grab(prob)\n",
    "\n",
    "    fig, axs = pplt.subplots(ncols=3)\n",
    "    kws = dict(\n",
    "        # cmap=\"blues\"\n",
    "    )\n",
    "    axs[0].hist2d(x0[:, 0], x0[:, 1], bins=bins, range=limits, **kws)\n",
    "    axs[1].hist2d(x[:, 0], x[:, 1], bins=bins, range=limits, **kws)\n",
    "    axs[2].pcolormesh(coords[0], coords[1], prob.T, **kws)"
   ]
  },
  {
   "cell_type": "markdown",
   "id": "e9dc76a0-225c-436f-beec-7a0c07937e09",
   "metadata": {},
   "source": [
    "### Projections"
   ]
  },
  {
   "cell_type": "code",
   "execution_count": null,
   "id": "bfeca62c-95ce-4c4d-bae5-01f63fcbe25c",
   "metadata": {},
   "outputs": [],
   "source": [
    "@interact(\n",
    "    index=widgets.IntSlider(min=0, max=(len(checkpoints) - 1), value=0),\n",
    "    n=widgets.FloatLogSlider(min=2, max=6, value=50000),\n",
    "    log_ymin=widgets.FloatSlider(min=-5.0, max=-1.0, value=-3.0),\n",
    ")\n",
    "def update(index, n, log_ymin, kde=True, log=False):\n",
    "    model.load(checkpoints[index][\"path\"], device=device)\n",
    "\n",
    "    with torch.no_grad():\n",
    "\n",
    "        x = model.sample(int(n))\n",
    "        x = cvt(x)\n",
    "        predictions = model.simulate(x, kde=kde)\n",
    "        \n",
    "        _predictions = [grab(prediction) for prediction in predictions]\n",
    "        _measurements = [grab(measurement) for measurement in model.measurements]\n",
    "        \n",
    "        edges = grab(diagnostic.bin_edges)\n",
    "        coords = 0.5 * edges[:-1] + edges[1:]\n",
    "\n",
    "        kws = dict()\n",
    "\n",
    "        maxcols = 7\n",
    "        ncols = min(len(_measurements), maxcols)\n",
    "        nrows = int(np.ceil(len(_measurements) / ncols))\n",
    "        figheight = 1.3 * nrows\n",
    "        figwidth = min(10.0, 1.75 * ncols)\n",
    "        \n",
    "        fig, axs = pplt.subplots(ncols=ncols, nrows=nrows, figheight=figheight, figwidth=figwidth)\n",
    "        for j in range(len(measurements)):\n",
    "            ax = axs[j]            \n",
    "            scale = np.max(_measurements[j])\n",
    "            ax.plot(coords, _measurements[j] / scale, color=\"black\", **kws)\n",
    "            ax.plot(coords, _predictions[j] / scale, color=\"red\", **kws)\n",
    "        axs.format(ymax=1.25)\n",
    "        axs.format(ymin=(10.0 ** log_ymin))\n",
    "        if log:\n",
    "            axs.format(yscale=\"log\")\n",
    "        plt.show()"
   ]
  },
  {
   "cell_type": "code",
   "execution_count": null,
   "id": "759b0a84-f020-4223-b132-c6492f9ec787",
   "metadata": {},
   "outputs": [],
   "source": []
  }
 ],
 "metadata": {
  "kernelspec": {
   "display_name": "ot-flow",
   "language": "python",
   "name": "ot-flow"
  },
  "language_info": {
   "codemirror_mode": {
    "name": "ipython",
    "version": 3
   },
   "file_extension": ".py",
   "mimetype": "text/x-python",
   "name": "python",
   "nbconvert_exporter": "python",
   "pygments_lexer": "ipython3",
   "version": "3.8.10"
  }
 },
 "nbformat": 4,
 "nbformat_minor": 5
}
