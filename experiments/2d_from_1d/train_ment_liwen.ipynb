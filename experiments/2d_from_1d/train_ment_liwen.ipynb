{
 "cells": [
  {
   "cell_type": "markdown",
   "id": "04070025-f770-4ee8-9278-6628b6c4047e",
   "metadata": {},
   "source": [
    "## 2D-from-1D MENT model: attempt to replicate Liwen's work"
   ]
  },
  {
   "cell_type": "code",
   "execution_count": null,
   "id": "7fd5aa65-bf4e-4635-9b5b-ff169fcbb6d8",
   "metadata": {},
   "outputs": [],
   "source": [
    "import math\n",
    "import os\n",
    "import sys\n",
    "\n",
    "import matplotlib.pyplot as plt\n",
    "import numpy as np\n",
    "import proplot as pplt\n",
    "import scipy.interpolate\n",
    "from tqdm.notebook import tqdm\n",
    "\n",
    "import mentflow as mf"
   ]
  },
  {
   "cell_type": "code",
   "execution_count": null,
   "id": "a5331bcf-3816-461d-a758-31eda4f99fb2",
   "metadata": {},
   "outputs": [],
   "source": [
    "pplt.rc[\"cmap.discrete\"] = False\n",
    "pplt.rc[\"cmap.sequential\"] = \"viridis\"\n",
    "pplt.rc[\"figure.facecolor\"] = \"white\"\n",
    "pplt.rc[\"grid\"] = False"
   ]
  },
  {
   "cell_type": "markdown",
   "id": "1517e6dd-914a-4e91-93d1-23ed08e5acb9",
   "metadata": {},
   "source": [
    "Generate measurement data."
   ]
  },
  {
   "cell_type": "code",
   "execution_count": null,
   "id": "22ee0ee1-319d-4519-ba41-47400313cde7",
   "metadata": {},
   "outputs": [],
   "source": [
    "def rotation_matrix(angle):\n",
    "    _cos = np.cos(angle)\n",
    "    _sin = np.sin(angle)\n",
    "    return np.array([[_cos, _sin], [-_sin, _cos]])"
   ]
  },
  {
   "cell_type": "code",
   "execution_count": null,
   "id": "562c63ad-f798-4dc5-a2bf-9bf035ec88a0",
   "metadata": {},
   "outputs": [],
   "source": [
    "data_name = \"circles\"\n",
    "data_size = int(1.00e+06)\n",
    "data_noise = None\n",
    "xmax = 3.0\n",
    "n_bins = 64\n",
    "n_meas = 12\n",
    "\n",
    "dist = mf.data.toy.gen_dist(data_name, noise=data_noise)\n",
    "x0 = dist.sample(data_size)\n",
    "\n",
    "angles = np.linspace(0.0, np.pi, n_meas, endpoint=False)\n",
    "transfer_matrices = []\n",
    "for angle in angles:\n",
    "    matrix = rotation_matrix(angle)\n",
    "    transfer_matrices.append(matrix)\n",
    "    \n",
    "measurements = []\n",
    "bin_edges = np.linspace(-xmax, xmax, n_bins + 1)\n",
    "for matrix in transfer_matrices:\n",
    "    x_out = np.matmul(x0, matrix.T)\n",
    "    hist, _ = np.histogram(x_out[:, 0], bins=bin_edges, density=True)\n",
    "    measurements.append(hist)"
   ]
  },
  {
   "cell_type": "code",
   "execution_count": null,
   "id": "29ed9692-6c02-47f5-94fa-fdd9d5a0ac18",
   "metadata": {},
   "outputs": [],
   "source": [
    "n_iterations = 10\n",
    "\n",
    "G = measurements\n",
    "A = transfer_matrices\n",
    "\n",
    "n_points = n_bins\n",
    "n_constraints = n_meas\n",
    "V = bin_edges[-1] - bin_edges[0]  # square grid side length\n",
    "deltaV = V / n_points  # grid cell width\n",
    "\n",
    "bin_coords = 0.5 * (bin_edges[:-1] + bin_edges[1:])"
   ]
  },
  {
   "cell_type": "code",
   "execution_count": null,
   "id": "2172d376-b2a1-4a65-9e62-36bf4fcc0512",
   "metadata": {},
   "outputs": [],
   "source": [
    "def interpolate_1d(coords=None, values=None, x=0.0):\n",
    "    \"\"\"Interpolate 1d array `values` at point x.\"\"\"    \n",
    "    fint = scipy.interpolate.interp1d(coords, values, kind=\"linear\", fill_value=0.0, bounds_error=False)\n",
    "    return fint(x)"
   ]
  },
  {
   "cell_type": "code",
   "execution_count": null,
   "id": "d2551b1d-87a4-4906-bf17-67493a3a8f1c",
   "metadata": {},
   "outputs": [],
   "source": [
    "coords = np.linspace(-3.0, 3.0, 10)\n",
    "values = np.exp(-coords**2)\n",
    "\n",
    "coords_int = np.linspace(coords[0], coords[-1], 100)\n",
    "values_int = [interpolate_1d(coords, values, coords_int[i]) for i in range(len(coords_int))]\n",
    "\n",
    "fig, ax = pplt.subplots(figsize=(3, 2))\n",
    "ax.plot(coords_int, values_int, color=\"gray\")\n",
    "ax.plot(coords, values, lw=0, marker=\".\", color=\"black\")\n",
    "plt.show()"
   ]
  },
  {
   "cell_type": "code",
   "execution_count": null,
   "id": "571e5243-3fe4-4a4f-8f90-e3222c58eb66",
   "metadata": {},
   "outputs": [],
   "source": [
    "def rotate(u_i, T, v_i_coords=None, h_j_values=None, h_j_coords=None):\n",
    "    \"\"\"\n",
    "    Given a point (u_i, v_i) in the ith coordinate system, find the point (u_j, v_j)\n",
    "    in the jth coordinate system, then compute h_j(u_j). Do this for a set of \n",
    "    integration points v_i. (Take a vertical line in the u_i-v_i plane, apply T,\n",
    "    compute h_j at each resulting u_j.)\n",
    "    \"\"\"\n",
    "    values = np.zeros(len(v_i_coords))\n",
    "    for index, v_i in enumerate(v_i_coords):\n",
    "        u_j = np.dot(T[0], [u_i, v_i])\n",
    "        values[index] = interpolate_1d(h_j_coords, h_j_values, u_j)        \n",
    "    return values"
   ]
  },
  {
   "cell_type": "code",
   "execution_count": null,
   "id": "646a819d-1be6-438e-9681-5683ebbadd77",
   "metadata": {},
   "outputs": [],
   "source": [
    "# Define matrix connecting i, j coordinate systems.\n",
    "T = np.zeros((n_constraints, n_constraints, 2, 2))\n",
    "for i in range(n_constraints):\n",
    "    for j in range(n_constraints):\n",
    "        T[i][j] = np.matmul(A[i], np.linalg.inv(A[j]))\n",
    "\n",
    "# Initialize the component (h) functions.\n",
    "H = []\n",
    "for i in range(n_constraints):\n",
    "    h = np.ones(len(G[i]))\n",
    "    h = h / np.sum(h)\n",
    "    H.append(h)\n",
    "\n",
    "# Start outer iterations.\n",
    "for iteration in range(n_iterations):\n",
    "    for i in range(n_constraints):\n",
    "        print(f\"iter={iteration:03.0f} proj={i:02.0f}\")\n",
    "        \n",
    "        for j in range(n_points):\n",
    "            \n",
    "            # Compute the location on the measurement axis (u). This will be the same\n",
    "            # for all projections since we use the same measurement grid on all\n",
    "            # measurements.\n",
    "            u_i = bin_coords[j]\n",
    "            \n",
    "            # Compute the product of the component (h) functions at point u_i.\n",
    "            v_i_coords = bin_coords  # could change\n",
    "            product = np.ones(n_points)\n",
    "            for k in range(n_constraints):\n",
    "                if i != k:\n",
    "                    h_k_values = H[k]\n",
    "                    h_k_coords = bin_coords\n",
    "                    product *= rotate(u_i, T[k][i], v_i_coords, h_k_values, h_k_coords)\n",
    "\n",
    "            # Integrate (sum) over v_i axis.\n",
    "            integral = np.sum(product)\n",
    "\n",
    "            # Update component (h) functions.\n",
    "            if G[i][j] == 0.0:\n",
    "                H[i][j] = 0.0\n",
    "            else:\n",
    "                if integral == 0.0:\n",
    "                    print(f\"A singular point occurred when calculating the h function\")\n",
    "                    print(f\"on the {iteration + 1}th iteration and the {i + 1}th direction!\")\n",
    "                    print(f\"Location of singularity：{u_i}\")\n",
    "                    raise ValueError\n",
    "                    \n",
    "                H[i][j] = G[i][j] / integral\n",
    "\n",
    "            if H[i][j] > 1.00e+308:\n",
    "                print(\"It exploded!!!\")\n",
    "                print(\"Take the point with the smallest difference from the constraints as the iteration result\")\n",
    "                print(\"H[i, j] = {}\".format(H[i][j]))\n",
    "                print(\"G[i, j] = {}\".format(G[i][j]))\n",
    "                print(\"integral = {}\".format(integral))\n",
    "                raise ValueError\n",
    "\n",
    "                ### [What does this do?]\n",
    "                # anchor = np.argmin(Differ)\n",
    "                # for i in range(n_constraints):\n",
    "                #     H[i] = H_iterative[anchor - 1][i]\n",
    "        \n",
    "        H[i] = H[i] / np.sum(H[i])"
   ]
  },
  {
   "cell_type": "code",
   "execution_count": null,
   "id": "bbff6d57-397b-4ac9-8abd-4b3f27f1c1ec",
   "metadata": {},
   "outputs": [],
   "source": [
    "def evaluate_prob(x, y, prior=None):\n",
    "    \"\"\"Evaluate the probability distribution using the current h functions.\"\"\"\n",
    "    prob = 1.0\n",
    "    for i in range(n_constraints):\n",
    "        (u, v) = np.matmul(A[i], [x, y])\n",
    "\n",
    "        values = H[i]\n",
    "        coords = bin_coords\n",
    "        prob *= interpolate_1d(coords, values, u)\n",
    "    return prob"
   ]
  },
  {
   "cell_type": "code",
   "execution_count": null,
   "id": "c8c30229-b67b-4b68-b2c6-cd1ce133a54b",
   "metadata": {},
   "outputs": [],
   "source": [
    "shape = (150, 150)\n",
    "coords = [np.linspace(-3.0, 3.0, s) for s in shape]\n",
    "prob = np.zeros(shape)\n",
    "for i in range(len(coords[0])):\n",
    "    for j in range(len(coords[1])):\n",
    "        x = coords[0][i]\n",
    "        y = coords[1][j]\n",
    "        prob[i, j] = evaluate_prob(x, y)\n",
    "prob = prob / np.sum(prob)\n",
    "\n",
    "fig, ax = pplt.subplots()\n",
    "ax.pcolormesh(coords[0], coords[1], prob.T)\n",
    "plt.show()"
   ]
  },
  {
   "cell_type": "code",
   "execution_count": null,
   "id": "2190faba-9e8b-4679-88ab-4b6a710b183a",
   "metadata": {},
   "outputs": [],
   "source": []
  }
 ],
 "metadata": {
  "kernelspec": {
   "display_name": "ment-flow",
   "language": "python",
   "name": "ment-flow"
  },
  "language_info": {
   "codemirror_mode": {
    "name": "ipython",
    "version": 3
   },
   "file_extension": ".py",
   "mimetype": "text/x-python",
   "name": "python",
   "nbconvert_exporter": "python",
   "pygments_lexer": "ipython3",
   "version": "3.8.18"
  }
 },
 "nbformat": 4,
 "nbformat_minor": 5
}
