{
 "cells": [
  {
   "cell_type": "markdown",
   "id": "6bc48d40-9344-4e79-b84f-e03b12720dfa",
   "metadata": {},
   "source": [
    "# 2D MENT-Flow"
   ]
  },
  {
   "cell_type": "code",
   "execution_count": null,
   "id": "14323fbd-8356-43b5-aaaa-1636ba4eb950",
   "metadata": {},
   "outputs": [],
   "source": [
    "import numpy as np\n",
    "import proplot as pplt\n",
    "import scipy.interpolate\n",
    "import torch\n",
    "import zuko\n",
    "from tqdm.notebook import tqdm\n",
    "\n",
    "import mentflow as mf\n",
    "from mentflow.utils import grab\n",
    "from mentflow.utils import unravel\n",
    "from mentflow.wrappers import WrappedZukoFlow\n",
    "\n",
    "# Local\n",
    "import plotting\n",
    "import utils"
   ]
  },
  {
   "cell_type": "code",
   "execution_count": null,
   "id": "b8b7669d-9bfc-4fe1-94c6-0a14be7ac005",
   "metadata": {},
   "outputs": [],
   "source": [
    "pplt.rc[\"cmap.discrete\"] = False\n",
    "pplt.rc[\"cmap.sequential\"] = \"viridis\"\n",
    "pplt.rc[\"figure.facecolor\"] = \"white\"\n",
    "pplt.rc[\"grid\"] = False"
   ]
  },
  {
   "cell_type": "code",
   "execution_count": null,
   "id": "9287b2fd-2dd4-408b-aa96-7961b7044664",
   "metadata": {},
   "outputs": [],
   "source": [
    "device = torch.device(\"mps\")\n",
    "precision = torch.float32\n",
    "\n",
    "def send(x):\n",
    "    return x.type(precision).to(device)"
   ]
  },
  {
   "cell_type": "markdown",
   "id": "e1d86dd4-2d40-47f4-a368-dd1670112180",
   "metadata": {},
   "source": [
    "## Data"
   ]
  },
  {
   "cell_type": "code",
   "execution_count": null,
   "id": "60acd5d0-756c-431c-8c8a-2248aefb331e",
   "metadata": {},
   "outputs": [],
   "source": [
    "data_name = \"spirals\"\n",
    "data_size = int(1.00e+06)\n",
    "data_noise = None\n",
    "xmax = 3.25\n",
    "n_bins = 75\n",
    "n_meas = 6\n",
    "min_angle = 0.0  # [deg]\n",
    "max_angle = 180.0  # [deg]\n",
    "meas_noise = 0.00\n",
    "\n",
    "# Define the input distribution.\n",
    "d = 2\n",
    "dist = mf.data.toy.gen_dist(\n",
    "    data_name,\n",
    "    noise=data_noise,\n",
    ")\n",
    "\n",
    "# Draw samples from the input distribution.\n",
    "x0 = dist.sample(data_size)\n",
    "x0 = send(x0)\n",
    "\n",
    "# Define linear transformations.\n",
    "angles = np.linspace(np.radians(min_angle), np.radians(max_angle), n_meas, endpoint=False)\n",
    "transforms = []\n",
    "for angle in angles:\n",
    "    matrix = mf.transform.rotation_matrix(angle)\n",
    "    matrix = send(matrix)\n",
    "    transform = mf.transform.Linear(matrix)\n",
    "    transform = transform.to(device)\n",
    "    transforms.append(transform)\n",
    "\n",
    "# Create histogram diagnostic (x axis).\n",
    "bin_edges = torch.linspace(-xmax, xmax, n_bins + 1)\n",
    "bin_edges = send(bin_edges)\n",
    "\n",
    "diagnostic = mf.diagnostics.Histogram1D(axis=0, bin_edges=bin_edges)\n",
    "diagnostic = diagnostic.to(device)\n",
    "diagnostics = [diagnostic]\n",
    "\n",
    "# Generate training data.\n",
    "diagnostic.kde = False\n",
    "measurements = mf.simulate(x0, transforms, diagnostics)\n",
    "if meas_noise:\n",
    "    for i in range(len(measurements)):\n",
    "        for j in range(len(measurements[i])):\n",
    "            measurement = measurements[i][j]\n",
    "            frac_noise = meas_noise * torch.randn(measurement.shape[0])\n",
    "            frac_noise = send(frac_noise)\n",
    "            measurement *= (1.0 + frac_noise)\n",
    "            measurement = torch.clamp(measurement, 0.0, None)\n",
    "            measurements[i][j] = measurement\n",
    "diagnostic.kde = True"
   ]
  },
  {
   "cell_type": "markdown",
   "id": "5b3df5ee-8654-489d-bb37-6a583bdcf199",
   "metadata": {},
   "source": [
    "## Model"
   ]
  },
  {
   "cell_type": "code",
   "execution_count": null,
   "id": "0f6337f9-8423-43f5-8705-4b150925d8a5",
   "metadata": {},
   "outputs": [],
   "source": [
    "n_transforms = 3\n",
    "n_spline_bins = 20\n",
    "n_hidden_layers = 5\n",
    "n_hidden_units = 64\n",
    "prior_scale = 1.0\n",
    "penalty_parameter = 5.0\n",
    "discrepancy_function = \"kld\""
   ]
  },
  {
   "cell_type": "code",
   "execution_count": null,
   "id": "f7f0de12-6c8b-46e8-83eb-328b24e41f62",
   "metadata": {},
   "outputs": [],
   "source": [
    "flow = zuko.flows.NSF(\n",
    "    features=d,\n",
    "    transforms=n_transforms,\n",
    "    bins=n_spline_bins,\n",
    "    hidden_features=(n_hidden_layers * [n_hidden_units]),\n",
    "    randperm=True,\n",
    ")\n",
    "flow = zuko.flows.Flow(flow.transform.inv, flow.base)  # faster sampling\n",
    "flow = flow.to(device)\n",
    "flow = WrappedZukoFlow(flow)\n",
    "\n",
    "prior = zuko.distributions.DiagNormal(\n",
    "    send(torch.zeros(d)),\n",
    "    send(prior_scale * torch.ones(d)),\n",
    ")\n",
    "\n",
    "entropy_estimator = mf.entropy.MonteCarloEntropyEstimator()\n",
    "\n",
    "model = mf.MENTFlow(\n",
    "    generator=flow,\n",
    "    prior=prior,\n",
    "    entropy_estimator=entropy_estimator,\n",
    "    transforms=transforms,\n",
    "    diagnostics=diagnostics,\n",
    "    measurements=measurements,\n",
    "    penalty_parameter=penalty_parameter,\n",
    "    discrepancy_function=discrepancy_function,\n",
    ")\n",
    "model = model.to(device)"
   ]
  },
  {
   "cell_type": "markdown",
   "id": "6654a39c-52f6-40f9-bc4f-0a9a0d9e7d24",
   "metadata": {},
   "source": [
    "## Diagnostics"
   ]
  },
  {
   "cell_type": "code",
   "execution_count": null,
   "id": "cb2c61c0-fd34-4f10-b158-0b16d4e67dfc",
   "metadata": {},
   "outputs": [],
   "source": [
    "monitor_freq = 25\n",
    "vis_bins = 75\n",
    "vis_size = int(1.00e+05)\n",
    "vis_res = 150\n",
    "vis_maxcols = 7"
   ]
  },
  {
   "cell_type": "code",
   "execution_count": null,
   "id": "27b6e15b-f9ef-4c9d-ab39-2ec2e9fa516d",
   "metadata": {},
   "outputs": [],
   "source": [
    "monitor = mf.train.Monitor(model=model, momentum=0.98, freq=monitor_freq)"
   ]
  },
  {
   "cell_type": "code",
   "execution_count": null,
   "id": "aa00c358-4ba4-45a8-84d8-d1d7548a8eb1",
   "metadata": {},
   "outputs": [],
   "source": [
    "def make_plots(x, prob, predictions):\n",
    "    figs = []\n",
    "\n",
    "    # Plot the true samples, model samples, and model density.\n",
    "    fig, axs = plotting.plot_dist(\n",
    "        dist.sample(vis_size),\n",
    "        x,\n",
    "        prob=prob,\n",
    "        coords=([np.linspace(-xmax, xmax, s) for s in prob.shape]),\n",
    "        n_bins=vis_bins,\n",
    "        limits=(2 * [(-xmax, xmax)]),\n",
    "    )\n",
    "    figs.append(fig)\n",
    "\n",
    "    # Plot overlayed simulated/measured projections.    \n",
    "    fig, axs = plotting.plot_proj(\n",
    "        [grab(measurement) for measurement in unravel(measurements)],\n",
    "        predictions,\n",
    "        bin_edges=grab(diagnostic.bin_edges),\n",
    "        maxcols=vis_maxcols,\n",
    "        kind=\"line\",\n",
    "    )\n",
    "    figs.append(fig)\n",
    "\n",
    "    return figs\n",
    "\n",
    "\n",
    "def plotter(model):\n",
    "    # Evaluate the model density on a grid.\n",
    "    res = vis_res\n",
    "    grid_coords = [np.linspace(-xmax, xmax, res) for i in range(2)]\n",
    "    grid_points = mf.utils.get_grid_points(grid_coords)\n",
    "    grid_points = torch.from_numpy(grid_points)\n",
    "    grid_points = send(grid_points)\n",
    "    log_prob = model.log_prob(grid_points)\n",
    "    log_prob = log_prob.reshape((res, res))\n",
    "    prob = torch.exp(log_prob)\n",
    "\n",
    "    # Draw samples from the model.\n",
    "    x = send(model.sample(vis_size))\n",
    "\n",
    "    # Simulate the measurements.\n",
    "    for diagnostics in model.diagnostics:\n",
    "        diagnostic.kde = False\n",
    "        \n",
    "    predictions = model.simulate(x)\n",
    "    predictions = [grab(prediction) for prediction in unravel(predictions)]\n",
    "    \n",
    "    for diagnostics in model.diagnostics:\n",
    "        diagnostic.kde = True\n",
    "\n",
    "    return make_plots(grab(x), grab(prob), predictions)"
   ]
  },
  {
   "cell_type": "markdown",
   "id": "0214d684-16fc-4ff8-83af-7522858bb7de",
   "metadata": {},
   "source": [
    "## Training"
   ]
  },
  {
   "cell_type": "code",
   "execution_count": null,
   "id": "833828de-45c0-4ab1-844e-408a26a74699",
   "metadata": {},
   "outputs": [],
   "source": [
    "lr = 0.001\n",
    "weight_decay = 0.0\n",
    "lr_min = 0.001\n",
    "lr_patience = 500\n",
    "lr_drop = 0.25\n",
    "\n",
    "n_epochs = 10\n",
    "n_iterations = 400\n",
    "batch_size = 30000\n",
    "\n",
    "penalty_step = 20.0\n",
    "penalty_scale = 1.1\n",
    "penalty_max = None\n",
    "\n",
    "vis_freq = None\n",
    "check_freq = None"
   ]
  },
  {
   "cell_type": "code",
   "execution_count": null,
   "id": "ba55cec8-28e4-45ed-b695-a851f0be610b",
   "metadata": {},
   "outputs": [],
   "source": [
    "optimizer = torch.optim.AdamW(\n",
    "    model.parameters(),\n",
    "    lr=lr,\n",
    "    weight_decay=weight_decay,\n",
    ")\n",
    "\n",
    "lr_scheduler = torch.optim.lr_scheduler.ReduceLROnPlateau(\n",
    "    optimizer,\n",
    "    min_lr=lr_min,\n",
    "    patience=lr_patience,\n",
    "    factor=lr_drop,\n",
    ")\n",
    "\n",
    "trainer = mf.train.Trainer(\n",
    "    model=model,\n",
    "    optimizer=optimizer,\n",
    "    lr_scheduler=lr_scheduler,\n",
    "    monitor=monitor,\n",
    "    plotter=plotter,\n",
    "    precision=precision,\n",
    "    device=device,\n",
    "    save=False,\n",
    ")\n",
    "\n",
    "trainer.train(\n",
    "    epochs=n_epochs,\n",
    "    iterations=n_iterations,\n",
    "    batch_size=batch_size,\n",
    "    penalty_step=penalty_step,\n",
    "    penalty_scale=penalty_scale,\n",
    "    penalty_max=penalty_max,\n",
    "    save=False,\n",
    "    vis_freq=vis_freq,\n",
    "    checkpoint_freq=check_freq,\n",
    ")"
   ]
  },
  {
   "cell_type": "code",
   "execution_count": null,
   "id": "85b318dd-c215-4f78-a842-ecf5741788a1",
   "metadata": {},
   "outputs": [],
   "source": []
  }
 ],
 "metadata": {
  "kernelspec": {
   "display_name": "ment-flow",
   "language": "python",
   "name": "ment-flow"
  },
  "language_info": {
   "codemirror_mode": {
    "name": "ipython",
    "version": 3
   },
   "file_extension": ".py",
   "mimetype": "text/x-python",
   "name": "python",
   "nbconvert_exporter": "python",
   "pygments_lexer": "ipython3",
   "version": "3.8.18"
  }
 },
 "nbformat": 4,
 "nbformat_minor": 5
}
