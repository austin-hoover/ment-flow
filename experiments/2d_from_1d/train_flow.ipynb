{
 "cells": [
  {
   "cell_type": "markdown",
   "id": "6bc48d40-9344-4e79-b84f-e03b12720dfa",
   "metadata": {},
   "source": [
    "# Train 2D MENT-Flow model with neural spline flow generator"
   ]
  },
  {
   "cell_type": "code",
   "execution_count": null,
   "id": "14323fbd-8356-43b5-aaaa-1636ba4eb950",
   "metadata": {},
   "outputs": [],
   "source": [
    "import os\n",
    "import pickle\n",
    "import sys\n",
    "import time\n",
    "\n",
    "import numpy as np\n",
    "import proplot as pplt\n",
    "import scipy.interpolate\n",
    "import torch\n",
    "import zuko\n",
    "from ipywidgets import interact\n",
    "from ipywidgets import widgets\n",
    "from tqdm.notebook import tqdm\n",
    "\n",
    "import mentflow as mf\n",
    "from mentflow.utils import grab\n",
    "from mentflow.utils import unravel\n",
    "from mentflow.wrappers import WrappedZukoFlow\n",
    "\n",
    "# Local\n",
    "import plotting"
   ]
  },
  {
   "cell_type": "code",
   "execution_count": null,
   "id": "b8b7669d-9bfc-4fe1-94c6-0a14be7ac005",
   "metadata": {},
   "outputs": [],
   "source": [
    "pplt.rc[\"cmap.discrete\"] = False\n",
    "pplt.rc[\"cmap.sequential\"] = pplt.Colormap(\"dark_r\", space=\"hpl\")\n",
    "pplt.rc[\"figure.facecolor\"] = \"white\"\n",
    "pplt.rc[\"grid\"] = False"
   ]
  },
  {
   "cell_type": "code",
   "execution_count": null,
   "id": "9287b2fd-2dd4-408b-aa96-7961b7044664",
   "metadata": {},
   "outputs": [],
   "source": [
    "device = torch.device(\"mps\")\n",
    "precision = torch.float32\n",
    "\n",
    "def send(x):\n",
    "    return x.type(precision).to(device)"
   ]
  },
  {
   "cell_type": "markdown",
   "id": "e1d86dd4-2d40-47f4-a368-dd1670112180",
   "metadata": {},
   "source": [
    "## Data"
   ]
  },
  {
   "cell_type": "code",
   "execution_count": null,
   "id": "2c8bc0cc-3169-432d-adfb-df90a3e129cf",
   "metadata": {},
   "outputs": [],
   "source": [
    "# Parameters\n",
    "data_name = \"two-spirals\"\n",
    "data_kws = dict()\n",
    "data_size = int(1.00e+06)\n",
    "data_noise = None\n",
    "xmax = 3.5\n",
    "n_bins = 80\n",
    "n_meas = 5\n",
    "meas_noise = 0.00  # fractional noise std\n",
    "meas_noise_type = \"gaussian\"  # {\"uniform\", \"gaussian\"}\n",
    "meas_min_angle = 0.0 * np.pi\n",
    "meas_max_angle = 1.0 * np.pi\n",
    "seed = 0"
   ]
  },
  {
   "cell_type": "code",
   "execution_count": null,
   "id": "60acd5d0-756c-431c-8c8a-2248aefb331e",
   "metadata": {},
   "outputs": [],
   "source": [
    "# Set random state.\n",
    "if seed is not None:\n",
    "    torch.manual_seed(seed)\n",
    "rng = np.random.default_rng(seed)\n",
    "\n",
    "# Draw samples from the input distribution.\n",
    "d = 2\n",
    "dist = mf.data.toy.gen_dist(data_name, noise=data_noise, **data_kws)\n",
    "x0 = dist.sample(data_size)\n",
    "x0 = send(x0)\n",
    "\n",
    "# Define transforms.\n",
    "angles = np.linspace(meas_min_angle, meas_max_angle, n_meas, endpoint=False)\n",
    "transforms = []\n",
    "for angle in angles:\n",
    "    matrix = mf.transform.rotation_matrix(angle)\n",
    "    matrix = send(matrix)\n",
    "    transform = mf.transform.LinearTransform(matrix)\n",
    "    transform = transform.to(device)\n",
    "    transforms.append(transform)\n",
    "\n",
    "# Create histogram diagnostic (x axis).\n",
    "bin_edges = torch.linspace(-xmax, xmax, n_bins + 1)\n",
    "bin_edges = send(bin_edges)\n",
    "\n",
    "diagnostic = mf.diagnostics.Histogram1D(axis=0, bin_edges=bin_edges)\n",
    "diagnostic = diagnostic.to(device)\n",
    "diagnostics = [diagnostic]\n",
    "\n",
    "# Generate training data.\n",
    "diagnostic.kde = False\n",
    "measurements = mf.simulate(x0, transforms, diagnostics)\n",
    "if meas_noise:\n",
    "    for i in range(len(measurements)):\n",
    "        for j in range(len(measurements[i])):\n",
    "            measurement = measurements[i][j]\n",
    "\n",
    "            frac_noise = torch.zeros(measurement.shape[0])\n",
    "            if meas_noise_type == \"uniform\":\n",
    "                frac_noise = meas_noise * torch.rand(measurement.shape[0]) * 2.0\n",
    "            elif meas_noise_type == \"gaussian\":\n",
    "                frac_noise = meas_noise * torch.randn(measurement.shape[0])\n",
    "            else:\n",
    "                raise ValueError(\"Invalid meas_noise_type\")\n",
    "            frac_noise = send(frac_noise)\n",
    "            noise = frac_noise * measurement        \n",
    "            noise = send(noise)\n",
    "            measurement = measurement + noise\n",
    "            measurement = torch.clamp(measurement, 0.0, None)\n",
    "            \n",
    "            measurements[i][j] = measurement\n",
    "diagnostic.kde = True"
   ]
  },
  {
   "cell_type": "markdown",
   "id": "969e9184-afe0-468d-9e56-00fd6156a45d",
   "metadata": {},
   "source": [
    "View the data in the transformed space."
   ]
  },
  {
   "cell_type": "code",
   "execution_count": null,
   "id": "ce816d65-2652-48d0-b79b-3576e2137f36",
   "metadata": {},
   "outputs": [],
   "source": [
    "@interact\n",
    "def update(index=(0, n_meas - 1)):\n",
    "    x = transforms[index](x0)\n",
    "    x = grab(x)\n",
    "    \n",
    "    fig, ax = pplt.subplots()\n",
    "    limits = 2 * [(-xmax, +xmax)]\n",
    "    ax.hist2d(x[:, 0], x[:, 1], bins=100, range=limits)\n",
    "    \n",
    "    pax = ax.panel_axes(\"bottom\", width=0.75)\n",
    "    _hist, _edges = np.histogram(x[:, 0], bins=(len(bin_edges) - 1), density=True)\n",
    "    _meas = grab(measurements[index][0])\n",
    "    _scale = _meas.max()\n",
    "    plotting.plot_hist(_hist / _scale, _edges, ax=pax, color=\"black\", alpha=0.3)\n",
    "    plotting.plot_hist(_meas / _scale, grab(bin_edges), ax=pax, color=\"black\")"
   ]
  },
  {
   "cell_type": "markdown",
   "id": "887b302c-1405-4300-ba71-00b50bf3ef8a",
   "metadata": {},
   "source": [
    "Plot the integration lines in the input and transformed space."
   ]
  },
  {
   "cell_type": "code",
   "execution_count": null,
   "id": "ba5be7c8-a119-42c3-a8db-bf0cc1d8e6da",
   "metadata": {},
   "outputs": [],
   "source": [
    "@interact\n",
    "def update(index=(0, len(measurements) - 1)):\n",
    "    transform = transforms[index]\n",
    "    \n",
    "    x = send(dist.sample(100000))\n",
    "    y = transform(x)\n",
    "    y = grab(y)\n",
    "    x = grab(x)\n",
    "    \n",
    "    fig, axs = pplt.subplots(ncols=2)\n",
    "    limits = 2 * [(-xmax, +xmax)]\n",
    "    \n",
    "    for ax, _x in zip(axs, [x, y]):\n",
    "        ax.hist2d(_x[:, 0], _x[:, 1], bins=100, range=limits,)\n",
    "    \n",
    "    n_lines = 20\n",
    "    n_dots_per_line = 100\n",
    "    y = mf.utils.get_grid_points_torch(\n",
    "        2.0 * torch.linspace(-xmax, +xmax, n_lines),\n",
    "        2.0 * torch.linspace(-xmax, +xmax, n_dots_per_line),\n",
    "    )\n",
    "    y = send(y)\n",
    "    \n",
    "    x = transform.inverse(y)\n",
    "    x = grab(x)\n",
    "    y = grab(y)\n",
    "    \n",
    "    for ax, _x in zip(axs, [x, y]):\n",
    "        for line in np.split(_x, n_lines):\n",
    "            ax.plot(line[:, 0], line[:, 1], color=\"white\", alpha=0.5)\n",
    "    axs.format(xlim=(-xmax, xmax), ylim=(-xmax, xmax))\n",
    "    pplt.show()"
   ]
  },
  {
   "cell_type": "markdown",
   "id": "5b3df5ee-8654-489d-bb37-6a583bdcf199",
   "metadata": {},
   "source": [
    "## Model"
   ]
  },
  {
   "cell_type": "code",
   "execution_count": null,
   "id": "0f6337f9-8423-43f5-8705-4b150925d8a5",
   "metadata": {},
   "outputs": [],
   "source": [
    "# Parameters\n",
    "n_transforms = 5\n",
    "n_hidden_layers = 3\n",
    "n_hidden_units = 64\n",
    "n_spline_bins = 20\n",
    "prior_scale = 1.0  # Gaussian prior std\n",
    "discrepancy_function = \"kld\""
   ]
  },
  {
   "cell_type": "code",
   "execution_count": null,
   "id": "f7f0de12-6c8b-46e8-83eb-328b24e41f62",
   "metadata": {},
   "outputs": [],
   "source": [
    "flow = zuko.flows.NSF(\n",
    "    features=d,\n",
    "    transforms=n_transforms,\n",
    "    bins=n_spline_bins,\n",
    "    hidden_features=(n_hidden_layers * [n_hidden_units]),\n",
    "    randperm=True,\n",
    ")\n",
    "flow = zuko.flows.Flow(flow.transform.inv, flow.base)  # faster sampling\n",
    "flow = flow.to(device)\n",
    "flow = WrappedZukoFlow(flow)\n",
    "\n",
    "prior = zuko.distributions.DiagNormal(\n",
    "    send(torch.zeros(d)),\n",
    "    send(prior_scale * torch.ones(d)),\n",
    ")\n",
    "\n",
    "entropy_estimator = mf.entropy.MonteCarloEntropyEstimator()\n",
    "\n",
    "model = mf.MENTFlow(\n",
    "    generator=flow,\n",
    "    prior=prior,\n",
    "    entropy_estimator=entropy_estimator,\n",
    "    transforms=transforms,\n",
    "    diagnostics=diagnostics,\n",
    "    measurements=measurements,\n",
    "    penalty_parameter=0.0,\n",
    "    discrepancy_function=discrepancy_function,\n",
    ")\n",
    "model = model.to(device)"
   ]
  },
  {
   "cell_type": "markdown",
   "id": "365a2150-3038-4c62-ab2d-00857f4335ce",
   "metadata": {},
   "source": [
    "## Training"
   ]
  },
  {
   "cell_type": "code",
   "execution_count": null,
   "id": "833828de-45c0-4ab1-844e-408a26a74699",
   "metadata": {},
   "outputs": [],
   "source": [
    "# Parameters\n",
    "n_epochs = 10\n",
    "n_iterations = 300\n",
    "batch_size = 30000\n",
    "\n",
    "lr = 0.005\n",
    "weight_decay = 0.0\n",
    "lr_min = 0.001\n",
    "lr_patience = 400\n",
    "lr_drop = 0.1\n",
    "\n",
    "penalty_parameter = 2.0\n",
    "penalty_step = 20.0\n",
    "penalty_scale = 1.2\n",
    "penalty_max = None\n",
    "dmax = 7.50e-04\n",
    "\n",
    "monitor_freq = 25\n",
    "vis_freq = None\n",
    "vis_bins = 125\n",
    "vis_size = int(1.00e+06)"
   ]
  },
  {
   "cell_type": "code",
   "execution_count": null,
   "id": "aa00c358-4ba4-45a8-84d8-d1d7548a8eb1",
   "metadata": {},
   "outputs": [],
   "source": [
    "def plotter(model):\n",
    "    figs = plotting.plot_model(\n",
    "        model,\n",
    "        dist,\n",
    "        n=vis_size,\n",
    "        bins=vis_bins,\n",
    "        xmax=xmax,\n",
    "        maxcols=7,\n",
    "        kind=\"line\",\n",
    "        colors=[\"black\", \"red\"],\n",
    "        device=device,\n",
    "    )\n",
    "    return figs"
   ]
  },
  {
   "cell_type": "code",
   "execution_count": null,
   "id": "ba55cec8-28e4-45ed-b695-a851f0be610b",
   "metadata": {},
   "outputs": [],
   "source": [
    "optimizer = torch.optim.AdamW(\n",
    "    model.parameters(),\n",
    "    lr=lr,\n",
    "    weight_decay=weight_decay,\n",
    ")\n",
    "\n",
    "lr_scheduler = torch.optim.lr_scheduler.ReduceLROnPlateau(\n",
    "    optimizer,\n",
    "    min_lr=lr_min,\n",
    "    patience=lr_patience,\n",
    "    factor=lr_drop,\n",
    ")\n",
    "\n",
    "model.penalty_parameter = penalty_parameter\n",
    "\n",
    "monitor = mf.train.Monitor(model=model, momentum=0.80, freq=monitor_freq)\n",
    "\n",
    "trainer = mf.train.Trainer(\n",
    "    model=model,\n",
    "    optimizer=optimizer,\n",
    "    lr_scheduler=lr_scheduler,\n",
    "    monitor=monitor,\n",
    "    plotter=plotter,\n",
    "    precision=precision,\n",
    "    device=device,\n",
    "    save=False,\n",
    ")\n",
    "\n",
    "trainer.train(\n",
    "    epochs=n_epochs,\n",
    "    iterations=n_iterations,\n",
    "    batch_size=batch_size,\n",
    "    penalty_step=penalty_step,\n",
    "    penalty_scale=penalty_scale,\n",
    "    penalty_max=penalty_max,\n",
    "    vis_freq=vis_freq,\n",
    "    dmax=dmax,\n",
    ")"
   ]
  },
  {
   "cell_type": "code",
   "execution_count": null,
   "id": "7f58b581-7ed3-4851-af28-b258a59e0faf",
   "metadata": {},
   "outputs": [],
   "source": []
  }
 ],
 "metadata": {
  "kernelspec": {
   "display_name": "ment-flow",
   "language": "python",
   "name": "ment-flow"
  },
  "language_info": {
   "codemirror_mode": {
    "name": "ipython",
    "version": 3
   },
   "file_extension": ".py",
   "mimetype": "text/x-python",
   "name": "python",
   "nbconvert_exporter": "python",
   "pygments_lexer": "ipython3",
   "version": "3.8.18"
  }
 },
 "nbformat": 4,
 "nbformat_minor": 5
}
