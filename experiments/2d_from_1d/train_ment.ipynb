{
 "cells": [
  {
   "cell_type": "markdown",
   "id": "ffe9f497-d4a3-4a43-a252-49a39186fa40",
   "metadata": {},
   "source": [
    "# Train 2D MENT algorithm"
   ]
  },
  {
   "cell_type": "code",
   "execution_count": null,
   "id": "a372ebea-1564-400d-aa30-2b99eef0495c",
   "metadata": {},
   "outputs": [],
   "source": [
    "import mentflow as mf\n",
    "import numpy as np\n",
    "import proplot as pplt\n",
    "import scipy.interpolate\n",
    "from tqdm.notebook import tqdm\n",
    "\n",
    "pplt.rc[\"cmap.discrete\"] = False\n",
    "pplt.rc[\"cmap.sequential\"] = \"viridis\"\n",
    "pplt.rc[\"figure.facecolor\"] = \"white\"\n",
    "pplt.rc[\"grid\"] = False"
   ]
  },
  {
   "cell_type": "code",
   "execution_count": null,
   "id": "7433cd2a-dc0a-4df0-a09a-e5c57ccb32c1",
   "metadata": {},
   "outputs": [],
   "source": [
    "data_name = \"circles\"\n",
    "data_size = int(1.00e+06)\n",
    "data_noise = None\n",
    "xmax = 3.0\n",
    "n_bins = 64\n",
    "n_meas = 6\n",
    "\n",
    "dist = mf.data.toy.gen_dist(data_name, noise=data_noise)\n",
    "\n",
    "x0 = dist.sample(data_size)\n",
    "\n",
    "angles = np.linspace(0.0, np.pi, n_meas, endpoint=False)\n",
    "transfer_matrices = []\n",
    "for angle in angles:\n",
    "    matrix = mf.utils.rotation_matrix(angle)\n",
    "    transfer_matrices.append(matrix)\n",
    "    \n",
    "measurements = []\n",
    "edges = []\n",
    "for matrix in transfer_matrices:\n",
    "    x_out = np.matmul(x0, matrix.T)\n",
    "    _edges = np.linspace(-xmax, xmax, n_bins + 1)\n",
    "    _hist, _ = np.histogram(x_out[:, 0], bins=_edges, density=True)\n",
    "    measurements.append(_hist)\n",
    "    edges.append(_edges)\n",
    "\n",
    "prior = None\n",
    "prior = mf.models.ment.GaussianDistribution(scale=1.0)\n",
    "\n",
    "model = mf.models.MENT(\n",
    "    transfer_matrices=transfer_matrices, \n",
    "    measurements=measurements,\n",
    "    edges=edges,\n",
    "    prior=prior,\n",
    ")"
   ]
  },
  {
   "cell_type": "code",
   "execution_count": null,
   "id": "c493ab5d-a529-43bb-90c9-867397174535",
   "metadata": {},
   "outputs": [],
   "source": [
    "for step in range(10):\n",
    "    # Plot density. \n",
    "    res = 150    \n",
    "    grid_coords = 2 * [np.linspace(-xmax, xmax, res)]\n",
    "    grid_points = mf.utils.get_grid_points(grid_coords)\n",
    "    prob = model.prob(grid_points)\n",
    "    prob = np.reshape(prob, (res, res))\n",
    "    prob = prob / np.max(prob)\n",
    "    \n",
    "    limits = 2 * [(-xmax, xmax)]\n",
    "    _hist, _edges = np.histogramdd(x0, bins=75, range=limits)\n",
    "    _hist = _hist / np.max(_hist)\n",
    "    \n",
    "    fig, axs = pplt.subplots(ncols=2, space=0, xspineloc=\"neither\", yspineloc=\"neither\")\n",
    "    kws = dict(vmin=0.0, vmax=1.0)\n",
    "    axs[0].pcolormesh(_edges[0], _edges[1], _hist.T, **kws)\n",
    "    axs[1].pcolormesh(grid_coords[0], grid_coords[1], prob.T, **kws)\n",
    "    axs.format(toplabels=[\"True\", \"MENT\"])\n",
    "    pplt.show()\n",
    "\n",
    "    # Plot projections.\n",
    "    x = model.sample(100000)\n",
    "    predictions = []\n",
    "    for i, matrix in enumerate(model.transfer_matrices):\n",
    "        x_out = np.matmul(x, matrix.T)\n",
    "        hist, _ = np.histogram(x_out[:, 0], bins=model.edges[i], density=True)\n",
    "        predictions.append(hist)\n",
    "\n",
    "    # Plot projections.\n",
    "    ncols = 7\n",
    "    nrows = 1 + n_meas // ncols\n",
    "    fig, axs = pplt.subplots(ncols=ncols, nrows=nrows, figheight=(1.2 * nrows), figwidth=10.0)\n",
    "    for i in range(n_meas):\n",
    "        kws = dict(lw=1.25)\n",
    "        axs[i].plot(model.coords[i], measurements[i], color=\"black\", **kws)\n",
    "        axs[i].plot(model.coords[i], predictions[i], color=\"red\", **kws)\n",
    "    pplt.show()\n",
    "\n",
    "    # Compute cost.\n",
    "    cost = sum(np.sum(np.abs(predictions[i] - measurements[i])) for i in range(n_meas)) / n_meas\n",
    "    print(\"cost = {}\".format(cost))\n",
    "\n",
    "    # Update lagrange multipliers.\n",
    "    model.step()"
   ]
  },
  {
   "cell_type": "code",
   "execution_count": null,
   "id": "d53c0eab-05dc-405c-931d-8e50008e4cb9",
   "metadata": {},
   "outputs": [],
   "source": []
  }
 ],
 "metadata": {
  "kernelspec": {
   "display_name": "ot-flow",
   "language": "python",
   "name": "ot-flow"
  },
  "language_info": {
   "codemirror_mode": {
    "name": "ipython",
    "version": 3
   },
   "file_extension": ".py",
   "mimetype": "text/x-python",
   "name": "python",
   "nbconvert_exporter": "python",
   "pygments_lexer": "ipython3",
   "version": "3.8.10"
  }
 },
 "nbformat": 4,
 "nbformat_minor": 5
}
