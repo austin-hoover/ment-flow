{
 "cells": [
  {
   "cell_type": "markdown",
   "id": "ffe9f497-d4a3-4a43-a252-49a39186fa40",
   "metadata": {},
   "source": [
    "# 2D iterative MENT solver"
   ]
  },
  {
   "cell_type": "code",
   "execution_count": null,
   "id": "a372ebea-1564-400d-aa30-2b99eef0495c",
   "metadata": {},
   "outputs": [],
   "source": [
    "import numpy as np\n",
    "import proplot as pplt\n",
    "import scipy.interpolate\n",
    "import torch\n",
    "from tqdm.notebook import tqdm\n",
    "\n",
    "import mentflow as mf\n",
    "from mentflow.utils import grab"
   ]
  },
  {
   "cell_type": "code",
   "execution_count": null,
   "id": "cb91411a-a0da-4911-92c8-8c3034642cdc",
   "metadata": {},
   "outputs": [],
   "source": [
    "pplt.rc[\"cmap.discrete\"] = False\n",
    "pplt.rc[\"cmap.sequential\"] = \"viridis\"\n",
    "pplt.rc[\"figure.facecolor\"] = \"white\"\n",
    "pplt.rc[\"grid\"] = False"
   ]
  },
  {
   "cell_type": "markdown",
   "id": "dc123401-da57-460d-ae12-c44652e82fbd",
   "metadata": {},
   "source": [
    "## Data"
   ]
  },
  {
   "cell_type": "code",
   "execution_count": null,
   "id": "12fed5ab-1310-4345-ad05-4ce25c59b14b",
   "metadata": {},
   "outputs": [],
   "source": [
    "device = torch.device(\"cpu\")\n",
    "precision = torch.float32\n",
    "\n",
    "def send(x):\n",
    "    return x.type(precision).to(device)"
   ]
  },
  {
   "cell_type": "code",
   "execution_count": null,
   "id": "56849934-2f89-4d81-92e7-e13280cb7789",
   "metadata": {},
   "outputs": [],
   "source": [
    "data_name = \"spirals\"\n",
    "data_size = int(1.00e+06)\n",
    "data_noise = None\n",
    "xmax = 3.25\n",
    "n_bins = 64\n",
    "n_meas = 6\n",
    "\n",
    "dist = mf.data.toy.gen_dist(data_name, noise=data_noise)\n",
    "x0 = dist.sample(data_size)\n",
    "x0 = send(x0)\n",
    "\n",
    "angles = np.linspace(0.0, np.pi, n_meas, endpoint=False)\n",
    "transfer_matrices = []\n",
    "for angle in angles:\n",
    "    matrix = mf.transform.rotation_matrix(angle)\n",
    "    matrix = send(matrix)\n",
    "    transfer_matrices.append(matrix)\n",
    "\n",
    "transforms = []\n",
    "for matrix in transfer_matrices:\n",
    "    transform = mf.transform.Linear(matrix)\n",
    "    transform = transform.to(device)\n",
    "    transforms.append(transform)\n",
    "\n",
    "bin_edges = torch.linspace(-xmax, xmax, n_bins + 1)\n",
    "diagnostic = mf.diagnostics.Histogram1D(axis=0, bin_edges=bin_edges, kde=False)\n",
    "diagnostic = diagnostic.to(device)\n",
    "\n",
    "measurements = [diagnostic(transform(x0)) for transform in transforms]"
   ]
  },
  {
   "cell_type": "markdown",
   "id": "647bad55-c1d3-422e-ad17-43c5efe0f0a3",
   "metadata": {},
   "source": [
    "## Model"
   ]
  },
  {
   "cell_type": "code",
   "execution_count": null,
   "id": "bfb05a49-3408-4e8c-98a7-92eddab5e15a",
   "metadata": {},
   "outputs": [],
   "source": [
    "prior = mf.models.ment.GaussianPrior(d=2, scale=1.0, device=device)\n",
    "# prior = mf.models.ment.UniformPrior(d=2, scale=20.0, device=device)\n",
    "\n",
    "sampler = mf.sample.GridSampler(limits=(2 * [(-xmax, xmax)]), res=200, device=device)\n",
    "\n",
    "model = mf.models.ment.MENT_2D1D(\n",
    "    transforms=transforms,\n",
    "    measurements=measurements,\n",
    "    diagnostic=diagnostic,\n",
    "    prior=prior,\n",
    "    sampler=sampler,\n",
    "    interpolate=\"nearest\",  # {\"nearest\", \"linear\", \"pchip\"}\n",
    "    device=device,\n",
    ")"
   ]
  },
  {
   "cell_type": "markdown",
   "id": "eabf11dd-6547-4d1d-889a-22a7f38ea823",
   "metadata": {},
   "source": [
    "## Training"
   ]
  },
  {
   "cell_type": "code",
   "execution_count": null,
   "id": "c493ab5d-a529-43bb-90c9-867397174535",
   "metadata": {},
   "outputs": [],
   "source": [
    "for iteration in range(10):\n",
    "    # Compute t?he model density.\n",
    "    res = 200    \n",
    "    grid_coords = 2 * [torch.linspace(-xmax, xmax, res)]\n",
    "    grid_points = mf.utils.get_grid_points_torch(grid_coords)\n",
    "    grid_points = send(grid_points)\n",
    "    prob = model.prob(grid_points)\n",
    "    prob = prob.reshape(res, res)\n",
    "    prob = grab(prob)\n",
    "\n",
    "    # Draw samples from the true distribution.\n",
    "    n_samples = 100000\n",
    "    x_true = dist.sample(n_samples)\n",
    "    x_true = grab(x_true)\n",
    "    \n",
    "    # Draw samples from the model.\n",
    "    x = model.sample(n_samples)\n",
    "    x = grab(x)\n",
    "\n",
    "    # Simulate the measurements.\n",
    "    predictions = model.simulate(method=\"sample\", n=n_samples)\n",
    "\n",
    "    # Plot density.\n",
    "    fig, axs = pplt.subplots(ncols=3, space=0, xspineloc=\"neither\", yspineloc=\"neither\")\n",
    "    kws = dict()\n",
    "    limits = 2 * [(-xmax, xmax)]\n",
    "\n",
    "    n_bins = 100\n",
    "    axs[0].hist2d(x_true[:, 0], x_true[:, 1], bins=n_bins, range=limits, **kws)\n",
    "    axs[1].pcolormesh(grid_coords[0], grid_coords[1], prob.T, **kws)\n",
    "    axs[2].hist2d(x[:, 0], x[:, 1], bins=n_bins, range=limits, **kws)\n",
    "    axs.format(toplabels=[\"True samples\", \"MENT density\", \"MENT samples\"])\n",
    "    pplt.show()\n",
    "    \n",
    "    # Plot projections.\n",
    "    ncols = 7\n",
    "    nrows = 1 + n_meas // ncols\n",
    "    fig, axs = pplt.subplots(ncols=ncols, nrows=nrows, figheight=(1.1 * nrows), figwidth=10.0)\n",
    "    for i in range(n_meas):\n",
    "        kws = dict(lw=1.25)\n",
    "        bin_coords = mf.utils.centers_from_edges(diagnostic.bin_edges)\n",
    "        axs[i].plot(grab(bin_coords), grab(measurements[i]), color=\"black\", **kws)\n",
    "        axs[i].plot(grab(bin_coords), grab(predictions[i]), color=\"red\", **kws)\n",
    "    pplt.show()\n",
    "\n",
    "    # Compute discrepancy.\n",
    "    discrepancy = sum(torch.sum(torch.abs(predictions[i] - measurements[i])) for i in range(n_meas)) / n_meas\n",
    "\n",
    "    # Print a summary\n",
    "    print(\"iteration = {}\".format(iteration))\n",
    "    print(\"discrepancy = {}\".format(discrepancy))\n",
    "\n",
    "    ## Update lagrange multipliers.\n",
    "    model.gauss_seidel_iterate(method=\"integrate\")\n",
    "    # model.gauss_seidel_iterate(method=\"sample\", n=int(1.00e+06))"
   ]
  },
  {
   "cell_type": "code",
   "execution_count": null,
   "id": "df8cc271-915f-4da5-a9e8-c6c2194a82cc",
   "metadata": {},
   "outputs": [],
   "source": []
  }
 ],
 "metadata": {
  "kernelspec": {
   "display_name": "ment-flow",
   "language": "python",
   "name": "ment-flow"
  },
  "language_info": {
   "codemirror_mode": {
    "name": "ipython",
    "version": 3
   },
   "file_extension": ".py",
   "mimetype": "text/x-python",
   "name": "python",
   "nbconvert_exporter": "python",
   "pygments_lexer": "ipython3",
   "version": "3.8.18"
  }
 },
 "nbformat": 4,
 "nbformat_minor": 5
}
