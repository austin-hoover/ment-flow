{
 "cells": [
  {
   "cell_type": "markdown",
   "id": "ffe9f497-d4a3-4a43-a252-49a39186fa40",
   "metadata": {},
   "source": [
    "# 2D MENT"
   ]
  },
  {
   "cell_type": "code",
   "execution_count": null,
   "id": "a372ebea-1564-400d-aa30-2b99eef0495c",
   "metadata": {},
   "outputs": [],
   "source": [
    "import os\n",
    "import sys\n",
    "\n",
    "import numpy as np\n",
    "import ot\n",
    "import proplot as pplt\n",
    "import scipy.interpolate\n",
    "import torch\n",
    "from tqdm.notebook import tqdm\n",
    "\n",
    "import mentflow as mf\n",
    "from mentflow.utils import grab\n",
    "\n",
    "# local\n",
    "import plotting \n",
    "import utils"
   ]
  },
  {
   "cell_type": "code",
   "execution_count": null,
   "id": "cb91411a-a0da-4911-92c8-8c3034642cdc",
   "metadata": {},
   "outputs": [],
   "source": [
    "pplt.rc[\"cmap.discrete\"] = False\n",
    "pplt.rc[\"cmap.sequential\"] = \"viridis\"\n",
    "pplt.rc[\"figure.facecolor\"] = \"white\"\n",
    "pplt.rc[\"grid\"] = False"
   ]
  },
  {
   "cell_type": "markdown",
   "id": "dc123401-da57-460d-ae12-c44652e82fbd",
   "metadata": {},
   "source": [
    "## Data"
   ]
  },
  {
   "cell_type": "code",
   "execution_count": null,
   "id": "12fed5ab-1310-4345-ad05-4ce25c59b14b",
   "metadata": {},
   "outputs": [],
   "source": [
    "device = torch.device(\"cpu\")\n",
    "precision = torch.float32\n",
    "\n",
    "def send(x):\n",
    "    return x.type(precision).to(device)"
   ]
  },
  {
   "cell_type": "code",
   "execution_count": null,
   "id": "56849934-2f89-4d81-92e7-e13280cb7789",
   "metadata": {},
   "outputs": [],
   "source": [
    "data_name = \"spirals\"\n",
    "data_size = int(1.00e+06)\n",
    "data_noise = None\n",
    "xmax = 3.25\n",
    "n_bins = 75\n",
    "n_meas = 6\n",
    "\n",
    "dist = mf.data.toy.gen_dist(data_name, noise=data_noise)\n",
    "x0 = dist.sample(data_size)\n",
    "x0 = send(x0)\n",
    "\n",
    "angles = np.linspace(0.0, np.pi, n_meas, endpoint=False)\n",
    "transfer_matrices = []\n",
    "for angle in angles:\n",
    "    matrix = mf.transform.rotation_matrix(angle)\n",
    "    matrix = send(matrix)\n",
    "    transfer_matrices.append(matrix)\n",
    "\n",
    "transforms = []\n",
    "for matrix in transfer_matrices:\n",
    "    transform = mf.transform.Linear(matrix)\n",
    "    transform = transform.to(device)\n",
    "    transforms.append(transform)\n",
    "\n",
    "bin_edges = torch.linspace(-xmax, xmax, n_bins + 1)\n",
    "diagnostic = mf.diagnostics.Histogram1D(axis=0, bin_edges=bin_edges, kde=False)\n",
    "diagnostic = diagnostic.to(device)\n",
    "\n",
    "measurements = [diagnostic(transform(x0)) for transform in transforms]"
   ]
  },
  {
   "cell_type": "markdown",
   "id": "647bad55-c1d3-422e-ad17-43c5efe0f0a3",
   "metadata": {},
   "source": [
    "## Model"
   ]
  },
  {
   "cell_type": "code",
   "execution_count": null,
   "id": "bfb05a49-3408-4e8c-98a7-92eddab5e15a",
   "metadata": {},
   "outputs": [],
   "source": [
    "# prior = mf.models.ment.UniformPrior(d=2, scale=20.0, device=device)\n",
    "prior = mf.models.ment.GaussianPrior(d=2, scale=2.0, device=device)\n",
    "\n",
    "sampler_limits = 2 * [(-xmax, +xmax)]\n",
    "sampler_limits = 1.1 * np.array(sampler_limits)\n",
    "sampler = mf.sample.GridSampler(limits=sampler_limits, res=200, device=device)\n",
    "\n",
    "model = mf.models.ment.MENT(\n",
    "    d=2,\n",
    "    transforms=transforms,\n",
    "    measurements=measurements,\n",
    "    diagnostic=diagnostic,\n",
    "    prior=prior,\n",
    "    sampler=sampler,\n",
    "    interpolate=\"pchip\",  # {\"nearest\", \"linear\", \"pchip\"}\n",
    "    device=device,\n",
    ")"
   ]
  },
  {
   "cell_type": "markdown",
   "id": "eabf11dd-6547-4d1d-889a-22a7f38ea823",
   "metadata": {},
   "source": [
    "## Training"
   ]
  },
  {
   "cell_type": "code",
   "execution_count": null,
   "id": "c493ab5d-a529-43bb-90c9-867397174535",
   "metadata": {},
   "outputs": [],
   "source": [
    "# Settings\n",
    "n_iterations = 10\n",
    "method = \"integrate\"  # {\"integrate\", \"sample\"}\n",
    "method_kws = {\n",
    "    \"limits\": [(-xmax, +xmax)],  # integration limits\n",
    "    \"shape\": (150,),  # integration grid shape (resolution)\n",
    "    \"n\": int(1.00e+05),  # number of particles (if method=\"sample\")\n",
    "}\n",
    "\n",
    "vis_n_bins = 100\n",
    "vis_n_samples = int(1.00e+05)\n",
    "vis_res = 200\n",
    "\n",
    "for iteration in range(n_iterations):\n",
    "    # Evaluate the density on a grid.\n",
    "    res = vis_res\n",
    "    grid_coords = 2 * [torch.linspace(-xmax, xmax, vis_res)]\n",
    "    grid_points = mf.utils.get_grid_points_torch(grid_coords)\n",
    "    grid_points = send(grid_points)\n",
    "    prob = model.prob(grid_points)\n",
    "    prob = prob.reshape(vis_res, vis_res)\n",
    "    prob = grab(prob)\n",
    "    \n",
    "    # Draw samples from the model and true distribution.\n",
    "    x0 = dist.sample(vis_n_samples)\n",
    "    x0 = grab(x0)\n",
    "    x = model.sample(vis_n_samples)\n",
    "    x = grab(x)\n",
    "\n",
    "    # Simulate measurements\n",
    "    predictions = model.simulate(method=method, **method_kws)\n",
    "\n",
    "    # Plot the true samples, model samples, and model density.\n",
    "    fig, axs = plotting.plot_dist(\n",
    "        x0,\n",
    "        x,\n",
    "        prob=prob,\n",
    "        coords=[grab(c) for c in grid_coords],\n",
    "        n_bins=vis_n_bins,\n",
    "        limits=(2 * [(-xmax, xmax)]),\n",
    "    )\n",
    "    pplt.show()\n",
    "\n",
    "    # Plot overlayed simulated/measured projections.    \n",
    "    fig, axs = plotting.plot_proj(\n",
    "        [grab(measurement) for measurement in measurements],\n",
    "        [grab(prediction) for prediction in predictions],\n",
    "        bin_edges=grab(diagnostic.bin_edges),\n",
    "        maxcols=7,\n",
    "        kind=\"line\",\n",
    "        height=1.25\n",
    "    )\n",
    "    pplt.show()\n",
    "\n",
    "    # Compute simulation-measurement discrepancy\n",
    "    discrepancy = sum(\n",
    "        torch.sum(torch.abs(predictions[i] - measurements[i]))\n",
    "        for i in range(n_meas)\n",
    "    )\n",
    "    discrepancy = discrepancy / n_meas\n",
    "\n",
    "    # Compute sliced wasserstein distance between true and model samples.\n",
    "    distance = ot.sliced.sliced_wasserstein_distance(\n",
    "        x0, x, n_projections=100, p=2, projections=None\n",
    "    )\n",
    "\n",
    "    # Print summary\n",
    "    print(\"iteration = {}\".format(iteration))\n",
    "    print(\"D(y_model, y_true) = {}\".format(discrepancy))\n",
    "    print(\"SWD(x_model, x_true) = {}\".format(distance))\n",
    "    \n",
    "    # Update the lagrange functions.\n",
    "    model.gauss_seidel_iterate(method=method, **method_kws)"
   ]
  },
  {
   "cell_type": "code",
   "execution_count": null,
   "id": "24e73b90-30cb-49af-ada8-bbc6a34fa2c6",
   "metadata": {},
   "outputs": [],
   "source": []
  },
  {
   "cell_type": "code",
   "execution_count": null,
   "id": "0a57ac0a-ce52-4e2c-87a8-858b03d0fcf9",
   "metadata": {},
   "outputs": [],
   "source": []
  }
 ],
 "metadata": {
  "kernelspec": {
   "display_name": "ment-flow",
   "language": "python",
   "name": "ment-flow"
  },
  "language_info": {
   "codemirror_mode": {
    "name": "ipython",
    "version": 3
   },
   "file_extension": ".py",
   "mimetype": "text/x-python",
   "name": "python",
   "nbconvert_exporter": "python",
   "pygments_lexer": "ipython3",
   "version": "3.8.18"
  }
 },
 "nbformat": 4,
 "nbformat_minor": 5
}
