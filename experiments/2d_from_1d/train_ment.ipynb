{
 "cells": [
  {
   "cell_type": "markdown",
   "id": "ffe9f497-d4a3-4a43-a252-49a39186fa40",
   "metadata": {},
   "source": [
    "# Train 2D MENT model"
   ]
  },
  {
   "cell_type": "code",
   "execution_count": null,
   "id": "e29376e1-b08e-4580-b36e-c316d232515e",
   "metadata": {},
   "outputs": [],
   "source": [
    "import argparse\n",
    "import os\n",
    "import pathlib\n",
    "import pickle\n",
    "import sys\n",
    "import time\n",
    "\n",
    "import matplotlib.pyplot as plt\n",
    "import numpy as np\n",
    "import ot\n",
    "import proplot as pplt\n",
    "import scipy.interpolate\n",
    "import torch\n",
    "import zuko\n",
    "from ipywidgets import interact\n",
    "from ipywidgets import widgets\n",
    "from tqdm.notebook import tqdm\n",
    "\n",
    "import mentflow as mf\n",
    "from mentflow.utils import grab\n",
    "from mentflow.utils import unravel\n",
    "\n",
    "# Local\n",
    "import arguments\n",
    "import plotting\n",
    "import utils"
   ]
  },
  {
   "cell_type": "code",
   "execution_count": null,
   "id": "cb91411a-a0da-4911-92c8-8c3034642cdc",
   "metadata": {},
   "outputs": [],
   "source": [
    "pplt.rc[\"cmap.discrete\"] = False\n",
    "pplt.rc[\"cmap.sequential\"] = pplt.Colormap(\"dark_r\", space=\"hpl\")\n",
    "pplt.rc[\"figure.facecolor\"] = \"white\"\n",
    "pplt.rc[\"grid\"] = False"
   ]
  },
  {
   "cell_type": "markdown",
   "id": "cc8154de-2a84-4d0e-80d9-ec0db658fdd4",
   "metadata": {},
   "source": [
    "## Setup"
   ]
  },
  {
   "cell_type": "code",
   "execution_count": null,
   "id": "b734d8ef-1a5d-43eb-9121-3d0ed8f7ee9a",
   "metadata": {},
   "outputs": [],
   "source": [
    "parser = arguments.make_parser(model=\"ment\")\n",
    "args = parser.parse_args([])  # not all used\n",
    "args  "
   ]
  },
  {
   "cell_type": "code",
   "execution_count": null,
   "id": "12fed5ab-1310-4345-ad05-4ce25c59b14b",
   "metadata": {},
   "outputs": [],
   "source": [
    "# Create output directories.\n",
    "file_path = os.path.join(os.path.abspath(\".\"), \"train_ment.ipynb\")\n",
    "output_dir = os.path.join(os.path.abspath(\".\"), f\"output/{args.data}/\")\n",
    "\n",
    "man = mf.train.ScriptManager(file_path, output_dir)\n",
    "man.make_dirs(\"checkpoints\", \"figures\")\n",
    "\n",
    "# Save args and copy of this script.\n",
    "man.save_pickle(vars(args), \"args.pkl\")\n",
    "man.save_script_copy()\n",
    "\n",
    "print(\"output_dir:\", man.output_dir)\n",
    "\n",
    "\n",
    "# Set random seed.\n",
    "rng = np.random.default_rng(seed=args.seed)\n",
    "if args.seed is not None:\n",
    "    torch.manual_seed(args.seed)\n",
    "\n",
    "# Set device and precision.\n",
    "device = torch.device(args.device)\n",
    "precision = torch.float32\n",
    "torch.set_default_dtype(precision)\n",
    "\n",
    "def send(x):\n",
    "    return x.type(precision).to(device)"
   ]
  },
  {
   "cell_type": "markdown",
   "id": "dc123401-da57-460d-ae12-c44652e82fbd",
   "metadata": {},
   "source": [
    "## Data"
   ]
  },
  {
   "cell_type": "code",
   "execution_count": null,
   "id": "fd723071-c5f3-4a1d-9a96-843bd67ddd90",
   "metadata": {},
   "outputs": [],
   "source": [
    "# Define the input distribution.\n",
    "d = 2\n",
    "dist = mf.data.toy.gen_dist(\n",
    "    args.data,\n",
    "    noise=args.data_noise,\n",
    "    decorr=args.data_decorr,\n",
    "    rng=rng,\n",
    ")\n",
    "man.save_pickle(dist, \"dist.pkl\")\n",
    "\n",
    "# Draw samples from the input distribution.\n",
    "x0 = dist.sample(args.data_size)\n",
    "x0 = send(x0)\n",
    "\n",
    "# Define transforms.\n",
    "transforms = utils.make_transforms_rotation(\n",
    "    args.meas_angle_min, args.meas_angle_max, args.meas_num\n",
    ")\n",
    "transforms = [transform.to(device) for transform in transforms]\n",
    "\n",
    "# Create histogram diagnostic (x axis).\n",
    "xmax = args.meas_xmax\n",
    "bin_edges = torch.linspace(-xmax, xmax, args.meas_bins + 1)\n",
    "bin_edges = send(bin_edges)\n",
    "\n",
    "diagnostic = mf.diagnostics.Histogram1D(axis=0, bin_edges=bin_edges)\n",
    "diagnostic = diagnostic.to(device)\n",
    "diagnostics = [diagnostic]\n",
    "\n",
    "# Generate training data.\n",
    "measurements = mf.simulate_nokde(x0, transforms, diagnostics)\n",
    "\n",
    "# Add measurement noise.\n",
    "measurements = utils.add_measurement_noise(\n",
    "    measurements, \n",
    "    scale=args.meas_noise, \n",
    "    noise_type=args.meas_noise_type, \n",
    "    device=device\n",
    ")"
   ]
  },
  {
   "cell_type": "markdown",
   "id": "4c00f9d7-23d4-4bf7-8895-e7610daadfdc",
   "metadata": {},
   "source": [
    "View the distribution in the transformed space."
   ]
  },
  {
   "cell_type": "code",
   "execution_count": null,
   "id": "07fad694-36ae-46f3-8c98-7b94bdb1636a",
   "metadata": {},
   "outputs": [],
   "source": [
    "@interact\n",
    "def update(index=(0, args.meas_num - 1)):\n",
    "    x = transforms[index](x0)\n",
    "    x = grab(x)\n",
    "    \n",
    "    fig, ax = pplt.subplots()\n",
    "    limits = 2 * [(-xmax, +xmax)]\n",
    "    ax.hist2d(x[:, 0], x[:, 1], bins=100, range=limits)\n",
    "    \n",
    "    pax = ax.panel_axes(\"bottom\", width=0.75)\n",
    "    _hist, _edges = np.histogram(x[:, 0], bins=(len(bin_edges) - 1), density=True)\n",
    "    _meas = grab(measurements[index][0])\n",
    "    _scale = _meas.max()\n",
    "    plotting.plot_hist(_hist / _scale, _edges, ax=pax, color=\"black\", alpha=0.3)\n",
    "    plotting.plot_hist(_meas / _scale, grab(bin_edges), ax=pax, color=\"black\")"
   ]
  },
  {
   "cell_type": "markdown",
   "id": "49d9a8f6-8a9e-4889-a42a-15eedfe90dd0",
   "metadata": {},
   "source": [
    "Plot the integration lines in the input and transformed space."
   ]
  },
  {
   "cell_type": "code",
   "execution_count": null,
   "id": "ba5be7c8-a119-42c3-a8db-bf0cc1d8e6da",
   "metadata": {},
   "outputs": [],
   "source": [
    "@interact\n",
    "def update(index=(0, len(measurements) - 1)):\n",
    "    transform = transforms[index]\n",
    "    \n",
    "    x = send(dist.sample(100000))\n",
    "    y = transform(x)\n",
    "    y = grab(y)\n",
    "    x = grab(x)\n",
    "    \n",
    "    fig, axs = pplt.subplots(ncols=2)\n",
    "    limits = 2 * [(-xmax, +xmax)]\n",
    "    \n",
    "    for ax, _x in zip(axs, [x, y]):\n",
    "        ax.hist2d(_x[:, 0], _x[:, 1], bins=100, range=limits,)\n",
    "    \n",
    "    n_lines = 20\n",
    "    n_dots_per_line = 100\n",
    "    y = mf.utils.get_grid_points_torch(\n",
    "        2.0 * torch.linspace(-xmax, +xmax, n_lines),\n",
    "        2.0 * torch.linspace(-xmax, +xmax, n_dots_per_line),\n",
    "    )\n",
    "    y = send(y)\n",
    "    \n",
    "    x = transform.inverse(y)\n",
    "    x = grab(x)\n",
    "    y = grab(y)\n",
    "    \n",
    "    for ax, _x in zip(axs, [x, y]):\n",
    "        for line in np.split(_x, n_lines):\n",
    "            ax.plot(line[:, 0], line[:, 1], color=\"white\", alpha=0.5)\n",
    "    axs.format(xlim=(-xmax, xmax), ylim=(-xmax, xmax))\n",
    "    pplt.show()"
   ]
  },
  {
   "cell_type": "markdown",
   "id": "647bad55-c1d3-422e-ad17-43c5efe0f0a3",
   "metadata": {},
   "source": [
    "## Model"
   ]
  },
  {
   "cell_type": "code",
   "execution_count": null,
   "id": "bfb05a49-3408-4e8c-98a7-92eddab5e15a",
   "metadata": {},
   "outputs": [],
   "source": [
    "prior = None\n",
    "if args.prior == \"gaussian\":\n",
    "    prior = mf.models.ment.GaussianPrior(d=2, scale=args.prior_scale, device=device)\n",
    "if args.prior == \"uniform\":\n",
    "    prior = mf.models.ment.UniformPrior(d=2, scale=(10.0 * xmax), device=device)\n",
    "\n",
    "sampler_limits = 2 * [(-xmax, +xmax)]\n",
    "sampler_limits = 1.1 * np.array(sampler_limits)\n",
    "sampler = mf.sample.GridSampler(limits=sampler_limits, res=200, device=device)\n",
    "\n",
    "model = mf.models.ment.MENT(\n",
    "    d=2,\n",
    "    transforms=transforms,\n",
    "    measurements=measurements,\n",
    "    diagnostics=diagnostics,\n",
    "    discrepancy_function=args.disc,\n",
    "    prior=prior,\n",
    "    sampler=sampler,\n",
    "    interpolate=args.interpolate,  # {\"nearest\", \"linear\", \"pchip\"}\n",
    "    device=device,\n",
    ")"
   ]
  },
  {
   "cell_type": "markdown",
   "id": "eabf11dd-6547-4d1d-889a-22a7f38ea823",
   "metadata": {},
   "source": [
    "## Training"
   ]
  },
  {
   "cell_type": "code",
   "execution_count": null,
   "id": "cbc5e39a-5d1a-4fc4-bf91-5737e5c8895b",
   "metadata": {},
   "outputs": [],
   "source": [
    "# Make output folders.\n",
    "output_dir = man.output_dir\n",
    "\n",
    "if output_dir is not None:\n",
    "    if not os.path.exists(output_dir):\n",
    "        os.makedirs(output_dir)\n",
    "\n",
    "    fig_dir = os.path.join(output_dir, f\"figures\")\n",
    "    if not os.path.exists(fig_dir):\n",
    "        os.makedirs(fig_dir)\n",
    "        \n",
    "    checkpoint_dir = os.path.join(output_dir, f\"checkpoints\")\n",
    "    if not os.path.exists(checkpoint_dir):\n",
    "        os.makedirs(checkpoint_dir)"
   ]
  },
  {
   "cell_type": "code",
   "execution_count": null,
   "id": "ab7532c0-8339-4d45-869e-708c501cb276",
   "metadata": {},
   "outputs": [],
   "source": [
    "# Define simulation method (integration or particle tracking).\n",
    "sim_method = args.method\n",
    "sim_kws = {\n",
    "    \"limits\": [(-xmax, +xmax)],  # integration limits\n",
    "    \"shape\": (300,),  # integration grid shape (resolution)\n",
    "    \"n\": int(1.00e+06),  # number of particles (if sim_method=\"sample\")\n",
    "}\n"
   ]
  },
  {
   "cell_type": "code",
   "execution_count": null,
   "id": "a09c8de4-76ad-4ce6-9e13-68648ee81d4a",
   "metadata": {},
   "outputs": [],
   "source": [
    "# Training diagnostics:\n",
    "\n",
    "class Plotter:\n",
    "    def __init__(self):\n",
    "        return\n",
    "\n",
    "    def __call__(self, model):\n",
    "        figs = plotting.plot_model(\n",
    "            model,\n",
    "            dist,\n",
    "            n=args.vis_size, \n",
    "            sim_kws=dict(method=sim_method, **sim_kws),\n",
    "            bins=args.vis_bins,\n",
    "            xmax=xmax,\n",
    "            maxcols=args.vis_maxcols, \n",
    "            kind=args.vis_line,\n",
    "            device=device\n",
    "        )\n",
    "        return figs\n",
    "\n",
    "\n",
    "class Evaluator:\n",
    "    def __init__(self, swd=True):\n",
    "        self.swd = swd\n",
    "\n",
    "    def __call__(self, model):\n",
    "        # Draw samples from the model and true distribution.\n",
    "        x_true = dist.sample(args.vis_size)\n",
    "        x_true = send(x_true)\n",
    "        x = model.sample(args.vis_size)\n",
    "        x = send(x)\n",
    "    \n",
    "        # Compute simulation-measurement discrepancy\n",
    "        predictions = model.simulate(method=sim_method, **sim_kws)\n",
    "        discrepancy_vector = model.discrepancy(predictions)\n",
    "        discrepancy = sum(discrepancy_vector) / len(discrepancy_vector)\n",
    "    \n",
    "        # Compute sliced wasserstein distance between true and model samples.\n",
    "        distance = None\n",
    "        if self.swd:\n",
    "            n = 100000\n",
    "            distance = ot.sliced.sliced_wasserstein_distance(\n",
    "                x[:n],\n",
    "                x_true[:n], \n",
    "                n_projections=50, \n",
    "                p=2, \n",
    "            )\n",
    "    \n",
    "        # Print summary\n",
    "        print(\"D(y_model, y_true) = {}\".format(discrepancy))\n",
    "        print(\"SWD(x_model, x_true) = {}\".format(distance))\n",
    "        return None\n",
    "\n",
    "\n",
    "evaluator = Evaluator(swd=True)\n",
    "plotter = Plotter()"
   ]
  },
  {
   "cell_type": "markdown",
   "id": "cc1c393b-0e1a-4ee4-adcc-560271645877",
   "metadata": {},
   "source": [
    "Training loop:"
   ]
  },
  {
   "cell_type": "code",
   "execution_count": null,
   "id": "c493ab5d-a529-43bb-90c9-867397174535",
   "metadata": {},
   "outputs": [],
   "source": [
    "for epoch in range(args.epochs):\n",
    "    print(f\"epoch = {epoch}\")\n",
    "\n",
    "    # Evaluate model\n",
    "    result = evaluator(model)\n",
    "\n",
    "    # Save model\n",
    "    if output_dir is not None:\n",
    "        filename = f\"checkpoint_{epoch:03.0f}_00000.pt\"\n",
    "        filename = os.path.join(checkpoint_dir, filename)\n",
    "        print(f\"Saving file {filename}\")\n",
    "        model.save(filename)\n",
    "\n",
    "    # Make figures\n",
    "    figs = plotter(model)\n",
    "    for index, fig in enumerate(figs):\n",
    "        if output_dir is not None:\n",
    "            filename = f\"fig_{index:02.0f}_{epoch:03.0f}_00000.{args.fig_ext}\"\n",
    "            filename = os.path.join(fig_dir, filename)\n",
    "            print(f\"Saving file {filename}\")\n",
    "            fig.savefig(filename, dpi=args.fig_dpi)\n",
    "        plt.show()\n",
    "        plt.close(\"all\")\n",
    "\n",
    "    # Update Gauss-Seidel\n",
    "    model.gauss_seidel_iterate(omega=args.omega, sim_method=sim_method, **sim_kws)"
   ]
  },
  {
   "cell_type": "code",
   "execution_count": null,
   "id": "2d89e5b2-7b5f-43b4-8caf-1486215feed5",
   "metadata": {},
   "outputs": [],
   "source": []
  }
 ],
 "metadata": {
  "kernelspec": {
   "display_name": "ment-flow",
   "language": "python",
   "name": "ment-flow"
  },
  "language_info": {
   "codemirror_mode": {
    "name": "ipython",
    "version": 3
   },
   "file_extension": ".py",
   "mimetype": "text/x-python",
   "name": "python",
   "nbconvert_exporter": "python",
   "pygments_lexer": "ipython3",
   "version": "3.8.18"
  }
 },
 "nbformat": 4,
 "nbformat_minor": 5
}
