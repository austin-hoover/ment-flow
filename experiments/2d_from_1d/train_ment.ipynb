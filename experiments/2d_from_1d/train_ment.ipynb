{
 "cells": [
  {
   "cell_type": "markdown",
   "id": "ffe9f497-d4a3-4a43-a252-49a39186fa40",
   "metadata": {},
   "source": [
    "# Train 2D iterative MENT solver"
   ]
  },
  {
   "cell_type": "code",
   "execution_count": null,
   "id": "a372ebea-1564-400d-aa30-2b99eef0495c",
   "metadata": {},
   "outputs": [],
   "source": [
    "import numpy as np\n",
    "import proplot as pplt\n",
    "import scipy.interpolate\n",
    "from tqdm.notebook import tqdm\n",
    "\n",
    "import mentflow as mf\n",
    "\n",
    "pplt.rc[\"cmap.discrete\"] = False\n",
    "pplt.rc[\"cmap.sequential\"] = \"viridis\"\n",
    "pplt.rc[\"figure.facecolor\"] = \"white\"\n",
    "pplt.rc[\"grid\"] = False"
   ]
  },
  {
   "cell_type": "markdown",
   "id": "dc123401-da57-460d-ae12-c44652e82fbd",
   "metadata": {},
   "source": [
    "## Data"
   ]
  },
  {
   "cell_type": "code",
   "execution_count": null,
   "id": "56849934-2f89-4d81-92e7-e13280cb7789",
   "metadata": {},
   "outputs": [],
   "source": [
    "data_name = \"spirals\"\n",
    "data_size = int(1.00e+06)\n",
    "data_noise = None\n",
    "xmax = 3.25\n",
    "n_bins = 64\n",
    "n_meas = 30\n",
    "\n",
    "dist = mf.data.toy.gen_dist(data_name, noise=data_noise)\n",
    "x0 = dist.sample(data_size)\n",
    "\n",
    "angles = np.linspace(0.0, np.pi, n_meas, endpoint=False)\n",
    "transfer_matrices = []\n",
    "for angle in angles:\n",
    "    matrix = mf.transform.rotation_matrix(angle)\n",
    "    matrix = matrix.numpy()\n",
    "    transfer_matrices.append(matrix)\n",
    "transforms = [mf.models.ment.LinearTransform(matrix) for matrix in transfer_matrices]\n",
    "\n",
    "bin_edges = np.linspace(-xmax, xmax, n_bins + 1)\n",
    "diagnostic = mf.models.ment.HistogramDiagnostic(bin_edges, axis=0)\n",
    "\n",
    "measurements = [diagnostic(transform(x0)) for transform in transforms]"
   ]
  },
  {
   "cell_type": "markdown",
   "id": "647bad55-c1d3-422e-ad17-43c5efe0f0a3",
   "metadata": {},
   "source": [
    "## Model"
   ]
  },
  {
   "cell_type": "code",
   "execution_count": null,
   "id": "bfb05a49-3408-4e8c-98a7-92eddab5e15a",
   "metadata": {},
   "outputs": [],
   "source": [
    "prior = mf.models.ment.GaussianPrior(scale=1.0)\n",
    "# prior = mf.models.ment.UniformPrior(scale=20.0)\n",
    "\n",
    "sampler = mf.sample.GridSampler(limits=(2 * [(-xmax, xmax)]), res=200)\n",
    "\n",
    "model = mf.models.ment.MENT_2D1D(\n",
    "    transforms=transforms,\n",
    "    measurements=measurements,\n",
    "    diagnostic=diagnostic,\n",
    "    prior=prior,\n",
    "    sampler=sampler,\n",
    "    interpolate=\"pchip\"  # {False, \"linear\", \"pchip\"}\n",
    ")"
   ]
  },
  {
   "cell_type": "markdown",
   "id": "eabf11dd-6547-4d1d-889a-22a7f38ea823",
   "metadata": {},
   "source": [
    "## Training"
   ]
  },
  {
   "cell_type": "code",
   "execution_count": null,
   "id": "c493ab5d-a529-43bb-90c9-867397174535",
   "metadata": {},
   "outputs": [],
   "source": [
    "n_iterations = 10\n",
    "\n",
    "for iteration in range(n_iterations):\n",
    "    # Compute the model density.\n",
    "    res = 200    \n",
    "    grid_coords = 2 * [np.linspace(-xmax, xmax, res)]\n",
    "    grid_points = mf.utils.get_grid_points(grid_coords)\n",
    "    prob = model.prob(grid_points)\n",
    "    prob = np.reshape(prob, (res, res))\n",
    "    prob = prob / np.max(prob)\n",
    "\n",
    "    # Draw samples from the model.\n",
    "    n_samples = 100000\n",
    "    x = model.sample(n_samples)\n",
    "\n",
    "    # Simulate the measurements.\n",
    "    predictions = model.simulate(method=\"sample\", n=n_samples)\n",
    "\n",
    "    # Plot density.\n",
    "    fig, axs = pplt.subplots(ncols=3, space=0, xspineloc=\"neither\", yspineloc=\"neither\")\n",
    "    kws = dict()\n",
    "    limits = 2 * [(-xmax, xmax)]\n",
    "    axs[0].hist2d(x0[:n_samples, 0], x0[:n_samples, 1], bins=100, range=limits, **kws)\n",
    "    axs[1].pcolormesh(grid_coords[0], grid_coords[1], prob.T, **kws)\n",
    "    axs[2].hist2d(x[:, 0], x[:, 1], bins=100, range=limits, **kws)\n",
    "    axs.format(toplabels=[\"True samples\", \"MENT density\", \"MENT samples\"])\n",
    "    pplt.show()\n",
    "    \n",
    "    # Plot projections.\n",
    "    ncols = 7\n",
    "    nrows = 1 + n_meas // ncols\n",
    "    fig, axs = pplt.subplots(ncols=ncols, nrows=nrows, figheight=(1.1 * nrows), figwidth=10.0)\n",
    "    for i in range(n_meas):\n",
    "        kws = dict(lw=1.25)\n",
    "        axs[i].plot(model.bin_coords, measurements[i], color=\"black\", **kws)\n",
    "        axs[i].plot(model.bin_coords, predictions[i], color=\"red\", **kws)\n",
    "    pplt.show()\n",
    "\n",
    "    # Compute discrepancy.\n",
    "    discrepancy = sum(np.sum(np.abs(predictions[i] - measurements[i])) for i in range(n_meas)) / n_meas\n",
    "\n",
    "    # Print a summary\n",
    "    print(\"iteration = {}\".format(iteration))\n",
    "    print(\"discrepancy = {}\".format(discrepancy))\n",
    "\n",
    "    ## Update lagrange multipliers.\n",
    "    model.gauss_seidel_iterate(method=\"integrate\")\n",
    "    # model.gauss_seidel_iterate(method=\"sample\", n=100000)"
   ]
  },
  {
   "cell_type": "code",
   "execution_count": null,
   "id": "d53c0eab-05dc-405c-931d-8e50008e4cb9",
   "metadata": {},
   "outputs": [],
   "source": []
  }
 ],
 "metadata": {
  "kernelspec": {
   "display_name": "ot-flow",
   "language": "python",
   "name": "ot-flow"
  },
  "language_info": {
   "codemirror_mode": {
    "name": "ipython",
    "version": 3
   },
   "file_extension": ".py",
   "mimetype": "text/x-python",
   "name": "python",
   "nbconvert_exporter": "python",
   "pygments_lexer": "ipython3",
   "version": "3.8.10"
  }
 },
 "nbformat": 4,
 "nbformat_minor": 5
}
