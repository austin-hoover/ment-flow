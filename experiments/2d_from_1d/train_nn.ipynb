{
 "cells": [
  {
   "cell_type": "markdown",
   "id": "6bc48d40-9344-4e79-b84f-e03b12720dfa",
   "metadata": {},
   "source": [
    "# Train 2D MENT-Flow model (neural network generator)"
   ]
  },
  {
   "cell_type": "code",
   "execution_count": null,
   "id": "14323fbd-8356-43b5-aaaa-1636ba4eb950",
   "metadata": {},
   "outputs": [],
   "source": [
    "import argparse\n",
    "import os\n",
    "import pathlib\n",
    "import pickle\n",
    "import sys\n",
    "import time\n",
    "\n",
    "import numpy as np\n",
    "import proplot as pplt\n",
    "import scipy.interpolate\n",
    "import torch\n",
    "import zuko\n",
    "from ipywidgets import interact\n",
    "from ipywidgets import widgets\n",
    "from tqdm.notebook import tqdm\n",
    "\n",
    "import mentflow as mf\n",
    "from mentflow.utils import grab\n",
    "from mentflow.utils import unravel\n",
    "from mentflow.utils import save_pickle\n",
    "from mentflow.wrappers import WrappedZukoFlow\n",
    "\n",
    "# Local\n",
    "import arguments\n",
    "import plotting\n",
    "import utils"
   ]
  },
  {
   "cell_type": "code",
   "execution_count": null,
   "id": "b8b7669d-9bfc-4fe1-94c6-0a14be7ac005",
   "metadata": {},
   "outputs": [],
   "source": [
    "plotting.set_proplot_rc()"
   ]
  },
  {
   "cell_type": "markdown",
   "id": "57bd9bf8-2c43-4c6c-aaef-8eb5e5815a7d",
   "metadata": {},
   "source": [
    "## Setup"
   ]
  },
  {
   "cell_type": "code",
   "execution_count": null,
   "id": "9287b2fd-2dd4-408b-aa96-7961b7044664",
   "metadata": {},
   "outputs": [],
   "source": [
    "parser = arguments.make_parser(model=\"nn\")\n",
    "\n",
    "# Set command line arguments\n",
    "parser.set_defaults(\n",
    "    device=\"mps\",\n",
    ")\n",
    "\n",
    "args = parser.parse_args([])\n",
    "args"
   ]
  },
  {
   "cell_type": "code",
   "execution_count": null,
   "id": "f1e989ad-2110-48b3-9298-cc4beb352645",
   "metadata": {},
   "outputs": [],
   "source": [
    "# Create output directories.\n",
    "file_path = os.path.join(os.path.abspath(\".\"), \"train_nn.ipynb\")\n",
    "output_dir = os.path.join(os.path.abspath(\".\"), f\"output/{args.data}/\")\n",
    "\n",
    "man = mf.train.ScriptManager(file_path, output_dir)\n",
    "man.make_dirs(\"checkpoints\", \"figures\")\n",
    "\n",
    "# Save args and copy of this script.\n",
    "man.save_pickle(vars(args), \"args.pkl\")\n",
    "man.save_script_copy()\n",
    "\n",
    "print(\"output_dir:\", man.output_dir)\n",
    "\n",
    "\n",
    "# Set random seed.\n",
    "rng = np.random.default_rng(seed=args.seed)\n",
    "if args.seed is not None:\n",
    "    torch.manual_seed(args.seed)\n",
    "\n",
    "# Set device and precision.\n",
    "device = torch.device(args.device)\n",
    "precision = torch.float32\n",
    "torch.set_default_dtype(precision)\n",
    "\n",
    "def send(x):\n",
    "    return x.type(precision).to(device)"
   ]
  },
  {
   "cell_type": "markdown",
   "id": "e1d86dd4-2d40-47f4-a368-dd1670112180",
   "metadata": {},
   "source": [
    "## Data"
   ]
  },
  {
   "cell_type": "code",
   "execution_count": null,
   "id": "2c8bc0cc-3169-432d-adfb-df90a3e129cf",
   "metadata": {},
   "outputs": [],
   "source": [
    "# Define the input distribution.\n",
    "d = 2\n",
    "dist = mf.data.toy.gen_dist(\n",
    "    args.data,\n",
    "    noise=args.data_noise,\n",
    "    decorr=args.data_decorr,\n",
    "    rng=rng,\n",
    ")\n",
    "man.save_pickle(dist, \"dist.pkl\")\n",
    "\n",
    "# Draw samples from the input distribution.\n",
    "x0 = dist.sample(args.data_size)\n",
    "x0 = send(x0)\n",
    "\n",
    "# Define transforms.\n",
    "transforms = utils.make_transforms_rotation(\n",
    "    args.meas_angle_min, args.meas_angle_max, args.meas_num\n",
    ")\n",
    "transforms = [transform.to(device) for transform in transforms]\n",
    "\n",
    "# Create histogram diagnostic (x axis).\n",
    "xmax = args.meas_xmax\n",
    "bin_edges = torch.linspace(-xmax, xmax, args.meas_bins + 1)\n",
    "bin_edges = send(bin_edges)\n",
    "\n",
    "diagnostic = mf.diagnostics.Histogram1D(axis=0, bin_edges=bin_edges)\n",
    "diagnostic = diagnostic.to(device)\n",
    "diagnostics = [diagnostic]\n",
    "\n",
    "# Generate training data.\n",
    "measurements = mf.simulate_nokde(x0, transforms, diagnostics)\n",
    "\n",
    "# Add measurement noise.\n",
    "measurements = utils.add_measurement_noise(\n",
    "    measurements, \n",
    "    scale=args.meas_noise, \n",
    "    noise_type=args.meas_noise_type, \n",
    "    device=device\n",
    ")"
   ]
  },
  {
   "cell_type": "markdown",
   "id": "969e9184-afe0-468d-9e56-00fd6156a45d",
   "metadata": {},
   "source": [
    "View the data in the transformed space."
   ]
  },
  {
   "cell_type": "code",
   "execution_count": null,
   "id": "ce816d65-2652-48d0-b79b-3576e2137f36",
   "metadata": {},
   "outputs": [],
   "source": [
    "@interact\n",
    "def update(index=(0, args.meas_num - 1)):\n",
    "    x = transforms[index](x0)\n",
    "    x = grab(x)\n",
    "    \n",
    "    fig, ax = pplt.subplots()\n",
    "    limits = 2 * [(-xmax, +xmax)]\n",
    "    ax.hist2d(x[:, 0], x[:, 1], bins=100, range=limits)\n",
    "    \n",
    "    pax = ax.panel_axes(\"bottom\", width=0.75)\n",
    "    _hist, _edges = np.histogram(x[:, 0], bins=(len(bin_edges) - 1), density=True)\n",
    "    _meas = grab(measurements[index][0])\n",
    "    _scale = _meas.max()\n",
    "    plotting.plot_hist(_hist / _scale, _edges, ax=pax, color=\"black\", alpha=0.3)\n",
    "    plotting.plot_hist(_meas / _scale, grab(bin_edges), ax=pax, color=\"black\")"
   ]
  },
  {
   "cell_type": "markdown",
   "id": "702945c6-93df-4ae8-b234-bdbec5922119",
   "metadata": {},
   "source": [
    "Plot the integration lines in the input and transformed space."
   ]
  },
  {
   "cell_type": "code",
   "execution_count": null,
   "id": "52a12b45-f03b-46b2-b0bf-89dd7c9effb5",
   "metadata": {},
   "outputs": [],
   "source": [
    "@interact\n",
    "def update(index=(0, len(measurements) - 1)):\n",
    "    transform = transforms[index]\n",
    "    \n",
    "    x = send(dist.sample(100000))\n",
    "    y = transform(x)\n",
    "    y = grab(y)\n",
    "    x = grab(x)\n",
    "    \n",
    "    fig, axs = pplt.subplots(ncols=2)\n",
    "    limits = 2 * [(-xmax, +xmax)]\n",
    "    \n",
    "    for ax, _x in zip(axs, [x, y]):\n",
    "        ax.hist2d(_x[:, 0], _x[:, 1], bins=100, range=limits,)\n",
    "    \n",
    "    n_lines = 20\n",
    "    n_dots_per_line = 100\n",
    "    y = mf.utils.get_grid_points_torch(\n",
    "        2.0 * torch.linspace(-xmax, +xmax, n_lines),\n",
    "        2.0 * torch.linspace(-xmax, +xmax, n_dots_per_line),\n",
    "    )\n",
    "    y = send(y)\n",
    "    \n",
    "    x = transform.inverse(y)\n",
    "    x = grab(x)\n",
    "    y = grab(y)\n",
    "    \n",
    "    for ax, _x in zip(axs, [x, y]):\n",
    "        for line in np.split(_x, n_lines):\n",
    "            ax.plot(line[:, 0], line[:, 1], color=\"white\", alpha=0.5)\n",
    "    axs.format(xlim=(-xmax, xmax), ylim=(-xmax, xmax))\n",
    "    pplt.show()"
   ]
  },
  {
   "cell_type": "markdown",
   "id": "5b3df5ee-8654-489d-bb37-6a583bdcf199",
   "metadata": {},
   "source": [
    "## Model"
   ]
  },
  {
   "cell_type": "code",
   "execution_count": null,
   "id": "0f6337f9-8423-43f5-8705-4b150925d8a5",
   "metadata": {},
   "outputs": [],
   "source": [
    "transformer = mf.models.NNTransformer(\n",
    "    input_features=args.input_features,\n",
    "    output_features=d,\n",
    "    hidden_layers=args.hidden_layers,\n",
    "    hidden_units=args.hidden_units,\n",
    "    dropout=args.dropout,\n",
    "    activation=args.activation,\n",
    ")\n",
    "base = torch.distributions.Normal(\n",
    "    send(torch.zeros(args.input_features)),\n",
    "    send(torch.ones(args.input_features)),\n",
    ")\n",
    "generator = mf.models.NNGenerator(base, transformer)\n",
    "generator = generator.to(device)\n",
    "\n",
    "entropy_estimator = mf.entropy.EmptyEntropyEstimator()\n",
    "if args.entest == \"cov\":\n",
    "    entropy_estimator = mf.entropy.CovarianceEntropyEstimator()\n",
    "if args.entest == \"knn\":\n",
    "    entropy_estimator = mf.entropy.KNNEntropyEstimator(k=5)\n",
    "\n",
    "model = mf.MENTFlow(\n",
    "    generator=generator,\n",
    "    prior=None,\n",
    "    entropy_estimator=entropy_estimator,\n",
    "    transforms=transforms,\n",
    "    diagnostics=diagnostics,\n",
    "    measurements=measurements,\n",
    "    penalty_parameter=args.penalty,\n",
    "    discrepancy_function=args.disc,\n",
    ")\n",
    "model = model.to(device)\n",
    "print(model)\n",
    "\n",
    "cfg = {\n",
    "    \"generator\": {\n",
    "        \"input_features\": d,\n",
    "        \"output_features\": d,\n",
    "        \"hidden_units\": args.hidden_units,\n",
    "        \"hidden_layers\": args.hidden_layers,\n",
    "        \"dropout\": args.dropout,\n",
    "        \"activation\": args.activation,\n",
    "    },\n",
    "}\n",
    "man.save_pickle(cfg, \"cfg.pkl\")"
   ]
  },
  {
   "cell_type": "markdown",
   "id": "6654a39c-52f6-40f9-bc4f-0a9a0d9e7d24",
   "metadata": {},
   "source": [
    "## Training"
   ]
  },
  {
   "cell_type": "code",
   "execution_count": null,
   "id": "cb2c61c0-fd34-4f10-b158-0b16d4e67dfc",
   "metadata": {},
   "outputs": [],
   "source": [
    "def plotter(model):\n",
    "    figs = plotting.plot_model(\n",
    "        model,\n",
    "        dist,\n",
    "        n=args.vis_size, \n",
    "        bins=args.vis_bins,\n",
    "        xmax=xmax,\n",
    "        maxcols=args.vis_maxcols, \n",
    "        kind=args.vis_line,\n",
    "        device=device\n",
    "    )\n",
    "    return figs"
   ]
  },
  {
   "cell_type": "code",
   "execution_count": null,
   "id": "aa00c358-4ba4-45a8-84d8-d1d7548a8eb1",
   "metadata": {},
   "outputs": [],
   "source": [
    "optimizer = torch.optim.AdamW(\n",
    "    model.parameters(),\n",
    "    lr=args.lr,\n",
    "    weight_decay=0.0,  # would need to reset this after each epoch...\n",
    ")\n",
    "\n",
    "lr_scheduler = torch.optim.lr_scheduler.ReduceLROnPlateau(\n",
    "    optimizer,\n",
    "    min_lr=args.lr_min,\n",
    "    patience=args.lr_patience,\n",
    "    factor=args.lr_drop,\n",
    ")"
   ]
  },
  {
   "cell_type": "code",
   "execution_count": null,
   "id": "ba55cec8-28e4-45ed-b695-a851f0be610b",
   "metadata": {},
   "outputs": [],
   "source": [
    "trainer = mf.train.Trainer(\n",
    "    model=model,\n",
    "    optimizer=optimizer,\n",
    "    lr_scheduler=lr_scheduler,\n",
    "    plotter=plotter,\n",
    "    output_dir=man.output_dir,\n",
    "    precision=precision,\n",
    "    device=device,\n",
    "    notebook=True,\n",
    ")\n",
    "\n",
    "trainer.train(\n",
    "    epochs=args.epochs,\n",
    "    iterations=args.iters,\n",
    "    batch_size=args.batch_size,\n",
    "    rtol=args.rtol,\n",
    "    atol=args.atol,\n",
    "    dmax=args.dmax,\n",
    "    penalty_step=args.penalty_step,\n",
    "    penalty_scale=args.penalty_scale,\n",
    "    penalty_max=args.penalty_max,\n",
    "    vis_freq=args.vis_freq,\n",
    "    eval_freq=args.eval_freq,\n",
    "    savefig_kws=dict(ext=args.fig_ext, dpi=args.fig_dpi),\n",
    ")"
   ]
  },
  {
   "cell_type": "code",
   "execution_count": null,
   "id": "0844f7b4-6c56-4a72-8c85-0b63440779b0",
   "metadata": {},
   "outputs": [],
   "source": []
  },
  {
   "cell_type": "code",
   "execution_count": null,
   "id": "290c0e92-e472-4ab9-8c6e-3ed952a81dd6",
   "metadata": {},
   "outputs": [],
   "source": []
  }
 ],
 "metadata": {
  "kernelspec": {
   "display_name": "ment-flow",
   "language": "python",
   "name": "ment-flow"
  },
  "language_info": {
   "codemirror_mode": {
    "name": "ipython",
    "version": 3
   },
   "file_extension": ".py",
   "mimetype": "text/x-python",
   "name": "python",
   "nbconvert_exporter": "python",
   "pygments_lexer": "ipython3",
   "version": "3.8.18"
  }
 },
 "nbformat": 4,
 "nbformat_minor": 5
}
