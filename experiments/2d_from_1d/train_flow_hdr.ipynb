{
 "cells": [
  {
   "cell_type": "markdown",
   "id": "375c80d1-a744-4207-83d3-99c3cdf7231f",
   "metadata": {},
   "source": [
    "# Train 2D normalizing flow using integration (no samples)"
   ]
  },
  {
   "cell_type": "code",
   "execution_count": null,
   "id": "c7c6201d-77f9-4523-b179-7753748a1572",
   "metadata": {},
   "outputs": [],
   "source": []
  }
 ],
 "metadata": {
  "kernelspec": {
   "display_name": "ot-flow",
   "language": "python",
   "name": "ot-flow"
  },
  "language_info": {
   "codemirror_mode": {
    "name": "ipython",
    "version": 3
   },
   "file_extension": ".py",
   "mimetype": "text/x-python",
   "name": "python",
   "nbconvert_exporter": "python",
   "pygments_lexer": "ipython3",
   "version": "3.8.10"
  }
 },
 "nbformat": 4,
 "nbformat_minor": 5
}
