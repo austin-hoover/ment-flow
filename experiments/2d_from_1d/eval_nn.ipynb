{
 "cells": [
  {
   "cell_type": "markdown",
   "id": "4fef2e93-45a7-44c1-86ee-0b737cc26334",
   "metadata": {},
   "source": [
    "# Evaluate 2D MENT-Flow model (neural network generator)"
   ]
  },
  {
   "cell_type": "code",
   "execution_count": null,
   "id": "7aef45e3-614f-4027-bdf5-cf4ac7be3285",
   "metadata": {},
   "outputs": [],
   "source": [
    "import os\n",
    "import pickle\n",
    "import sys\n",
    "from pprint import pprint\n",
    "\n",
    "import matplotlib.pyplot as plt\n",
    "import numpy as np\n",
    "import proplot as pplt\n",
    "import skimage.filters\n",
    "import torch\n",
    "from ipywidgets import interact\n",
    "from ipywidgets import widgets\n",
    "\n",
    "import mentflow as mf\n",
    "from mentflow.utils import grab\n",
    "from mentflow.utils import unravel\n",
    "\n",
    "import experiments.load\n",
    "import plotting"
   ]
  },
  {
   "cell_type": "code",
   "execution_count": null,
   "id": "869644db-d946-4d2d-84ea-323b6d6e2d0e",
   "metadata": {},
   "outputs": [],
   "source": [
    "pplt.rc[\"cmap.discrete\"] = False\n",
    "pplt.rc[\"cmap.sequential\"] = \"viridis\"\n",
    "pplt.rc[\"figure.facecolor\"] = \"white\"\n",
    "pplt.rc[\"grid\"] = False"
   ]
  },
  {
   "cell_type": "markdown",
   "id": "a82731c4-d798-44bd-b2d2-a2a1e914679c",
   "metadata": {},
   "source": [
    "## Load data"
   ]
  },
  {
   "cell_type": "code",
   "execution_count": null,
   "id": "e3c34342-1c5f-40e3-9791-6395e61b5710",
   "metadata": {},
   "outputs": [],
   "source": [
    "data_name = \"swissroll\"\n",
    "timestamp = 231217221913\n",
    "script_name = \"train_nn\"\n",
    "datadir = f\"./output/{data_name}/{script_name}/{timestamp}/\""
   ]
  },
  {
   "cell_type": "code",
   "execution_count": null,
   "id": "2c94122f-c7d8-4614-8596-ce79d3db5a1b",
   "metadata": {},
   "outputs": [],
   "source": [
    "device = torch.device(\"cpu\")  # load_model(device=cpu) not working if trained on mps...\n",
    "precision = torch.float32"
   ]
  },
  {
   "cell_type": "code",
   "execution_count": null,
   "id": "03e6cf99-969c-4dc5-bf79-2da8c59a7f3a",
   "metadata": {},
   "outputs": [],
   "source": [
    "def send(x):\n",
    "    return x.type(precision).to(device)"
   ]
  },
  {
   "cell_type": "code",
   "execution_count": null,
   "id": "a70b6719-3ac6-4c8e-8e34-aac27130e227",
   "metadata": {},
   "outputs": [],
   "source": [
    "run = experiments.load.load_run(datadir, generator_type=\"nn\")\n",
    "\n",
    "args = run[\"args\"]\n",
    "cfg = run[\"cfg\"]\n",
    "dist = run[\"dist\"]\n",
    "model = run[\"model\"]\n",
    "checkpoints = run[\"checkpoints\"]\n",
    "history = run[\"history\"]"
   ]
  },
  {
   "cell_type": "markdown",
   "id": "225ed3bb-d9d6-4b02-89d5-4e06c2e25e79",
   "metadata": {},
   "source": [
    "## Scalar history"
   ]
  },
  {
   "cell_type": "code",
   "execution_count": null,
   "id": "04f25bbb-e503-4d3e-94ec-006702b1a09c",
   "metadata": {},
   "outputs": [],
   "source": [
    "keys_sorted = sorted(list(history.keys()))\n",
    "imax = len(history[keys_sorted[0]])\n",
    "\n",
    "@interact(\n",
    "    key=widgets.Dropdown(options=keys_sorted, value=\"D_norm\"),\n",
    "    irange=widgets.IntRangeSlider(min=0, max=imax, value=(0, imax)),\n",
    "    log=False,\n",
    ")\n",
    "def update(key, irange, log):\n",
    "    vals = history[key]\n",
    "    \n",
    "    avg = vals[0]\n",
    "    avgs = []\n",
    "    for i, val in enumerate(vals):\n",
    "        avg = 0.99 * avg + 0.01 * val\n",
    "        avgs.append(avg)\n",
    "\n",
    "    fig, ax = pplt.subplots()\n",
    "    ax.plot(vals[irange[0] : irange[1]], color=\"gray\")\n",
    "    ax.plot(avgs[irange[0] : irange[1]], color=\"black\", lw=1.0)    \n",
    "    if log:\n",
    "        ax.format(yscale=\"log\", yformatter=\"log\")\n",
    "    ax.format(xlabel=\"Iteration (global)\", ylabel=key)\n",
    "    plt.show()"
   ]
  },
  {
   "cell_type": "markdown",
   "id": "b532ede2-99d1-49c1-992a-f99bcfb59ab2",
   "metadata": {},
   "source": [
    "## Evaluation"
   ]
  },
  {
   "cell_type": "markdown",
   "id": "04336fab-7a95-4b31-a5d0-3d180f3e968a",
   "metadata": {},
   "source": [
    "### Density"
   ]
  },
  {
   "cell_type": "code",
   "execution_count": null,
   "id": "f5a5cf91-948b-4cf4-8e30-95e5a138cd9b",
   "metadata": {},
   "outputs": [],
   "source": [
    "@interact(\n",
    "    index=widgets.IntSlider(min=0, max=(len(checkpoints) - 1), value=0),\n",
    "    n=widgets.FloatLogSlider(min=2, max=6, value=1.00e+05),\n",
    "    xmax=widgets.FloatSlider(min=0.0, max=6.0, value=3.0),\n",
    "    bins=widgets.IntSlider(min=4, max=150, value=125),\n",
    "    res=widgets.IntSlider(min=4, max=250, value=150),\n",
    "    cmap=[\"viridis\", \"plasma\", \"blues\", \"mono\", pplt.Colormap(\"dark_r\", space=\"hpl\")],\n",
    ")\n",
    "def update(index, n, xmax, bins, res, cmap):\n",
    "    model.load(checkpoints[index][\"path\"], device=device)\n",
    "\n",
    "    n = int(n)\n",
    "\n",
    "    x = model.sample(int(n))\n",
    "    x = grab(x)\n",
    "\n",
    "    x0 = dist.sample(int(n))\n",
    "\n",
    "    limits = 2 * [(-xmax, xmax)]\n",
    "\n",
    "    fig, axs = pplt.subplots(ncols=2)\n",
    "    kws = dict(cmap=cmap)\n",
    "    axs[0].hist2d(x0[:, 0], x0[:, 1], bins=bins, range=limits, **kws)\n",
    "    axs[1].hist2d(x[:, 0], x[:, 1], bins=bins, range=limits, **kws)"
   ]
  },
  {
   "cell_type": "markdown",
   "id": "e9dc76a0-225c-436f-beec-7a0c07937e09",
   "metadata": {},
   "source": [
    "### Projections"
   ]
  },
  {
   "cell_type": "code",
   "execution_count": null,
   "id": "bfeca62c-95ce-4c4d-bae5-01f63fcbe25c",
   "metadata": {},
   "outputs": [],
   "source": [
    "@interact(\n",
    "    index=widgets.IntSlider(min=0, max=(len(checkpoints) - 1), value=0),\n",
    "    n=widgets.FloatLogSlider(min=2, max=6, value=50000),\n",
    "    log_ymin=widgets.FloatSlider(min=-5.0, max=-1.0, value=-3.0),\n",
    ")\n",
    "def update(index, n, log_ymin, kde=True, log=False):\n",
    "    model.load(checkpoints[index][\"path\"], device=device)\n",
    "\n",
    "    with torch.no_grad():\n",
    "        x = model.sample(int(n))\n",
    "        x = send(x)\n",
    "\n",
    "        for diagnostic in model.diagnostics:\n",
    "            diagnostic.kde = kde\n",
    "        predictions = model.simulate(x)\n",
    "        \n",
    "        _predictions = [grab(prediction) for prediction in mf.utils.unravel(predictions)]\n",
    "        _measurements = [grab(measurement) for measurement in mf.utils.unravel(model.measurements)]\n",
    "        \n",
    "        edges = grab(model.diagnostics[0].bin_edges)\n",
    "        coords = 0.5 * edges[:-1] + edges[1:]\n",
    "\n",
    "        kws = dict()\n",
    "\n",
    "        maxcols = 7\n",
    "        ncols = min(len(_measurements), maxcols)\n",
    "        nrows = int(np.ceil(len(_measurements) / ncols))\n",
    "        figheight = 1.3 * nrows\n",
    "        figwidth = min(10.0, 1.75 * ncols)\n",
    "        \n",
    "        fig, axs = pplt.subplots(ncols=ncols, nrows=nrows, figheight=figheight, figwidth=figwidth)\n",
    "        for j in range(len(model.measurements)):\n",
    "            ax = axs[j]            \n",
    "            scale = np.max(_measurements[j])\n",
    "            ax.plot(coords, _measurements[j] / scale, color=\"black\", **kws)\n",
    "            ax.plot(coords, _predictions[j] / scale, color=\"red\", **kws)\n",
    "        axs.format(ymax=1.25)\n",
    "        axs.format(ymin=(10.0 ** log_ymin))\n",
    "        if log:\n",
    "            axs.format(yscale=\"log\")\n",
    "        plt.show()"
   ]
  },
  {
   "cell_type": "code",
   "execution_count": null,
   "id": "759b0a84-f020-4223-b132-c6492f9ec787",
   "metadata": {},
   "outputs": [],
   "source": []
  }
 ],
 "metadata": {
  "kernelspec": {
   "display_name": "ot-flow",
   "language": "python",
   "name": "ot-flow"
  },
  "language_info": {
   "codemirror_mode": {
    "name": "ipython",
    "version": 3
   },
   "file_extension": ".py",
   "mimetype": "text/x-python",
   "name": "python",
   "nbconvert_exporter": "python",
   "pygments_lexer": "ipython3",
   "version": "3.8.10"
  }
 },
 "nbformat": 4,
 "nbformat_minor": 5
}
