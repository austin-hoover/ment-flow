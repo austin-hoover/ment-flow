{
 "cells": [
  {
   "cell_type": "markdown",
   "id": "4fef2e93-45a7-44c1-86ee-0b737cc26334",
   "metadata": {},
   "source": [
    "# Evaluate 2D MENT-Flow model (neural network generator)"
   ]
  },
  {
   "cell_type": "code",
   "execution_count": null,
   "id": "7aef45e3-614f-4027-bdf5-cf4ac7be3285",
   "metadata": {},
   "outputs": [],
   "source": [
    "import os\n",
    "import pickle\n",
    "import sys\n",
    "from pprint import pprint\n",
    "\n",
    "import matplotlib.pyplot as plt\n",
    "import numpy as np\n",
    "import proplot as pplt\n",
    "import skimage.filters\n",
    "import torch\n",
    "from ipywidgets import interact\n",
    "from ipywidgets import widgets\n",
    "\n",
    "import mentflow as mf\n",
    "from mentflow.utils import grab\n",
    "from mentflow.utils import unravel\n",
    "\n",
    "import experiments.load\n",
    "import plotting"
   ]
  },
  {
   "cell_type": "code",
   "execution_count": null,
   "id": "869644db-d946-4d2d-84ea-323b6d6e2d0e",
   "metadata": {},
   "outputs": [],
   "source": [
    "plotting.set_proplot_rc()"
   ]
  },
  {
   "cell_type": "markdown",
   "id": "d506a710-bdfd-4e13-872e-cb66a0d06161",
   "metadata": {},
   "source": [
    "## Settings"
   ]
  },
  {
   "cell_type": "code",
   "execution_count": null,
   "id": "2c94122f-c7d8-4614-8596-ce79d3db5a1b",
   "metadata": {},
   "outputs": [],
   "source": [
    "device = torch.device(\"cpu\")\n",
    "precision = torch.float32\n",
    "\n",
    "def send(x):\n",
    "    return x.type(precision).to(device)"
   ]
  },
  {
   "cell_type": "markdown",
   "id": "a82731c4-d798-44bd-b2d2-a2a1e914679c",
   "metadata": {},
   "source": [
    "## Load data"
   ]
  },
  {
   "cell_type": "code",
   "execution_count": null,
   "id": "e3c34342-1c5f-40e3-9791-6395e61b5710",
   "metadata": {},
   "outputs": [],
   "source": [
    "data_name = \"two-spirals\"\n",
    "script_name = \"train_nn\"\n",
    "timestamp = 240105172722\n",
    "datadir = f\"./output/{data_name}/{script_name}/{timestamp}/\"\n",
    "\n",
    "if not os.path.exists(datadir):\n",
    "    raise ValueError(\"Invalid script_name or timestamp\")"
   ]
  },
  {
   "cell_type": "code",
   "execution_count": null,
   "id": "a70b6719-3ac6-4c8e-8e34-aac27130e227",
   "metadata": {},
   "outputs": [],
   "source": [
    "run = experiments.load.load_run(datadir, gen_model=\"nn\")\n",
    "\n",
    "args = run[\"args\"]\n",
    "cfg = run[\"cfg\"]\n",
    "dist = run[\"dist\"]\n",
    "model = run[\"model\"]\n",
    "checkpoints = run[\"checkpoints\"]\n",
    "history = run[\"history\"]"
   ]
  },
  {
   "cell_type": "markdown",
   "id": "225ed3bb-d9d6-4b02-89d5-4e06c2e25e79",
   "metadata": {},
   "source": [
    "## Scalar history"
   ]
  },
  {
   "cell_type": "code",
   "execution_count": null,
   "id": "04f25bbb-e503-4d3e-94ec-006702b1a09c",
   "metadata": {},
   "outputs": [],
   "source": [
    "keys_sorted = sorted(list(history.keys()))\n",
    "imax = len(history[keys_sorted[0]])\n",
    "\n",
    "@interact(\n",
    "    key=widgets.Dropdown(options=keys_sorted, value=\"D_norm\"),\n",
    "    irange=widgets.IntRangeSlider(min=0, max=imax, value=(0, imax)),\n",
    "    log=False,\n",
    ")\n",
    "def update(key, irange, log):\n",
    "    vals = history[key]\n",
    "    \n",
    "    avg = vals[0]\n",
    "    avgs = []\n",
    "    for i, val in enumerate(vals):\n",
    "        avg = 0.99 * avg + 0.01 * val\n",
    "        avgs.append(avg)\n",
    "\n",
    "    fig, ax = pplt.subplots()\n",
    "    ax.plot(vals[irange[0] : irange[1]], color=\"gray\")\n",
    "    ax.plot(avgs[irange[0] : irange[1]], color=\"black\", lw=1.0)    \n",
    "    if log:\n",
    "        ax.format(yscale=\"log\", yformatter=\"log\")\n",
    "    ax.format(xlabel=\"Iteration (global)\", ylabel=key)\n",
    "    plt.show()"
   ]
  },
  {
   "cell_type": "markdown",
   "id": "b532ede2-99d1-49c1-992a-f99bcfb59ab2",
   "metadata": {},
   "source": [
    "## Evaluation"
   ]
  },
  {
   "cell_type": "markdown",
   "id": "04336fab-7a95-4b31-a5d0-3d180f3e968a",
   "metadata": {},
   "source": [
    "### Density"
   ]
  },
  {
   "cell_type": "code",
   "execution_count": null,
   "id": "f5a5cf91-948b-4cf4-8e30-95e5a138cd9b",
   "metadata": {},
   "outputs": [],
   "source": [
    "@interact(\n",
    "    index=widgets.IntSlider(\n",
    "        min=0, \n",
    "        max=(len(checkpoints) - 1), \n",
    "        value=(len(checkpoints) - 1),\n",
    "    ),\n",
    "    n=widgets.FloatLogSlider(min=2, max=6, value=1.00e+05),\n",
    "    xmax=widgets.FloatSlider(min=0.0, max=6.0, value=3.0),\n",
    "    bins=widgets.IntSlider(min=4, max=150, value=125),\n",
    ")\n",
    "def update(index, n, xmax, bins):\n",
    "    model.load(checkpoints[index][\"path\"], device)\n",
    "\n",
    "    with torch.no_grad():\n",
    "        x = grab(model.sample(int(n)))\n",
    "        x0 = grab(dist.sample(int(n)))\n",
    "        \n",
    "        fig, axs = pplt.subplots(ncols=2, xspineloc=\"neither\", yspineloc=\"neither\", space=0)\n",
    "        kws = dict()\n",
    "        limits = 2 * [(-xmax, xmax)]\n",
    "        axs[0].hist2d(x0[:, 0], x0[:, 1], bins=bins, range=limits, **kws)\n",
    "        axs[1].hist2d(x[:, 0], x[:, 1], bins=bins, range=limits, **kws)\n",
    "        pplt.show()"
   ]
  },
  {
   "cell_type": "markdown",
   "id": "e9dc76a0-225c-436f-beec-7a0c07937e09",
   "metadata": {},
   "source": [
    "### Projections"
   ]
  },
  {
   "cell_type": "code",
   "execution_count": null,
   "id": "bfeca62c-95ce-4c4d-bae5-01f63fcbe25c",
   "metadata": {},
   "outputs": [],
   "source": [
    "@interact(\n",
    "    index=widgets.IntSlider(\n",
    "        min=0, \n",
    "        max=(len(checkpoints) - 1), \n",
    "        value=(len(checkpoints) - 1),\n",
    "    ),\n",
    "    n=widgets.FloatLogSlider(min=2, max=6, value=50000),\n",
    "    log_ymin=widgets.FloatSlider(min=-5.0, max=-1.0, value=-3.0),\n",
    ")\n",
    "def update(index, n, log_ymin, kde=False, log=False):\n",
    "    model.load(checkpoints[index][\"path\"], device=device)\n",
    "\n",
    "    with torch.no_grad():\n",
    "        x = send(model.sample(int(n)))\n",
    "\n",
    "        for diagnostic in model.diagnostics:\n",
    "            diagnostic.kde = kde\n",
    "        predictions = model.simulate(x)\n",
    "\n",
    "        fig, axs = plotting.plot_proj(\n",
    "            [grab(measurement) for measurement in unravel(model.measurements)],\n",
    "            [grab(prediction) for prediction in unravel(predictions)],\n",
    "            bin_edges=grab(model.diagnostics[0].bin_edges),\n",
    "            maxcols=7,\n",
    "            kind=\"line\",\n",
    "            height=1.25,\n",
    "            lw=1.5,\n",
    "        )\n",
    "        axs.format(ymax=1.25, ymin=(10.0 ** log_ymin))\n",
    "        if log:\n",
    "            axs.format(yscale=\"log\")\n",
    "        plt.show()"
   ]
  },
  {
   "cell_type": "markdown",
   "id": "3824d92e-4536-4349-90b0-b5b81f62dae1",
   "metadata": {},
   "source": [
    "### Grid warp"
   ]
  },
  {
   "cell_type": "code",
   "execution_count": null,
   "id": "20670ef9-218b-4f14-a34c-7a2549577966",
   "metadata": {},
   "outputs": [],
   "source": [
    "@interact(\n",
    "    index=widgets.IntSlider(\n",
    "        min=0, \n",
    "        max=(len(checkpoints) - 1), \n",
    "        value=(len(checkpoints) - 1),\n",
    "    ),\n",
    ")\n",
    "def update(index):\n",
    "    model.load(checkpoints[index][\"path\"], device=device)\n",
    "    \n",
    "    fig, axs = pplt.subplots(ncols=2)\n",
    "    \n",
    "    xmax = 3.0\n",
    "    n_lines = 100\n",
    "    res = 150\n",
    "    scale = 3.0\n",
    "    grid = np.linspace(-scale * xmax, scale * xmax, n_lines)\n",
    "    line_points = []\n",
    "    for i in range(len(grid)):\n",
    "        x = np.full(res, grid[i])\n",
    "        y = np.linspace(-xmax, xmax, res)\n",
    "        line_points.append(np.vstack([x, y]).T)\n",
    "        line_points.append(np.vstack([y, x]).T)\n",
    "    \n",
    "    kws = dict(color=\"black\", lw=0.6, alpha=0.25)\n",
    "    for points in line_points:\n",
    "        axs[0].plot(points[:, 0], points[:, 1], **kws)\n",
    "        points = torch.from_numpy(points)\n",
    "        points = points.type(torch.float32).to(device)\n",
    "        points = model.generator.transformer(points)\n",
    "        points = points.detach().cpu().numpy()\n",
    "        for ax in axs[1:]:\n",
    "            ax.plot(points[:, 0], points[:, 1], **kws)\n",
    "\n",
    "    z = model.generator.base.sample((1000,))\n",
    "    x = model.generator.transformer(z)\n",
    "    z = grab(z)\n",
    "    x = grab(x)\n",
    "    kws = dict(c=\"black\", zorder=999, s=1)\n",
    "    axs[0].scatter(z[:, 0], z[:, 1], **kws)\n",
    "    axs[1].scatter(x[:, 0], x[:, 1], **kws)\n",
    "    \n",
    "    axs.format(xlim=(-xmax, xmax), ylim=(-xmax, xmax))\n",
    "    plt.show()"
   ]
  },
  {
   "cell_type": "code",
   "execution_count": null,
   "id": "a680256b-2ed4-4d69-b010-057415f8f67a",
   "metadata": {},
   "outputs": [],
   "source": []
  }
 ],
 "metadata": {
  "kernelspec": {
   "display_name": "ot-flow",
   "language": "python",
   "name": "ot-flow"
  },
  "language_info": {
   "codemirror_mode": {
    "name": "ipython",
    "version": 3
   },
   "file_extension": ".py",
   "mimetype": "text/x-python",
   "name": "python",
   "nbconvert_exporter": "python",
   "pygments_lexer": "ipython3",
   "version": "3.8.10"
  }
 },
 "nbformat": 4,
 "nbformat_minor": 5
}
