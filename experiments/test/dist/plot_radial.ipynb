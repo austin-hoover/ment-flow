{
 "cells": [
  {
   "cell_type": "markdown",
   "id": "1ca1b871-f4d6-4c9e-a199-bac9fed0cb5a",
   "metadata": {},
   "source": [
    "# Plot radial distributions"
   ]
  },
  {
   "cell_type": "code",
   "execution_count": null,
   "id": "c25ae5b8-5de4-413a-a3bf-8896a4c62094",
   "metadata": {},
   "outputs": [],
   "source": [
    "import os \n",
    "import sys\n",
    "\n",
    "import numpy as np\n",
    "import proplot as pplt\n",
    "\n",
    "import mentflow as mf\n",
    "\n",
    "sys.path.append(\"/Users/46h/repo/psdist/\")\n",
    "import psdist as ps\n",
    "import psdist.visualization as psv"
   ]
  },
  {
   "cell_type": "code",
   "execution_count": null,
   "id": "8b98d2e8-8cf4-40f5-82d7-286e4850cad6",
   "metadata": {},
   "outputs": [],
   "source": [
    "pplt.rc[\"cmap.discrete\"] = False\n",
    "pplt.rc[\"cmap.sequential\"] = \"viridis\"\n",
    "pplt.rc[\"figure.facecolor\"] = \"white\"\n",
    "pplt.rc[\"grid\"] = False"
   ]
  },
  {
   "cell_type": "code",
   "execution_count": null,
   "id": "dd9f3797-ddcc-48f8-a784-c598c2567009",
   "metadata": {},
   "outputs": [],
   "source": [
    "d = 4\n",
    "size = int(1.00e+06)\n",
    "noise = None  # auto\n",
    "normalize = True\n",
    "n_bins = 80\n",
    "rmax = 3.5\n",
    "\n",
    "seed = 0\n",
    "rng = np.random.default_rng(seed)"
   ]
  },
  {
   "cell_type": "code",
   "execution_count": null,
   "id": "c87c3a25-0d9e-4957-8d2b-39767c59b91e",
   "metadata": {},
   "outputs": [],
   "source": [
    "for name, constructor in mf.data.radial.DISTRIBUTIONS.items():\n",
    "    print(name)\n",
    "    dist = constructor(d=d, normalize=normalize, noise=noise, shuffle=True, decorr=False, rng=rng)\n",
    "    X = dist.sample(size)\n",
    "    \n",
    "    grid = psv.CornerGrid(d=d, diag_rspine=False, figwidth=((5.0 / 4.0) * d))\n",
    "    grid.plot_points(X, limits=(d * [(-rmax, rmax)]), bins=55, mask=False, cmap=\"mono\")\n",
    "    pplt.show()\n",
    "\n",
    "    fig, ax = pplt.subplots(figsize=(3, 2))\n",
    "    r = np.linalg.norm(X, axis=1)\n",
    "    ax.hist(r, bins=100, range=(0.0, rmax), density=True, color=\"black\")\n",
    "    ax.format(xlabel=\"Radius\", ylabel=\"Unnormalized density\")\n",
    "    pplt.show()"
   ]
  },
  {
   "cell_type": "code",
   "execution_count": null,
   "id": "f0b016af-7f97-4f9f-907f-ee0a016f897e",
   "metadata": {},
   "outputs": [],
   "source": []
  }
 ],
 "metadata": {
  "kernelspec": {
   "display_name": "ot-flow",
   "language": "python",
   "name": "ot-flow"
  },
  "language_info": {
   "codemirror_mode": {
    "name": "ipython",
    "version": 3
   },
   "file_extension": ".py",
   "mimetype": "text/x-python",
   "name": "python",
   "nbconvert_exporter": "python",
   "pygments_lexer": "ipython3",
   "version": "3.8.10"
  }
 },
 "nbformat": 4,
 "nbformat_minor": 5
}
