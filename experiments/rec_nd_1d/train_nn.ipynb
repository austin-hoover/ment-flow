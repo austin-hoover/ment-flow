{
 "cells": [
  {
   "cell_type": "markdown",
   "id": "fb84a36f-98d2-4f2a-a7f6-864811d27c87",
   "metadata": {},
   "source": [
    "# Train NN"
   ]
  },
  {
   "cell_type": "code",
   "execution_count": null,
   "id": "dc36fe3c-58b8-4bf4-b910-40326d9d848f",
   "metadata": {},
   "outputs": [],
   "source": [
    "import hydra\n",
    "import numpy as np\n",
    "import torch\n",
    "from omegaconf import DictConfig\n",
    "from omegaconf import OmegaConf\n",
    "\n",
    "import mentflow as mf\n",
    "\n",
    "import setup"
   ]
  },
  {
   "cell_type": "code",
   "execution_count": null,
   "id": "113715c0-3fc1-4762-a84b-e0bae350bad0",
   "metadata": {
    "scrolled": true
   },
   "outputs": [],
   "source": [
    "with hydra.initialize(version_base=None, config_path=\"../config\"):\n",
    "    cfg = hydra.compose(\n",
    "        config_name=\"rec_nd_1d_nn.yaml\",\n",
    "        overrides=[\n",
    "            \"d=6\",\n",
    "            \"device=mps\",\n",
    "            \"dist.name=rings\",\n",
    "            \"meas.num=25\",\n",
    "            \"train.batch_size=10000\",\n",
    "            \"train.iters=200\",\n",
    "            \"train.lr_patience=100\",\n",
    "            \"train.penalty=500.0\",\n",
    "            \"model.entest=cov\",\n",
    "            \"seed=21\",\n",
    "        ],\n",
    "    )\n",
    "    print(OmegaConf.to_yaml(cfg))"
   ]
  },
  {
   "cell_type": "code",
   "execution_count": null,
   "id": "c0045153-4746-4023-a7f3-00baaaf7ac12",
   "metadata": {},
   "outputs": [],
   "source": [
    "transforms, diagnostics, measurements = setup.generate_training_data(\n",
    "    cfg,\n",
    "    make_dist=setup.make_dist,\n",
    "    make_diagnostics=setup.make_diagnostics,\n",
    "    make_transforms=setup.make_transforms,\n",
    ")\n",
    "\n",
    "model = setup.setup_mentflow_model(\n",
    "    cfg,\n",
    "    transforms=transforms,\n",
    "    diagnostics=diagnostics,\n",
    "    measurements=measurements,\n",
    ")\n",
    "\n",
    "setup.train_mentflow_model(\n",
    "    cfg,\n",
    "    model=model,\n",
    "    setup_plot=setup.setup_plot,\n",
    "    setup_eval=setup.setup_eval,\n",
    "    output_dir=None,\n",
    "    notebook=True,\n",
    ")"
   ]
  },
  {
   "cell_type": "code",
   "execution_count": null,
   "id": "2afef647-fca2-4741-957d-3872055af86d",
   "metadata": {},
   "outputs": [],
   "source": []
  },
  {
   "cell_type": "code",
   "execution_count": null,
   "id": "7d1e0ecd-396a-47d5-8c39-7a54a0bffc9f",
   "metadata": {},
   "outputs": [],
   "source": []
  }
 ],
 "metadata": {
  "kernelspec": {
   "display_name": "ment-flow",
   "language": "python",
   "name": "ment-flow"
  },
  "language_info": {
   "codemirror_mode": {
    "name": "ipython",
    "version": 3
   },
   "file_extension": ".py",
   "mimetype": "text/x-python",
   "name": "python",
   "nbconvert_exporter": "python",
   "pygments_lexer": "ipython3",
   "version": "3.8.18"
  }
 },
 "nbformat": 4,
 "nbformat_minor": 5
}
