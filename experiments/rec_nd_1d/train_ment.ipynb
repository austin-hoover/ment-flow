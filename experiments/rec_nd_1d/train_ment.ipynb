{
 "cells": [
  {
   "cell_type": "markdown",
   "id": "9f502eda-c9a2-484b-b251-73ca2fcfa5e7",
   "metadata": {},
   "source": [
    "# Train MENT"
   ]
  },
  {
   "cell_type": "code",
   "execution_count": null,
   "id": "b38ba5ee-a5c7-4e73-b1d2-e54afb9b1e0e",
   "metadata": {},
   "outputs": [],
   "source": [
    "import hydra\n",
    "import numpy as np\n",
    "import torch\n",
    "from omegaconf import DictConfig\n",
    "from omegaconf import OmegaConf\n",
    "from pprint import pprint\n",
    "\n",
    "import mentflow as mf\n",
    "\n",
    "import setup"
   ]
  },
  {
   "cell_type": "code",
   "execution_count": null,
   "id": "0ac4501a-ebdd-4031-bfb4-a9635ea2fc11",
   "metadata": {
    "scrolled": true
   },
   "outputs": [],
   "source": [
    "with hydra.initialize(version_base=None, config_path=\"../config\"):\n",
    "    cfg = hydra.compose(\n",
    "        config_name=\"rec_nd_1d_ment.yaml\",\n",
    "        overrides=[\n",
    "            \"d=4\",\n",
    "            \"dist.name=rings\",\n",
    "            \"meas.num=25\",\n",
    "            \"model.mode=sample\",\n",
    "            \"model.samp_res=25\",\n",
    "            \"model.verbose=true\",\n",
    "            \"train.omega=1.0\",\n",
    "        ],\n",
    "    )\n",
    "    print(OmegaConf.to_yaml(cfg))"
   ]
  },
  {
   "cell_type": "code",
   "execution_count": null,
   "id": "8708daa8-3b72-4748-a7fb-34a7127ea812",
   "metadata": {},
   "outputs": [],
   "source": [
    "transforms, diagnostics, measurements = setup.generate_training_data(\n",
    "    cfg,\n",
    "    make_dist=setup.make_dist,\n",
    "    make_diagnostics=setup.make_diagnostics,\n",
    "    make_transforms=setup.make_transforms,\n",
    ")\n",
    "\n",
    "model = setup.setup_ment_model(\n",
    "    cfg,\n",
    "    transforms=transforms,\n",
    "    diagnostics=diagnostics,\n",
    "    measurements=measurements,\n",
    ")\n",
    "\n",
    "setup.train_ment_model(\n",
    "    cfg,\n",
    "    model=model,\n",
    "    setup_plot=setup.setup_plot,\n",
    "    setup_eval=setup.setup_eval,\n",
    "    output_dir=None,\n",
    "    notebook=True,\n",
    ")"
   ]
  },
  {
   "cell_type": "code",
   "execution_count": null,
   "id": "bcf6373e-ffdd-413f-94c3-4fb1420f8228",
   "metadata": {},
   "outputs": [],
   "source": []
  }
 ],
 "metadata": {
  "kernelspec": {
   "display_name": "ment-flow",
   "language": "python",
   "name": "ment-flow"
  },
  "language_info": {
   "codemirror_mode": {
    "name": "ipython",
    "version": 3
   },
   "file_extension": ".py",
   "mimetype": "text/x-python",
   "name": "python",
   "nbconvert_exporter": "python",
   "pygments_lexer": "ipython3",
   "version": "3.8.18"
  }
 },
 "nbformat": 4,
 "nbformat_minor": 5
}
