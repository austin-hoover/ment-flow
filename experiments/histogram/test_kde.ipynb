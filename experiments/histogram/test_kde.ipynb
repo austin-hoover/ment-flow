{
 "cells": [
  {
   "cell_type": "markdown",
   "id": "0a87ab56-4b3e-4ee1-b987-fb5fa5ce9e5b",
   "metadata": {},
   "source": [
    "# KDE vs. histogram"
   ]
  },
  {
   "cell_type": "code",
   "execution_count": null,
   "id": "93006174-b087-4354-996b-8288e9bdd078",
   "metadata": {},
   "outputs": [],
   "source": [
    "import time\n",
    "\n",
    "import matplotlib.pyplot as plt\n",
    "import numpy as np\n",
    "import torch\n",
    "import ultraplot as uplt\n",
    "\n",
    "import mentflow as mf\n",
    "from mentflow.utils import grab"
   ]
  },
  {
   "cell_type": "code",
   "execution_count": null,
   "id": "5341497c-8802-409e-9e78-9231dd866099",
   "metadata": {},
   "outputs": [],
   "source": [
    "uplt.rc[\"cmap.discrete\"] = False\n",
    "uplt.rc[\"cmap.sequential\"] = \"viridis\"\n",
    "uplt.rc[\"figure.facecolor\"] = \"white\"\n",
    "uplt.rc[\"grid\"] = False"
   ]
  },
  {
   "cell_type": "markdown",
   "id": "e2ff2998-bf00-42bd-937b-3590a623b9bc",
   "metadata": {},
   "source": [
    "## Settings"
   ]
  },
  {
   "cell_type": "code",
   "execution_count": null,
   "id": "7cd4684b-e0a4-4452-a034-0d7a337e5a26",
   "metadata": {},
   "outputs": [],
   "source": [
    "data_name = \"swissroll\"\n",
    "xmax = 3.0\n",
    "sizes = [1.00e+03, 1.00e+04, 1.00e+05, 1.00e+06]\n",
    "bandwidth = 0.5\n",
    "n_bins = 75\n",
    "noise = True\n",
    "noise_scale = 0.1\n",
    "\n",
    "device = \"cpu\""
   ]
  },
  {
   "cell_type": "markdown",
   "id": "419cbfae-a92c-4be4-b386-0a7676028024",
   "metadata": {},
   "source": [
    "## 1D"
   ]
  },
  {
   "cell_type": "code",
   "execution_count": null,
   "id": "331cb704-324a-4aac-9b9f-2178abf8f07d",
   "metadata": {},
   "outputs": [],
   "source": [
    "edges = torch.linspace(-xmax, xmax, n_bins + 1)\n",
    "diagnostic = mf.diagnostics.Histogram1D(\n",
    "    axis=0, \n",
    "    edges=edges, \n",
    "    bandwidth=bandwidth, \n",
    "    noise=noise, \n",
    "    noise_scale=noise_scale\n",
    ")\n",
    "diagnostic = diagnostic.to(device)\n",
    "\n",
    "distribution = mf.distributions.get_distribution(data_name)\n",
    "\n",
    "fig, axs = uplt.subplots(ncols=len(sizes), figsize=(6.0, 1.25))\n",
    "for ax, size in zip(axs, sizes):\n",
    "    x = distribution.sample(int(size))\n",
    "    x = x.type(torch.float32).to(device)\n",
    "    for i in range(2):\n",
    "        diagnostic.kde = i\n",
    "        histogram = diagnostic(x)\n",
    "        ax.plot(\n",
    "            grab(diagnostic.coords), \n",
    "            grab(histogram), \n",
    "            label=[\"hist\", \"kde\"][i], \n",
    "            color=[\"blue8\", \"red8\"][i]\n",
    "        )\n",
    "\n",
    "    ax.format(title=f\"n = {size:0.2e}\")\n",
    "axs[-1].legend(loc=\"r\", ncols=1, framealpha=0.0, handlelength=1.5)\n",
    "plt.show()"
   ]
  },
  {
   "cell_type": "markdown",
   "id": "61d26b7a-d5bd-400c-90b4-f9df51f188f6",
   "metadata": {},
   "source": [
    "## 2D"
   ]
  },
  {
   "cell_type": "code",
   "execution_count": null,
   "id": "a758530a-ba79-4458-bc63-77df06a18d2f",
   "metadata": {},
   "outputs": [],
   "source": [
    "edges = 2 * [torch.linspace(-xmax, xmax, n_bins + 1)]\n",
    "diagnostic = mf.diagnostics.Histogram2D(\n",
    "    axis=(0, 1), \n",
    "    edges=edges,\n",
    "    bandwidth=(bandwidth, bandwidth),\n",
    ")\n",
    "\n",
    "cmaps = [\n",
    "    uplt.Colormap(\"div\", left=0.5),\n",
    "    uplt.Colormap(\"div_r\", left=0.5),\n",
    "]\n",
    "\n",
    "fig, axs = uplt.subplots(ncols=len(sizes), figwidth=6.0, nrows=2)\n",
    "for j, size in enumerate(sizes):\n",
    "    x = distribution.sample(int(size))\n",
    "    x = x.type(torch.float32)\n",
    "    for i in [0, 1]:\n",
    "        diagnostic.kde = i\n",
    "        histogram = diagnostic(x)\n",
    "        axs[i, j].pcolormesh(\n",
    "            grab(diagnostic.edges_x),\n",
    "            grab(diagnostic.edges_y),\n",
    "            grab(histogram.T),\n",
    "            cmap=cmaps[i],\n",
    "        )\n",
    "    axs[0, j].format(title=f\"n = {size:0.2e}\")\n",
    "axs.format(leftlabels=[\"hist\", \"kde\"])\n",
    "plt.show()"
   ]
  },
  {
   "cell_type": "code",
   "execution_count": null,
   "id": "b538b935-de8e-4152-a064-32c5fba92457",
   "metadata": {},
   "outputs": [],
   "source": []
  }
 ],
 "metadata": {
  "kernelspec": {
   "display_name": "ment-flow",
   "language": "python",
   "name": "ment-flow"
  },
  "language_info": {
   "codemirror_mode": {
    "name": "ipython",
    "version": 3
   },
   "file_extension": ".py",
   "mimetype": "text/x-python",
   "name": "python",
   "nbconvert_exporter": "python",
   "pygments_lexer": "ipython3",
   "version": "3.11.5"
  }
 },
 "nbformat": 4,
 "nbformat_minor": 5
}
