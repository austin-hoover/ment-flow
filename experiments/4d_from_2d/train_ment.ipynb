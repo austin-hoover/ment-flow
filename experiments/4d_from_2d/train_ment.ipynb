{
 "cells": [
  {
   "cell_type": "markdown",
   "id": "4472285b-d6f1-44dc-8971-8f50ad23489b",
   "metadata": {},
   "source": [
    "# 4D-from-2D MENT"
   ]
  },
  {
   "cell_type": "code",
   "execution_count": null,
   "id": "620c4a29-2612-4e97-89ec-7b909dc2cd23",
   "metadata": {},
   "outputs": [],
   "source": [
    "import numpy as np\n",
    "import proplot as pplt\n",
    "import scipy.interpolate\n",
    "import torch\n",
    "from ipywidgets import interact\n",
    "from ipywidgets import widgets\n",
    "from tqdm.notebook import tqdm\n",
    "\n",
    "import mentflow as mf\n",
    "from mentflow.utils import grab"
   ]
  },
  {
   "cell_type": "code",
   "execution_count": null,
   "id": "eda22b10-8e57-403c-ba17-d368377e1963",
   "metadata": {},
   "outputs": [],
   "source": [
    "pplt.rc[\"cmap.discrete\"] = False\n",
    "pplt.rc[\"cmap.sequential\"] = \"viridis\"\n",
    "pplt.rc[\"figure.facecolor\"] = \"white\"\n",
    "pplt.rc[\"grid\"] = False"
   ]
  },
  {
   "cell_type": "markdown",
   "id": "d37d4644-dfae-4d13-b707-42cb4fecaeef",
   "metadata": {},
   "source": [
    "## Data"
   ]
  },
  {
   "cell_type": "code",
   "execution_count": null,
   "id": "ee227c50-4829-4c52-8f9b-4e7dfecdc4f6",
   "metadata": {},
   "outputs": [],
   "source": [
    "device = torch.device(\"cpu\")\n",
    "precision = torch.float32\n",
    "\n",
    "def send(x):\n",
    "    return x.type(precision).to(device)"
   ]
  },
  {
   "cell_type": "code",
   "execution_count": null,
   "id": "9cf32996-7874-4a45-8fee-0d01f43c1ee1",
   "metadata": {},
   "outputs": [],
   "source": [
    "data_name = \"spheres\"\n",
    "data_size = int(1.00e+06)\n",
    "data_noise = None\n",
    "d = 4\n",
    "xmax = 4.5\n",
    "n_bins = 35\n",
    "\n",
    "dist = mf.data.radial.gen_dist(data_name, d=d, noise=data_noise)\n",
    "x0 = dist.sample(data_size)\n",
    "x0 = send(x0)"
   ]
  },
  {
   "cell_type": "code",
   "execution_count": null,
   "id": "6cf57e39-c2b2-4044-8431-de2e76e4acf5",
   "metadata": {},
   "outputs": [],
   "source": [
    "k = 5\n",
    "angles = np.linspace(0.0, np.pi, k, endpoint=False)\n",
    "\n",
    "transforms = []\n",
    "for i in range(k):\n",
    "    for j in range(k):\n",
    "        angle_x = angles[i]\n",
    "        angle_y = angles[j]\n",
    "        matrix = torch.ones((4, 4))\n",
    "        matrix[:2, :2] = mf.transform.rotation_matrix(angle_x)\n",
    "        matrix[2:, 2:] = mf.transform.rotation_matrix(angle_y)\n",
    "        matrix = send(matrix)\n",
    "        transform = mf.transform.Linear(matrix)\n",
    "        transform = transform.to(device)\n",
    "        transforms.append(transform)\n",
    "\n",
    "bin_edges = 2 * [torch.linspace(-xmax, xmax, n_bins + 1)]\n",
    "diagnostic = mf.diagnostics.Histogram2D(axis=(0, 2), bin_edges=bin_edges, kde=False)\n",
    "diagnostic = diagnostic.to(device)\n",
    "\n",
    "measurements = [diagnostic(transform(x0)) for transform in transforms]"
   ]
  },
  {
   "cell_type": "markdown",
   "id": "0cffe5a3-4add-4643-a93d-83964ab60a9c",
   "metadata": {},
   "source": [
    "## Model "
   ]
  },
  {
   "cell_type": "code",
   "execution_count": null,
   "id": "a863d67a-0e38-463e-9724-ac1f7c0cdad2",
   "metadata": {},
   "outputs": [],
   "source": [
    "prior = mf.models.ment.UniformPrior(d=d, scale=20.0, device=device)\n",
    "\n",
    "sampler_limits = d * [(-xmax, +xmax)]\n",
    "sampler_limits = np.multiply(sampler_limits, 1.25)\n",
    "sampler = mf.sample.GridSampler(limits=sampler_limits, res=50, device=device)\n",
    "\n",
    "model = mf.models.ment.MENT(\n",
    "    d=d,\n",
    "    transforms=transforms,\n",
    "    measurements=measurements,\n",
    "    diagnostic=diagnostic,\n",
    "    prior=prior,\n",
    "    sampler=sampler,\n",
    "    interpolate=\"linear\",  # {\"nearest\", \"linear\", \"pchip\"}\n",
    "    device=device,\n",
    ")"
   ]
  },
  {
   "cell_type": "markdown",
   "id": "35cf06ba-e9bd-438d-b559-fea6098b3774",
   "metadata": {},
   "source": [
    "## Training"
   ]
  },
  {
   "cell_type": "code",
   "execution_count": null,
   "id": "201f6893-cc50-4a16-9a4e-82fda46dcb36",
   "metadata": {},
   "outputs": [],
   "source": [
    "# Define integration grid.\n",
    "int_limits = model.d_int * [(-xmax, xmax)]\n",
    "int_limits = np.multiply(int_limits, 1.1)\n",
    "int_res = 50\n",
    "int_shape = tuple(model.d_int * [int_res])"
   ]
  },
  {
   "cell_type": "code",
   "execution_count": null,
   "id": "563c1dc9-a5f9-46ea-be4b-da8d31eb19f2",
   "metadata": {},
   "outputs": [],
   "source": [
    "# Training loop\n",
    "for iteration in range(5):\n",
    "    n = 10000\n",
    "    \n",
    "    x = model.sample(n)\n",
    "    x = grab(x)\n",
    "\n",
    "    x0 = dist.sample(n)\n",
    "\n",
    "    fig, ax = pplt.subplots(figsize=(3, 2))\n",
    "    for i, _x in enumerate([x0, x]):\n",
    "        r = np.linalg.norm(_x, axis=1)\n",
    "        hist_r, edges_r = np.histogram(r, bins=50, range=(0.0, xmax), density=True)\n",
    "        ax.stairs(hist_r, edges_r, color=[\"black\", \"red\"][i], lw=1.5)\n",
    "    pplt.show()\n",
    "\n",
    "    model.gauss_seidel_iterate(method=\"integrate\", limits=int_limits, shape=int_shape)"
   ]
  },
  {
   "cell_type": "code",
   "execution_count": null,
   "id": "6d15151c-2358-4961-aaf5-9e6857eeb8e5",
   "metadata": {},
   "outputs": [],
   "source": [
    "## Compute predictions.\n",
    "predictions = model.simulate(method=\"sample\")\n",
    "# predictions = model.simulate(method=\"sample\", limits=limits, shape=shape)"
   ]
  },
  {
   "cell_type": "code",
   "execution_count": null,
   "id": "3f9b3c34-fe92-4b7f-9fdb-402cf1e61139",
   "metadata": {},
   "outputs": [],
   "source": [
    "@interact\n",
    "def update(index=(0, len(measurements) - 1)):\n",
    "    prob_meas = grab(measurements[index])\n",
    "    prob_pred = grab(predictions[index])\n",
    "    \n",
    "    fig, axs = pplt.subplots(ncols=2)\n",
    "    axs[0].pcolormesh(prob_meas.T)\n",
    "    axs[1].pcolormesh(prob_pred.T)\n",
    "    pplt.show()"
   ]
  },
  {
   "cell_type": "code",
   "execution_count": null,
   "id": "a6103317-ca79-4cf0-af02-4ff1993768a3",
   "metadata": {},
   "outputs": [],
   "source": []
  }
 ],
 "metadata": {
  "kernelspec": {
   "display_name": "ment-flow",
   "language": "python",
   "name": "ment-flow"
  },
  "language_info": {
   "codemirror_mode": {
    "name": "ipython",
    "version": 3
   },
   "file_extension": ".py",
   "mimetype": "text/x-python",
   "name": "python",
   "nbconvert_exporter": "python",
   "pygments_lexer": "ipython3",
   "version": "3.8.18"
  }
 },
 "nbformat": 4,
 "nbformat_minor": 5
}
