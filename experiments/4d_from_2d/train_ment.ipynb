{
 "cells": [
  {
   "cell_type": "markdown",
   "id": "4472285b-d6f1-44dc-8971-8f50ad23489b",
   "metadata": {},
   "source": [
    "# 4D-from-2D MENT"
   ]
  },
  {
   "cell_type": "code",
   "execution_count": null,
   "id": "620c4a29-2612-4e97-89ec-7b909dc2cd23",
   "metadata": {},
   "outputs": [],
   "source": [
    "import numpy as np\n",
    "import proplot as pplt\n",
    "import psdist as ps\n",
    "import psdist.visualization as psv\n",
    "import scipy.interpolate\n",
    "import torch\n",
    "from ipywidgets import interact\n",
    "from ipywidgets import widgets\n",
    "from tqdm.notebook import tqdm\n",
    "\n",
    "import mentflow as mf\n",
    "from mentflow.utils import grab"
   ]
  },
  {
   "cell_type": "code",
   "execution_count": null,
   "id": "eda22b10-8e57-403c-ba17-d368377e1963",
   "metadata": {},
   "outputs": [],
   "source": [
    "pplt.rc[\"cmap.discrete\"] = False\n",
    "pplt.rc[\"cmap.sequential\"] = pplt.Colormap(\"dark_r\", space=\"hpl\")\n",
    "pplt.rc[\"figure.facecolor\"] = \"white\"\n",
    "pplt.rc[\"grid\"] = False"
   ]
  },
  {
   "cell_type": "code",
   "execution_count": null,
   "id": "ee227c50-4829-4c52-8f9b-4e7dfecdc4f6",
   "metadata": {},
   "outputs": [],
   "source": [
    "device = torch.device(\"cpu\")\n",
    "precision = torch.float32\n",
    "\n",
    "def send(x):\n",
    "    return x.type(precision).to(device)"
   ]
  },
  {
   "cell_type": "markdown",
   "id": "5c7dbf08-31ba-403f-b887-ed5f2832d8ff",
   "metadata": {},
   "source": [
    "## Data"
   ]
  },
  {
   "cell_type": "code",
   "execution_count": null,
   "id": "bf2a17bc-f303-4ec9-a171-6e2f51a2a71d",
   "metadata": {},
   "outputs": [],
   "source": [
    "data_name = \"rings\"\n",
    "data_kws = dict()\n",
    "data_size = int(1.00e+06)\n",
    "data_noise = None\n",
    "xmax = 3.5\n",
    "n_bins = 50\n",
    "meas_noise = 0.0"
   ]
  },
  {
   "cell_type": "code",
   "execution_count": null,
   "id": "60acd5d0-756c-431c-8c8a-2248aefb331e",
   "metadata": {},
   "outputs": [],
   "source": [
    "# Draw samples from the input distribution.\n",
    "d = 4\n",
    "dist = mf.data.radial.gen_dist(data_name, d=d, noise=data_noise)\n",
    "x0 = dist.sample(data_size)\n",
    "x0 = send(x0)\n",
    "\n",
    "# Define transforms.\n",
    "k = 5\n",
    "angles = np.linspace(0.0, np.pi, k, endpoint=False)\n",
    "transforms = []\n",
    "for i in range(k):\n",
    "    for j in range(k):\n",
    "        angle_x = angles[i]\n",
    "        angle_y = angles[j]\n",
    "        matrix = torch.eye(d)\n",
    "        matrix[:2, :2] = mf.transform.rotation_matrix(angle_x)\n",
    "        matrix[2:, 2:] = mf.transform.rotation_matrix(angle_y)\n",
    "        matrix = send(matrix)\n",
    "        transform = mf.transform.Linear(matrix)\n",
    "        transform = transform.to(device)\n",
    "        transforms.append(transform)\n",
    "\n",
    "bin_edges = 2 * [torch.linspace(-xmax, xmax, n_bins + 1)]\n",
    "diagnostic = mf.diagnostics.Histogram2D(axis=(0, 2), bin_edges=bin_edges, kde=False)\n",
    "diagnostic = diagnostic.to(device)\n",
    "diagnostics = [diagnostic]\n",
    "\n",
    "# Generate training data.\n",
    "diagnostic.kde = False\n",
    "measurements = []\n",
    "for transform in transforms:\n",
    "    measurements.append(diagnostic(x0))\n",
    "if meas_noise:\n",
    "    for i in range(len(measurements)):\n",
    "        measurement = measurements[i]\n",
    "        frac_noise = meas_noise * torch.randn(measurement.shape[0])\n",
    "        frac_noise = send(frac_noise)\n",
    "        measurement *= (1.0 + frac_noise)\n",
    "        measurement = torch.clamp(measurement, 0.0, None)\n",
    "        measurements[i] = measurement\n",
    "diagnostic.kde = True"
   ]
  },
  {
   "cell_type": "markdown",
   "id": "5256e321-4f5b-40d9-93d2-1c33e13d594d",
   "metadata": {},
   "source": [
    "View the 2D projections of the data."
   ]
  },
  {
   "cell_type": "code",
   "execution_count": null,
   "id": "ef65346a-39f5-4d3f-8368-b128b8a30dc8",
   "metadata": {},
   "outputs": [],
   "source": [
    "index = 0\n",
    "y = transforms[index](x0)\n",
    "y = grab(y)\n",
    "\n",
    "limits = d * [(-xmax, xmax)]\n",
    "\n",
    "grid = psv.CornerGrid(d=4)\n",
    "grid.plot_points(y, bins=75, limits=(4 * [(-xmax, xmax)]), mask=False)"
   ]
  },
  {
   "cell_type": "markdown",
   "id": "8d671d16-bda5-4471-aa87-f9d47898a4e2",
   "metadata": {},
   "source": [
    "View the measurements."
   ]
  },
  {
   "cell_type": "code",
   "execution_count": null,
   "id": "ce816d65-2652-48d0-b79b-3576e2137f36",
   "metadata": {},
   "outputs": [],
   "source": [
    "@interact\n",
    "def update(index=(0, len(measurements) - 1)):   \n",
    "    fig, ax = pplt.subplots()\n",
    "    ax.pcolormesh(grab(bin_edges[0]), grab(bin_edges[1]), grab(measurements[index].T))\n",
    "    pplt.show()"
   ]
  },
  {
   "cell_type": "markdown",
   "id": "0cffe5a3-4add-4643-a93d-83964ab60a9c",
   "metadata": {},
   "source": [
    "## Model "
   ]
  },
  {
   "cell_type": "code",
   "execution_count": null,
   "id": "596f82c5-d3ee-4e1d-99d9-59531863753c",
   "metadata": {},
   "outputs": [],
   "source": [
    "measurements[0]"
   ]
  },
  {
   "cell_type": "code",
   "execution_count": null,
   "id": "a863d67a-0e38-463e-9724-ac1f7c0cdad2",
   "metadata": {},
   "outputs": [],
   "source": [
    "# prior = mf.models.ment.UniformPrior(d=d, scale=20.0, device=device)\n",
    "prior = mf.models.ment.GaussianPrior(d=d, scale=1.0, device=device)\n",
    "\n",
    "sampler_limits = d * [(-xmax, +xmax)]\n",
    "sampler_limits = np.multiply(sampler_limits, 1.25)\n",
    "sampler = mf.sample.GridSampler(limits=sampler_limits, res=50, device=device)\n",
    "\n",
    "model = mf.models.ment.MENT(\n",
    "    d=d,\n",
    "    transforms=transforms,\n",
    "    measurements=measurements,\n",
    "    diagnostic=diagnostic,\n",
    "    prior=prior,\n",
    "    sampler=sampler,\n",
    "    interpolate=\"linear\",  # {\"nearest\", \"linear\", \"pchip\"}\n",
    "    device=device,\n",
    ")"
   ]
  },
  {
   "cell_type": "markdown",
   "id": "35cf06ba-e9bd-438d-b559-fea6098b3774",
   "metadata": {},
   "source": [
    "## Training"
   ]
  },
  {
   "cell_type": "code",
   "execution_count": null,
   "id": "201f6893-cc50-4a16-9a4e-82fda46dcb36",
   "metadata": {},
   "outputs": [],
   "source": [
    "# Define integration grid.\n",
    "int_limits = model.d_int * [(-xmax, xmax)]\n",
    "int_limits = np.multiply(int_limits, 1.1)\n",
    "int_res = 50\n",
    "int_shape = tuple(model.d_int * [int_res])"
   ]
  },
  {
   "cell_type": "code",
   "execution_count": null,
   "id": "563c1dc9-a5f9-46ea-be4b-da8d31eb19f2",
   "metadata": {},
   "outputs": [],
   "source": [
    "# Training loop\n",
    "for iteration in range(5):\n",
    "    n = 1000000\n",
    "    \n",
    "    x = model.sample(n)\n",
    "    x = grab(x)\n",
    "\n",
    "    x0 = dist.sample(n)\n",
    "\n",
    "    # Radial distribution (unnormalized)\n",
    "    fig, ax = pplt.subplots(figsize=(3, 2))\n",
    "    for i, _x in enumerate([x0, x]):\n",
    "        r = np.linalg.norm(_x, axis=1)\n",
    "        hist_r, edges_r = np.histogram(r, bins=50, range=(0.0, xmax), density=True)\n",
    "        ax.stairs(hist_r, edges_r, color=[\"black\", \"red\"][i], lw=1.5)\n",
    "    pplt.show()\n",
    "    \n",
    "\n",
    "    ## Corner plot\n",
    "    grid = psv.CornerGrid(d=d, corner=False)\n",
    "    for i, _x in enumerate([x0, x]):\n",
    "        grid.plot_points(\n",
    "            _x, \n",
    "            bins=75, \n",
    "            limits=(4 * [(-xmax, xmax)]),\n",
    "            upper=(not i), \n",
    "            lower=i,\n",
    "            diag_kws=dict(color=\"black\", kind=\"line\", lw=1.5),\n",
    "            mask=False,\n",
    "        )\n",
    "    pplt.show()\n",
    "\n",
    "    # model.gauss_seidel_iterate(method=\"integrate\", limits=int_limits, shape=int_shape)\n",
    "    model.gauss_seidel_iterate(method=\"sample\", n=1000000)"
   ]
  },
  {
   "cell_type": "code",
   "execution_count": null,
   "id": "a6103317-ca79-4cf0-af02-4ff1993768a3",
   "metadata": {},
   "outputs": [],
   "source": []
  }
 ],
 "metadata": {
  "kernelspec": {
   "display_name": "ment-flow",
   "language": "python",
   "name": "ment-flow"
  },
  "language_info": {
   "codemirror_mode": {
    "name": "ipython",
    "version": 3
   },
   "file_extension": ".py",
   "mimetype": "text/x-python",
   "name": "python",
   "nbconvert_exporter": "python",
   "pygments_lexer": "ipython3",
   "version": "3.8.18"
  }
 },
 "nbformat": 4,
 "nbformat_minor": 5
}
