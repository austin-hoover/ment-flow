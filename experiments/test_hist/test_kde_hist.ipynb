{
 "cells": [
  {
   "cell_type": "markdown",
   "id": "0a87ab56-4b3e-4ee1-b987-fb5fa5ce9e5b",
   "metadata": {},
   "source": [
    "# KDE histogram comparison\n"
   ]
  },
  {
   "cell_type": "markdown",
   "id": "19b3539a-a107-428f-98b4-e3cd4f721be1",
   "metadata": {},
   "source": [
    "This notebook compares the KDE estimate to a regular histogram on 1D and 2D toy datasets."
   ]
  },
  {
   "cell_type": "code",
   "execution_count": null,
   "id": "93006174-b087-4354-996b-8288e9bdd078",
   "metadata": {},
   "outputs": [],
   "source": [
    "import time\n",
    "\n",
    "import matplotlib.pyplot as plt\n",
    "import numpy as np\n",
    "import proplot as pplt\n",
    "import torch\n",
    "\n",
    "import mentflow as mf"
   ]
  },
  {
   "cell_type": "code",
   "execution_count": null,
   "id": "5341497c-8802-409e-9e78-9231dd866099",
   "metadata": {},
   "outputs": [],
   "source": [
    "pplt.rc[\"cmap.discrete\"] = False\n",
    "pplt.rc[\"cmap.sequential\"] = \"viridis\"\n",
    "pplt.rc[\"figure.facecolor\"] = \"white\"\n",
    "pplt.rc[\"grid\"] = False"
   ]
  },
  {
   "cell_type": "markdown",
   "id": "e2ff2998-bf00-42bd-937b-3590a623b9bc",
   "metadata": {},
   "source": [
    "## Settings"
   ]
  },
  {
   "cell_type": "code",
   "execution_count": null,
   "id": "7cd4684b-e0a4-4452-a034-0d7a337e5a26",
   "metadata": {},
   "outputs": [],
   "source": [
    "data_name = \"swissroll\"\n",
    "xmax = 3.0\n",
    "n_bins = 100\n",
    "sizes = [1.00e+03, 1.00e+04, 1.00e+05, 1.00e+06]"
   ]
  },
  {
   "cell_type": "markdown",
   "id": "419cbfae-a92c-4be4-b386-0a7676028024",
   "metadata": {},
   "source": [
    "## 1D"
   ]
  },
  {
   "cell_type": "code",
   "execution_count": null,
   "id": "331cb704-324a-4aac-9b9f-2178abf8f07d",
   "metadata": {},
   "outputs": [],
   "source": [
    "bin_edges = torch.linspace(-xmax, xmax, n_bins + 1)\n",
    "bin_coords = 0.5 * (bin_edges[:-1] + bin_edges[1:])\n",
    "diagnostic = mf.diagnostics.Histogram1D(axis=0, bin_edges=bin_edges)\n",
    "\n",
    "fig, axs = pplt.subplots(ncols=len(sizes), figsize=(6.0, 1.25))\n",
    "for ax, size in zip(axs, sizes):\n",
    "    X = torch.tensor(mf.data.toy.gen_data(data_name, size=int(size)))\n",
    "    X = X.type(torch.float32)\n",
    "    for i in range(2):\n",
    "        hist = diagnostic(X, kde=i)\n",
    "        ax.plot(bin_coords.numpy(), hist.numpy(), label=[\"hist\", \"kde\"][i], color=[\"blue8\", \"red8\"][i])\n",
    "\n",
    "    ax.format(title=f\"n = {size:0.2e}\")\n",
    "axs[-1].legend(loc=\"r\", ncols=1, framealpha=0.0, handlelength=1.5)\n",
    "plt.show()"
   ]
  },
  {
   "cell_type": "markdown",
   "id": "61d26b7a-d5bd-400c-90b4-f9df51f188f6",
   "metadata": {},
   "source": [
    "## 2D"
   ]
  },
  {
   "cell_type": "code",
   "execution_count": null,
   "id": "a758530a-ba79-4458-bc63-77df06a18d2f",
   "metadata": {},
   "outputs": [],
   "source": [
    "bin_edges = 2 * [torch.linspace(-xmax, xmax, n_bins + 1)]\n",
    "diagnostic = mf.diagnostics.Histogram2D(axis=(0, 1), bin_edges=bin_edges)\n",
    "\n",
    "sizes = [1.00e+03, 1.00e+04, 1.00e+05, 1.00e+06]\n",
    "\n",
    "fig, axs = pplt.subplots(ncols=len(sizes), figwidth=6.0, nrows=2)\n",
    "for j, size in enumerate(sizes):\n",
    "    X = torch.tensor(mf.data.toy.gen_data(data_name, size=int(size)))\n",
    "    X = X.type(torch.float32)\n",
    "    for i in range(2):\n",
    "        hist = diagnostic(X, kde=i)\n",
    "        axs[i, j].pcolormesh(\n",
    "            bin_edges[0].numpy(),\n",
    "            bin_edges[1].numpy(),\n",
    "            hist.numpy().T,\n",
    "        )\n",
    "    axs[0, j].format(title=f\"n = {size:0.2e}\")\n",
    "axs.format(leftlabels=[\"hist\", \"kde\"])\n",
    "plt.show()"
   ]
  },
  {
   "cell_type": "code",
   "execution_count": null,
   "id": "b538b935-de8e-4152-a064-32c5fba92457",
   "metadata": {},
   "outputs": [],
   "source": []
  }
 ],
 "metadata": {
  "kernelspec": {
   "display_name": "ot-flow",
   "language": "python",
   "name": "ot-flow"
  },
  "language_info": {
   "codemirror_mode": {
    "name": "ipython",
    "version": 3
   },
   "file_extension": ".py",
   "mimetype": "text/x-python",
   "name": "python",
   "nbconvert_exporter": "python",
   "pygments_lexer": "ipython3",
   "version": "3.8.10"
  }
 },
 "nbformat": 4,
 "nbformat_minor": 5
}
