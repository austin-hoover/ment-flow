{
 "cells": [
  {
   "cell_type": "markdown",
   "id": "9fbec75c-5dab-4591-afad-fe36411273b1",
   "metadata": {},
   "source": [
    "# Grid sampling (GS) test"
   ]
  },
  {
   "cell_type": "code",
   "execution_count": null,
   "id": "a97a66e9-5cf1-4920-90c8-51f7fd31ed80",
   "metadata": {},
   "outputs": [],
   "source": [
    "import proplot as pplt\n",
    "import psdist as ps\n",
    "import psdist.visualization as psv\n",
    "import torch\n",
    "\n",
    "import mentflow as mf\n",
    "from mentflow.utils import grab"
   ]
  },
  {
   "cell_type": "code",
   "execution_count": null,
   "id": "2d85313f-44e8-48c2-b229-e23da3f6f603",
   "metadata": {},
   "outputs": [],
   "source": [
    "pplt.rc[\"cmap.discrete\"] = False\n",
    "pplt.rc[\"cmap.sequential\"] = \"viridis\"\n",
    "pplt.rc[\"figure.facecolor\"] = \"white\"\n",
    "pplt.rc[\"grid\"] = False"
   ]
  },
  {
   "cell_type": "code",
   "execution_count": null,
   "id": "d5351067-841a-4849-9d1e-5ddd5045f7cd",
   "metadata": {},
   "outputs": [],
   "source": [
    "ndim = 4\n",
    "size = 100_000\n",
    "bins = 32\n",
    "noise = 1.0\n",
    "\n",
    "x = mf.distributions.GaussianMixture(ndim=ndim).sample(1_000_000)\n",
    "histogram = torch.histogramdd(x, bins=bins, density=True)\n",
    "hist = histogram.hist\n",
    "edges = histogram.bin_edges\n",
    "\n",
    "\n",
    "x_samp = mf.sample.sample_hist(hist, edges, size, noise=noise)\n",
    "\n",
    "grid = psv.CornerGrid(ndim, diag_rspine=True)\n",
    "grid.plot_points(grab(x), kind=\"hist\", bins=75, cmap=\"mono\")\n",
    "grid.plot_points(grab(x_samp[:1000]), kind=\"scatter\", s=0.5, c=\"red\", diag_kws=dict(color=\"red\"))\n",
    "pplt.show()"
   ]
  },
  {
   "cell_type": "code",
   "execution_count": null,
   "id": "9ff928a1-74c2-4297-bef2-9b0af8e4a5cd",
   "metadata": {},
   "outputs": [],
   "source": []
  }
 ],
 "metadata": {
  "kernelspec": {
   "display_name": "Python (ment-flow)",
   "language": "python",
   "name": "ment-flow"
  },
  "language_info": {
   "codemirror_mode": {
    "name": "ipython",
    "version": 3
   },
   "file_extension": ".py",
   "mimetype": "text/x-python",
   "name": "python",
   "nbconvert_exporter": "python",
   "pygments_lexer": "ipython3",
   "version": "3.8.18"
  }
 },
 "nbformat": 4,
 "nbformat_minor": 5
}
