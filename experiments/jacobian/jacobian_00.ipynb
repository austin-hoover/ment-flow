{
 "cells": [
  {
   "cell_type": "code",
   "execution_count": 3,
   "id": "4cde4eab-29cc-4263-b9b4-9abd9db09d93",
   "metadata": {},
   "outputs": [],
   "source": [
    "from typing import Callable\n",
    "import torch\n",
    "import torch.nn as nn"
   ]
  },
  {
   "cell_type": "code",
   "execution_count": 45,
   "id": "4973aeb6-6750-4476-ba59-1f297e6e218e",
   "metadata": {},
   "outputs": [],
   "source": [
    "def get_ladj_fast(func: Callable, z: torch.Tensor) -> torch.Tensor:\n",
    "    # Copied from zuko\n",
    "    # with torch.enable_grad():\n",
    "    #     z = z.clone().requires_grad_()\n",
    "    #     x = func(z)\n",
    "    x = func(z)\n",
    "    dj = torch.autograd.grad(x, z, torch.ones_like(x), create_graph=True)[0]\n",
    "    ladj = torch.log(torch.abs(dj))\n",
    "    ladj = torch.distributions.utils._sum_rightmost(ladj, -1)\n",
    "    return ladj"
   ]
  },
  {
   "cell_type": "code",
   "execution_count": 46,
   "id": "45bda7f5-f31e-4b80-9c26-92f69329e1b3",
   "metadata": {},
   "outputs": [],
   "source": [
    "def get_ladj_slow(func: Callable, z: torch.Tensor) -> torch.Tensor:\n",
    "    ndim = z.shape[0]\n",
    "    ladj = torch.zeros(ndim)\n",
    "    for i in range(ndim):\n",
    "        jac = torch.autograd.functional.jacobian(func, z[i, :], create_graph=True)\n",
    "        ladj[i] = torch.log(torch.abs(torch.linalg.det(jac)))\n",
    "    return ladj"
   ]
  },
  {
   "cell_type": "code",
   "execution_count": 49,
   "id": "0b2e2a00-3c63-484d-99ee-0fa728b3d90e",
   "metadata": {},
   "outputs": [
    {
     "name": "stdout",
     "output_type": "stream",
     "text": [
      "tensor([[ 1.4742, -0.0877],\n",
      "        [ 0.4071, -1.3831],\n",
      "        [ 0.4139, -0.1267],\n",
      "        [-0.9442, -0.2014],\n",
      "        [ 0.5780, -0.7723],\n",
      "        [-2.4239,  0.6479],\n",
      "        [ 1.6165, -0.9512],\n",
      "        [-0.0566,  0.5406],\n",
      "        [-0.2317,  0.8546],\n",
      "        [ 0.1791,  1.2622]], requires_grad=True)\n"
     ]
    }
   ],
   "source": [
    "ndim = 2\n",
    "nsamp = 10\n",
    "\n",
    "z = torch.randn(nsamp, ndim)\n",
    "z.requires_grad_()\n",
    "print(z)"
   ]
  },
  {
   "cell_type": "code",
   "execution_count": 50,
   "id": "5590a95c-c2e2-47c0-b7c3-7d1542e5517c",
   "metadata": {},
   "outputs": [
    {
     "name": "stdout",
     "output_type": "stream",
     "text": [
      "tensor([-2.3424, -1.7643, -0.0963, -0.5542, -0.5110, -0.5097, -3.6297, -0.1555,\n",
      "        -0.4479, -1.2077], grad_fn=<SliceBackward0>)\n",
      "tensor([-2.3424, -1.7643, -0.0963, -0.5542, -0.5110, -0.5097, -3.6297, -0.1555,\n",
      "        -0.4479, -1.2077], grad_fn=<SliceBackward0>)\n"
     ]
    }
   ],
   "source": [
    "def func(z: torch.Tensor) -> torch.Tensor:\n",
    "    return torch.sin(z)\n",
    "\n",
    "print(get_ladj_slow(func, z)[:10])\n",
    "print(get_ladj_fast(func, z)[:10])"
   ]
  },
  {
   "cell_type": "code",
   "execution_count": 54,
   "id": "9559eb8a-29a8-4979-b37c-6a4d32d85c68",
   "metadata": {},
   "outputs": [
    {
     "name": "stdout",
     "output_type": "stream",
     "text": [
      "tensor([-0.5359, -2.5240, -1.1045, -1.0119, -1.6705, -2.3893, -1.3587, -2.0419,\n",
      "        -1.1163, -1.9069], grad_fn=<SliceBackward0>)\n",
      "tensor([-1.1761, -1.1761, -1.1761, -1.1761, -1.1761, -1.1761, -1.1761, -1.1761,\n",
      "        -1.1761, -1.1761], grad_fn=<SliceBackward0>)\n"
     ]
    }
   ],
   "source": [
    "def func(z: torch.Tensor) -> torch.Tensor:\n",
    "    layer = torch.nn.Linear(ndim, ndim)\n",
    "    return layer(z)\n",
    "\n",
    "print(get_ladj_slow(func, z)[:10])\n",
    "print(get_ladj_fast(func, z)[:10])"
   ]
  },
  {
   "cell_type": "code",
   "execution_count": null,
   "id": "c4575d57-2ee6-4e8e-b7b7-29457619ad90",
   "metadata": {},
   "outputs": [],
   "source": []
  }
 ],
 "metadata": {
  "kernelspec": {
   "display_name": "mentflow",
   "language": "python",
   "name": "mentflow"
  },
  "language_info": {
   "codemirror_mode": {
    "name": "ipython",
    "version": 3
   },
   "file_extension": ".py",
   "mimetype": "text/x-python",
   "name": "python",
   "nbconvert_exporter": "python",
   "pygments_lexer": "ipython3",
   "version": "3.11.10"
  }
 },
 "nbformat": 4,
 "nbformat_minor": 5
}
