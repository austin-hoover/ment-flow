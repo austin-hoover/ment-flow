{
 "cells": [
  {
   "cell_type": "code",
   "execution_count": null,
   "id": "4cde4eab-29cc-4263-b9b4-9abd9db09d93",
   "metadata": {},
   "outputs": [],
   "source": [
    "from typing import Callable\n",
    "import torch\n",
    "import torch.nn as nn"
   ]
  },
  {
   "cell_type": "code",
   "execution_count": null,
   "id": "4973aeb6-6750-4476-ba59-1f297e6e218e",
   "metadata": {},
   "outputs": [],
   "source": [
    "def get_ladj_fast(func: Callable, z: torch.Tensor) -> torch.Tensor:\n",
    "    # Copied from zuko\n",
    "    # with torch.enable_grad():\n",
    "    #     z = z.clone().requires_grad_()\n",
    "    #     x = func(z)\n",
    "    x = func(z)\n",
    "    dj = torch.autograd.grad(x, z, torch.ones_like(x), create_graph=True)[0]\n",
    "    ladj = torch.log(torch.abs(dj))\n",
    "    ladj = torch.distributions.utils._sum_rightmost(ladj, -1)\n",
    "    return ladj"
   ]
  },
  {
   "cell_type": "code",
   "execution_count": null,
   "id": "45bda7f5-f31e-4b80-9c26-92f69329e1b3",
   "metadata": {},
   "outputs": [],
   "source": [
    "def get_ladj_slow(func: Callable, z: torch.Tensor) -> torch.Tensor:\n",
    "    ndim = z.shape[0]\n",
    "    ladj = torch.zeros(ndim)\n",
    "    for i in range(ndim):\n",
    "        jac = torch.autograd.functional.jacobian(func, z[i, :], create_graph=True)\n",
    "        ladj[i] = torch.log(torch.abs(torch.linalg.det(jac)))\n",
    "    return ladj"
   ]
  },
  {
   "cell_type": "code",
   "execution_count": null,
   "id": "0b2e2a00-3c63-484d-99ee-0fa728b3d90e",
   "metadata": {},
   "outputs": [],
   "source": [
    "ndim = 2\n",
    "nsamp = 10\n",
    "\n",
    "z = torch.randn(nsamp, ndim)\n",
    "z.requires_grad_()\n",
    "print(z)"
   ]
  },
  {
   "cell_type": "code",
   "execution_count": null,
   "id": "5590a95c-c2e2-47c0-b7c3-7d1542e5517c",
   "metadata": {},
   "outputs": [],
   "source": [
    "def func(z: torch.Tensor) -> torch.Tensor:\n",
    "    return torch.sin(z)\n",
    "\n",
    "print(get_ladj_slow(func, z)[:10])\n",
    "print(get_ladj_fast(func, z)[:10])"
   ]
  },
  {
   "cell_type": "code",
   "execution_count": null,
   "id": "9559eb8a-29a8-4979-b37c-6a4d32d85c68",
   "metadata": {},
   "outputs": [],
   "source": [
    "def func(z: torch.Tensor) -> torch.Tensor:\n",
    "    layer = torch.nn.Linear(ndim, ndim)\n",
    "    return layer(z)\n",
    "\n",
    "print(get_ladj_slow(func, z)[:10])\n",
    "print(get_ladj_fast(func, z)[:10])"
   ]
  },
  {
   "cell_type": "code",
   "execution_count": null,
   "id": "c4575d57-2ee6-4e8e-b7b7-29457619ad90",
   "metadata": {},
   "outputs": [],
   "source": []
  }
 ],
 "metadata": {
  "kernelspec": {
   "display_name": "ment-flow",
   "language": "python",
   "name": "ment-flow"
  },
  "language_info": {
   "codemirror_mode": {
    "name": "ipython",
    "version": 3
   },
   "file_extension": ".py",
   "mimetype": "text/x-python",
   "name": "python",
   "nbconvert_exporter": "python",
   "pygments_lexer": "ipython3",
   "version": "3.11.5"
  }
 },
 "nbformat": 4,
 "nbformat_minor": 5
}
