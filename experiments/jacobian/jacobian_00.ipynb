{
 "cells": [
  {
   "cell_type": "code",
   "execution_count": null,
   "id": "4cde4eab-29cc-4263-b9b4-9abd9db09d93",
   "metadata": {},
   "outputs": [],
   "source": [
    "import torch\n",
    "import torch.nn as nn"
   ]
  },
  {
   "cell_type": "code",
   "execution_count": null,
   "id": "5590a95c-c2e2-47c0-b7c3-7d1542e5517c",
   "metadata": {},
   "outputs": [],
   "source": [
    "def func(x):\n",
    "    return torch.sin(x)\n",
    "\n",
    "\n",
    "z = torch.randn(10, 2)\n",
    "print(z)\n",
    "\n",
    "# Fast method (copied from zuko repository)\n",
    "with torch.enable_grad():\n",
    "    z = z.clone().requires_grad_()\n",
    "    x = func(z)\n",
    "dj = torch.autograd.grad(x, z, torch.ones_like(x), create_graph=True)[0]\n",
    "ladj = torch.log(torch.abs(dj))\n",
    "ladj = torch.distributions.utils._sum_rightmost(ladj, -1)\n",
    "print(ladj)\n",
    "\n",
    "# Slow method\n",
    "ladj = torch.zeros(z.shape[0])\n",
    "for i in range(z.shape[0]):\n",
    "    jac = torch.autograd.functional.jacobian(func, z[i, :], create_graph=True)\n",
    "    ladj[i] = torch.log(torch.abs(torch.linalg.det(jac)))\n",
    "print(ladj)"
   ]
  },
  {
   "cell_type": "code",
   "execution_count": null,
   "id": "9559eb8a-29a8-4979-b37c-6a4d32d85c68",
   "metadata": {},
   "outputs": [],
   "source": []
  }
 ],
 "metadata": {
  "kernelspec": {
   "display_name": "ment-flow",
   "language": "python",
   "name": "ment-flow"
  },
  "language_info": {
   "codemirror_mode": {
    "name": "ipython",
    "version": 3
   },
   "file_extension": ".py",
   "mimetype": "text/x-python",
   "name": "python",
   "nbconvert_exporter": "python",
   "pygments_lexer": "ipython3",
   "version": "3.8.18"
  }
 },
 "nbformat": 4,
 "nbformat_minor": 5
}
