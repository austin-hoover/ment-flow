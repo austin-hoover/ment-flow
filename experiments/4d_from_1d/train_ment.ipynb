{
 "cells": [
  {
   "cell_type": "markdown",
   "id": "cff00caf-9a9b-4b3f-aade-aaa441988492",
   "metadata": {},
   "source": [
    "# 4D-from-1D MENT"
   ]
  },
  {
   "cell_type": "code",
   "execution_count": null,
   "id": "da33589c-b5a5-4964-9f6d-e3175efa5def",
   "metadata": {},
   "outputs": [],
   "source": [
    "import numpy as np\n",
    "import proplot as pplt\n",
    "import scipy.interpolate\n",
    "import torch\n",
    "from ipywidgets import interact\n",
    "from ipywidgets import widgets\n",
    "from tqdm.notebook import tqdm\n",
    "\n",
    "import mentflow as mf\n",
    "from mentflow.utils import grab"
   ]
  },
  {
   "cell_type": "code",
   "execution_count": null,
   "id": "01d2f189-0104-4a87-b8ef-784e9ac4e573",
   "metadata": {},
   "outputs": [],
   "source": [
    "pplt.rc[\"cmap.discrete\"] = False\n",
    "pplt.rc[\"cmap.sequential\"] = \"viridis\"\n",
    "pplt.rc[\"figure.facecolor\"] = \"white\"\n",
    "pplt.rc[\"grid\"] = False"
   ]
  },
  {
   "cell_type": "code",
   "execution_count": null,
   "id": "71578754-5d25-4a7b-b3b1-2c515b0becda",
   "metadata": {},
   "outputs": [],
   "source": [
    "device = torch.device(\"cpu\")\n",
    "precision = torch.float32\n",
    "\n",
    "def send(x):\n",
    "    return x.type(precision).to(device)"
   ]
  },
  {
   "cell_type": "markdown",
   "id": "f7d5ac03-b341-49f2-85f7-d05a445bac01",
   "metadata": {},
   "source": [
    "## Data"
   ]
  },
  {
   "cell_type": "code",
   "execution_count": null,
   "id": "763508d7-3ba8-44fb-b7c1-522245187530",
   "metadata": {},
   "outputs": [],
   "source": [
    "data_name = \"spheres\"\n",
    "data_size = int(1.00e+06)\n",
    "data_noise = None\n",
    "d = 4\n",
    "xmax = 4.0\n",
    "n_bins = 45\n",
    "n_meas = 20\n",
    "\n",
    "dist = mf.data.radial.gen_dist(data_name, d=d, noise=data_noise)\n",
    "x0 = dist.sample(data_size)\n",
    "x0 = send(x0)"
   ]
  },
  {
   "cell_type": "code",
   "execution_count": null,
   "id": "6ca0214e-417d-4c6e-91a6-e920726e1ae3",
   "metadata": {},
   "outputs": [],
   "source": [
    "unit_vectors = np.random.normal(size=(n_meas, 4))\n",
    "unit_vectors = unit_vectors / np.linalg.norm(unit_vectors, axis=1)[:, None]\n",
    "unit_vectors = torch.from_numpy(unit_vectors)\n",
    "unit_vectors = send(unit_vectors)\n",
    "\n",
    "transforms = []\n",
    "for unit_vector in unit_vectors:\n",
    "\n",
    "    matrix = torch.eye(d)\n",
    "    i = 0\n",
    "    for j in range(d):\n",
    "        matrix[i, j] = unit_vector[j]\n",
    "    matrix = send(matrix)\n",
    "    transform = mf.transform.Linear(matrix)\n",
    "        \n",
    "    transform = transform.to(device)\n",
    "    transforms.append(transform)\n",
    "\n",
    "bin_edges = torch.linspace(-xmax, xmax, n_bins + 1)\n",
    "diagnostic = mf.diagnostics.Histogram1D(axis=0, bin_edges=bin_edges, kde=False)\n",
    "diagnostic = diagnostic.to(device)\n",
    "\n",
    "measurements = [diagnostic(transform(x0)) for transform in transforms]"
   ]
  },
  {
   "cell_type": "code",
   "execution_count": null,
   "id": "d96cd2f1-2bf7-48eb-af64-2a93a0ed734c",
   "metadata": {},
   "outputs": [],
   "source": [
    "@interact\n",
    "def update(index=(0, n_meas - 1)):\n",
    "    fig, ax = pplt.subplots(figsize=(3, 2))\n",
    "    ax.stairs(grab(measurements[index]), grab(bin_edges), color=\"black\", lw=1.25)"
   ]
  },
  {
   "cell_type": "markdown",
   "id": "b6ab21a6-d91c-446c-9dd9-b3ca03bc9079",
   "metadata": {},
   "source": [
    "## Model"
   ]
  },
  {
   "cell_type": "code",
   "execution_count": null,
   "id": "06e45a91-be88-41a0-abe6-ab6e5e44cbe1",
   "metadata": {},
   "outputs": [],
   "source": [
    "prior = mf.models.ment.GaussianPrior(d=d, scale=1.0, device=device)\n",
    "# prior = mf.models.ment.UniformPrior(d=d, scale=20.0, device=device)\n",
    "\n",
    "sampler_limits = d * [(-xmax, +xmax)]\n",
    "sampler_limits = np.multiply(sampler_limits, 1.05)\n",
    "sampler = mf.sample.GridSampler(limits=sampler_limits, res=64, device=device)\n",
    "\n",
    "model = mf.models.ment.MENT(\n",
    "    d=d,\n",
    "    transforms=transforms,\n",
    "    measurements=measurements,\n",
    "    diagnostic=diagnostic,\n",
    "    prior=prior,\n",
    "    sampler=sampler,\n",
    "    interpolate=\"linear\",  # {\"nearest\", \"linear\", \"pchip\"}\n",
    "    device=device,\n",
    ")"
   ]
  },
  {
   "cell_type": "markdown",
   "id": "7dc3485f-9f8c-49ef-affb-8890395910c9",
   "metadata": {},
   "source": [
    "## Training"
   ]
  },
  {
   "cell_type": "code",
   "execution_count": null,
   "id": "99f4ce70-328b-400e-86e9-dae95711d60b",
   "metadata": {},
   "outputs": [],
   "source": [
    "# Define integration grid.\n",
    "int_limits = model.d_int * [(-xmax, xmax)]\n",
    "int_limits = np.multiply(int_limits, 1.1)\n",
    "int_res = 50\n",
    "int_shape = tuple(model.d_int * [int_res])"
   ]
  },
  {
   "cell_type": "code",
   "execution_count": null,
   "id": "dcbe61dd-4334-4883-a69f-527301e4fb8b",
   "metadata": {},
   "outputs": [],
   "source": [
    "# Training loop\n",
    "for iteration in range(4):\n",
    "    # Evaluate the model's performance.\n",
    "    n = 10000\n",
    "    x  = grab(model.sample(n))\n",
    "    x0 = grab(dist.sample(n))\n",
    "\n",
    "    fig, ax = pplt.subplots(figsize=(3, 2))\n",
    "    for i, _x in enumerate([x0, x]):\n",
    "        r = np.linalg.norm(_x, axis=1)\n",
    "        hist_r, edges_r = np.histogram(r, bins=50, range=(0.0, xmax), density=True)\n",
    "        ax.stairs(hist_r, edges_r, color=[\"black\", \"red\"][i], lw=1.5)\n",
    "    pplt.show()\n",
    "\n",
    "    ## Update lagrange functions.\n",
    "    # model.gauss_seidel_iterate(method=\"sample\", n=100000)\n",
    "    model.gauss_seidel_iterate(method=\"integrate\", limits=int_limits, shape=int_shape)"
   ]
  },
  {
   "cell_type": "markdown",
   "id": "6f76987e-ae83-4404-8f40-4bc0474a28b3",
   "metadata": {},
   "source": [
    "## Evaluation"
   ]
  },
  {
   "cell_type": "code",
   "execution_count": null,
   "id": "b10ce14f-0208-4131-99cb-485d9b68f6df",
   "metadata": {},
   "outputs": [],
   "source": [
    "predictions = model.simulate(method=\"integrate\", limits=int_limits, shape=int_shape)\n",
    "# predictions = model.simulate(method=\"sample\", n=100000)"
   ]
  },
  {
   "cell_type": "code",
   "execution_count": null,
   "id": "f51467b2-bee1-4e1a-bfdb-e49f0be36390",
   "metadata": {},
   "outputs": [],
   "source": [
    "@interact\n",
    "def update(index=(0, len(measurements) - 1)):\n",
    "    y_meas = grab(measurements[index])\n",
    "    y_pred = grab(predictions[index])\n",
    "    y_max = np.max(y_meas)\n",
    "    y_meas = y_meas / y_max\n",
    "    y_pred = y_pred / y_max\n",
    "    \n",
    "    fig, ax = pplt.subplots(figsize=(3.0, 2.0))\n",
    "    kws = dict(lw=1.25)\n",
    "    ax.stairs(y_meas, grab(diagnostic.bin_edges), color=\"black\", **kws)\n",
    "    ax.stairs(y_pred, grab(diagnostic.bin_edges), color=\"red\", **kws)\n",
    "    ax.format(ymin=0.0, ymax=1.25)\n",
    "    pplt.show()"
   ]
  },
  {
   "cell_type": "code",
   "execution_count": null,
   "id": "dbfe6cfe-13c6-458a-bea6-620a87b083fd",
   "metadata": {},
   "outputs": [],
   "source": [
    "n = 100000\n",
    "x0 = grab(dist.sample(n))\n",
    "x = grab(model.sample(n))"
   ]
  },
  {
   "cell_type": "code",
   "execution_count": null,
   "id": "eca405e5-da0f-43e8-a7cc-6bda379ee7e6",
   "metadata": {},
   "outputs": [],
   "source": [
    "import sys\n",
    "sys.path.append(\"/Users/46h/repo/psdist/\")\n",
    "import psdist as ps\n",
    "import psdist.visualization as psv\n",
    "\n",
    "grid = psv.CornerGrid(d=d, corner=False)\n",
    "limits = d * [(-xmax, xmax)]\n",
    "kws = dict(limits=limits, bins=50, mask=False)\n",
    "grid.plot_points(x, upper=False, diag_kws=dict(color=\"blue7\", lw=1.5), cmap=pplt.Colormap(\"vlag_r\", left=0.5), **kws)\n",
    "grid.plot_points(x0, lower=False, diag_kws=dict(color=\"red7\", lw=1.5), cmap=pplt.Colormap(\"vlag\", left=0.5), **kws)\n",
    "pplt.show()"
   ]
  },
  {
   "cell_type": "code",
   "execution_count": null,
   "id": "380b4a6e-0b49-428e-94af-d4b88243ed06",
   "metadata": {},
   "outputs": [],
   "source": []
  }
 ],
 "metadata": {
  "kernelspec": {
   "display_name": "ment-flow",
   "language": "python",
   "name": "ment-flow"
  },
  "language_info": {
   "codemirror_mode": {
    "name": "ipython",
    "version": 3
   },
   "file_extension": ".py",
   "mimetype": "text/x-python",
   "name": "python",
   "nbconvert_exporter": "python",
   "pygments_lexer": "ipython3",
   "version": "3.8.18"
  }
 },
 "nbformat": 4,
 "nbformat_minor": 5
}
