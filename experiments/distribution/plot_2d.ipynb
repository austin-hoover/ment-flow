{
 "cells": [
  {
   "cell_type": "markdown",
   "id": "1ca1b871-f4d6-4c9e-a199-bac9fed0cb5a",
   "metadata": {},
   "source": [
    "# Plot 2D distributions"
   ]
  },
  {
   "cell_type": "code",
   "execution_count": null,
   "id": "c25ae5b8-5de4-413a-a3bf-8896a4c62094",
   "metadata": {},
   "outputs": [],
   "source": [
    "import numpy as np\n",
    "import proplot as pplt\n",
    "\n",
    "import mentflow as mf"
   ]
  },
  {
   "cell_type": "code",
   "execution_count": null,
   "id": "8b98d2e8-8cf4-40f5-82d7-286e4850cad6",
   "metadata": {},
   "outputs": [],
   "source": [
    "pplt.rc[\"cmap.discrete\"] = False\n",
    "pplt.rc[\"cmap.sequential\"] = \"viridis\"\n",
    "pplt.rc[\"figure.facecolor\"] = \"white\"\n",
    "pplt.rc[\"grid\"] = False"
   ]
  },
  {
   "cell_type": "code",
   "execution_count": null,
   "id": "dd9f3797-ddcc-48f8-a784-c598c2567009",
   "metadata": {},
   "outputs": [],
   "source": [
    "size = int(1.00e+06)\n",
    "noise = None\n",
    "n_bins = 100\n",
    "seed = 0\n",
    "shear = 0.0\n",
    "xmax = 3.0\n",
    "\n",
    "names = [\n",
    "    \"eight-gaussians\",\n",
    "    \"galaxy\",\n",
    "    \"gaussian\",\n",
    "    \"gaussian_mixture\",\n",
    "    \"hollow\",\n",
    "    \"kv\",\n",
    "    \"leaf\",\n",
    "    \"pinwheel\",\n",
    "    \"rings\",\n",
    "    \"swissroll\",\n",
    "    \"two-spirals\",\n",
    "    \"waterbag\",\n",
    "]"
   ]
  },
  {
   "cell_type": "code",
   "execution_count": null,
   "id": "c87c3a25-0d9e-4957-8d2b-39767c59b91e",
   "metadata": {},
   "outputs": [],
   "source": [
    "for name in names:\n",
    "    print(name)\n",
    "    \n",
    "    dist = mf.dist.get_distribution(name, ndim=2, seed=seed, shear=shear)\n",
    "    x = dist.sample(size)\n",
    "    x = mf.utils.grab(x)\n",
    "    \n",
    "    fig, ax = pplt.subplots()\n",
    "    ax.hist2d(x[:, 0], x[:, 1], bins=n_bins, range=(2 * [(-xmax, xmax)]), cmap=\"mono\")\n",
    "    pplt.show()"
   ]
  },
  {
   "cell_type": "code",
   "execution_count": null,
   "id": "71851960-9165-4e08-9505-e1c7d29252d9",
   "metadata": {},
   "outputs": [],
   "source": []
  },
  {
   "cell_type": "code",
   "execution_count": null,
   "id": "1770c871-f4b4-4200-92aa-2a3674e048b6",
   "metadata": {},
   "outputs": [],
   "source": []
  }
 ],
 "metadata": {
  "kernelspec": {
   "display_name": "Python (ment-flow)",
   "language": "python",
   "name": "ment-flow"
  },
  "language_info": {
   "codemirror_mode": {
    "name": "ipython",
    "version": 3
   },
   "file_extension": ".py",
   "mimetype": "text/x-python",
   "name": "python",
   "nbconvert_exporter": "python",
   "pygments_lexer": "ipython3",
   "version": "3.8.18"
  }
 },
 "nbformat": 4,
 "nbformat_minor": 5
}
