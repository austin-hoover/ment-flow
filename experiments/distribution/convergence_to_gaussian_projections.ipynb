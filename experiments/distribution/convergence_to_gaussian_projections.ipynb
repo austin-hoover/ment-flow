{
 "cells": [
  {
   "cell_type": "markdown",
   "id": "1ca1b871-f4d6-4c9e-a199-bac9fed0cb5a",
   "metadata": {},
   "source": [
    "# Convergence to gaussian projections"
   ]
  },
  {
   "cell_type": "code",
   "execution_count": null,
   "id": "c25ae5b8-5de4-413a-a3bf-8896a4c62094",
   "metadata": {},
   "outputs": [],
   "source": [
    "import numpy as np\n",
    "import proplot as pplt\n",
    "from ipywidgets import interact\n",
    "from ipywidgets import widgets\n",
    "\n",
    "import mentflow as mf"
   ]
  },
  {
   "cell_type": "code",
   "execution_count": null,
   "id": "8b98d2e8-8cf4-40f5-82d7-286e4850cad6",
   "metadata": {},
   "outputs": [],
   "source": [
    "pplt.rc[\"cmap.discrete\"] = False\n",
    "pplt.rc[\"cmap.sequential\"] = \"viridis\"\n",
    "pplt.rc[\"figure.facecolor\"] = \"white\"\n",
    "pplt.rc[\"grid\"] = False"
   ]
  },
  {
   "cell_type": "code",
   "execution_count": null,
   "id": "1c878cda-0012-4238-9995-7570f0d9b8e8",
   "metadata": {},
   "outputs": [],
   "source": [
    "@interact(\n",
    "    dist_name=widgets.Dropdown(\n",
    "        options=[\n",
    "            \"gaussian\",\n",
    "            \"hollow\",\n",
    "            \"kv\",\n",
    "            \"rings\",\n",
    "            \"waterbag\",\n",
    "        ],\n",
    "        value=\"kv\",\n",
    "    ), \n",
    "    ndim=widgets.IntSlider(min=2, max=10, value=2),\n",
    "    bins=widgets.IntSlider(min=50, max=125, value=50),\n",
    "    xmax=widgets.FloatSlider(min=1.0, max=8.0, value=3.0),\n",
    "    size=widgets.FloatLogSlider(min=4.0, max=6.0, value=(1.00e+05)),\n",
    "    rhist_bins=widgets.IntSlider(min=25, max=75, value=45),\n",
    ")\n",
    "def update(dist_name, ndim, bins, xmax, size, rhist_bins, log_cdf=False):\n",
    "    dist = mf.dist.get_distribution(name=dist_name, ndim=ndim, normalize=True, noise=None)\n",
    "    \n",
    "    x = dist.sample(int(size))\n",
    "    x = x.detach().cpu().numpy()\n",
    "\n",
    "    print(\"max(x) =\", np.max(x))\n",
    "    print(\"std(x) =\", np.std(x))\n",
    "\n",
    "    y = np.random.normal(size=x.shape)\n",
    "    \n",
    "    fig, axs = pplt.subplots(ncols=2)\n",
    "    axs[0].hist2d(x[:, 0], x[:, 1], bins=bins, range=(2 * [(-xmax, xmax)]), density=True)\n",
    "    axs[1].hist2d(y[:, 0], y[:, 1], bins=bins, range=(2 * [(-xmax, xmax)]), density=True)\n",
    "    \n",
    "    r = np.linalg.norm(x, axis=1)\n",
    "    hist, edges = np.histogram(r, bins=rhist_bins, range=(0.0, np.max(r)))\n",
    "    for i in range(len(hist)):\n",
    "        hist[i] = hist[i] / mf.utils.sphere_shell_volume(edges[i], edges[i + 1], d=ndim)\n",
    "    cdf = np.cumsum(hist)\n",
    "    cdf = cdf / cdf[-1]\n",
    "\n",
    "    fig, ax = pplt.subplots(figsize=(3, 2))\n",
    "    ax.stairs(cdf, edges, color=\"black\", lw=1.5)\n",
    "    ax.format(ylabel=\"CDF\", xlabel=\"Radius\", ymax=1.1)\n",
    "    if log_cdf:\n",
    "        ax.format(yscale=\"log\", ymin=0.0001, ymax=2.0)\n",
    "    pplt.show()"
   ]
  },
  {
   "cell_type": "markdown",
   "id": "3eef701f-cc39-4105-bc28-caf03e269f45",
   "metadata": {},
   "source": [
    "Check log-concavity of distribution functions."
   ]
  },
  {
   "cell_type": "code",
   "execution_count": null,
   "id": "c4e976f9-7ac8-4430-abaf-219a60156f18",
   "metadata": {},
   "outputs": [],
   "source": [
    "for dist_name in [\"hollow\", \"gaussian\", \"waterbag\"]:\n",
    "    radial_dist_func = None\n",
    "    if dist_name == \"hollow\":\n",
    "        radial_dist_func = lambda r: r ** 2.0\n",
    "    elif dist_name == \"gaussian\":\n",
    "        radial_dist_func = lambda r: np.exp(-r**2)\n",
    "    elif dist_name == \"waterbag\":\n",
    "        radial_dist_func = lambda r: 1.0\n",
    "    if radial_dist_func is not None:\n",
    "        print(dist_name)\n",
    "        \n",
    "        r = np.linspace(0.0, 4.0, 100)\n",
    "        fr = [radial_dist_func(r[i]) for i in range(len(r))]\n",
    "        fr = np.array(fr)\n",
    "        fr = fr / np.max(fr)\n",
    "    \n",
    "        fig, ax = pplt.subplots(figsize=(3, 2))\n",
    "        ax.plot(r, fr)\n",
    "        ax.format(yscale=\"log\", ymin=0.001)\n",
    "        pplt.show()"
   ]
  },
  {
   "cell_type": "markdown",
   "id": "5ed60332-9727-4845-8c83-31d0f72e30b9",
   "metadata": {},
   "source": [
    "Show hollow distribution."
   ]
  },
  {
   "cell_type": "code",
   "execution_count": null,
   "id": "faadec84-e6d5-4088-9bce-4becdadb2df3",
   "metadata": {},
   "outputs": [],
   "source": [
    "r = np.linspace(0.0, 4.0, 100)\n",
    "frs = []\n",
    "for a in np.linspace(0.0, 4.0, 10):\n",
    "    radial_dist_func = lambda r: r ** a\n",
    "        \n",
    "    r = np.linspace(0.0, 4.0, 100)\n",
    "    fr = [radial_dist_func(r[i]) for i in range(len(r))]\n",
    "    fr = np.array(fr)\n",
    "    fr = fr / np.max(fr)\n",
    "    \n",
    "    frs.append(fr)\n",
    "\n",
    "fig, axs = pplt.subplots(figwidth=2.5, figheight=4.0, nrows=2, spany=False)\n",
    "for fr in frs:\n",
    "    axs[0].plot(r, fr, color=\"black\")\n",
    "    axs[1].plot(r, np.ma.log10(fr), color=\"black\")\n",
    "axs.format(xlabel=\"r\")\n",
    "axs[0].format(ylabel=\"f(r)\")\n",
    "axs[1].format(ylabel=\"log f(r)\")\n",
    "pplt.show()"
   ]
  },
  {
   "cell_type": "code",
   "execution_count": null,
   "id": "54cd12bc-bad9-4d4a-a5da-31daf43bffe8",
   "metadata": {},
   "outputs": [],
   "source": []
  }
 ],
 "metadata": {
  "kernelspec": {
   "display_name": "Python (ment-flow)",
   "language": "python",
   "name": "ment-flow"
  },
  "language_info": {
   "codemirror_mode": {
    "name": "ipython",
    "version": 3
   },
   "file_extension": ".py",
   "mimetype": "text/x-python",
   "name": "python",
   "nbconvert_exporter": "python",
   "pygments_lexer": "ipython3",
   "version": "3.8.18"
  }
 },
 "nbformat": 4,
 "nbformat_minor": 5
}
