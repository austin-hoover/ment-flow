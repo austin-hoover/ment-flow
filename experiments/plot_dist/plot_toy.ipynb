{
 "cells": [
  {
   "cell_type": "markdown",
   "id": "1ca1b871-f4d6-4c9e-a199-bac9fed0cb5a",
   "metadata": {},
   "source": [
    "# Plot 2D distributions"
   ]
  },
  {
   "cell_type": "code",
   "execution_count": null,
   "id": "c25ae5b8-5de4-413a-a3bf-8896a4c62094",
   "metadata": {},
   "outputs": [],
   "source": [
    "import numpy as np\n",
    "import proplot as pplt\n",
    "\n",
    "import mentflow as mf"
   ]
  },
  {
   "cell_type": "code",
   "execution_count": null,
   "id": "8b98d2e8-8cf4-40f5-82d7-286e4850cad6",
   "metadata": {},
   "outputs": [],
   "source": [
    "pplt.rc[\"cmap.discrete\"] = False\n",
    "pplt.rc[\"cmap.sequential\"] = \"viridis\"\n",
    "pplt.rc[\"figure.facecolor\"] = \"white\"\n",
    "pplt.rc[\"grid\"] = False"
   ]
  },
  {
   "cell_type": "code",
   "execution_count": null,
   "id": "dd9f3797-ddcc-48f8-a784-c598c2567009",
   "metadata": {},
   "outputs": [],
   "source": [
    "size = int(1.00e+06)\n",
    "noise = None\n",
    "n_bins = 80\n",
    "seed = 0\n",
    "xmax = 3.0\n",
    "warp = False\n",
    "warp_kws = dict(scale=0.15, exp=3.0)\n",
    "\n",
    "rng = np.random.default_rng(seed)"
   ]
  },
  {
   "cell_type": "code",
   "execution_count": null,
   "id": "c87c3a25-0d9e-4957-8d2b-39767c59b91e",
   "metadata": {},
   "outputs": [],
   "source": [
    "for name, constructor in mf.data.toy.DISTRIBUTIONS.items():\n",
    "    print(name)\n",
    "    dist = constructor(normalize=True, noise=noise, shuffle=True, decorr=False, rng=rng)\n",
    "    X = dist.sample(size)\n",
    "    \n",
    "    fig, ax = pplt.subplots()\n",
    "    ax.hist2d(X[:, 0], X[:, 1], bins=n_bins, range=(2 * [(-xmax, xmax)]), cmap=\"mono\")\n",
    "    pplt.show()"
   ]
  },
  {
   "cell_type": "code",
   "execution_count": null,
   "id": "4c33c4b4-b8fc-42f1-aad6-582f3546c32f",
   "metadata": {},
   "outputs": [],
   "source": []
  },
  {
   "cell_type": "code",
   "execution_count": null,
   "id": "f0b016af-7f97-4f9f-907f-ee0a016f897e",
   "metadata": {},
   "outputs": [],
   "source": []
  }
 ],
 "metadata": {
  "kernelspec": {
   "display_name": "ot-flow",
   "language": "python",
   "name": "ot-flow"
  },
  "language_info": {
   "codemirror_mode": {
    "name": "ipython",
    "version": 3
   },
   "file_extension": ".py",
   "mimetype": "text/x-python",
   "name": "python",
   "nbconvert_exporter": "python",
   "pygments_lexer": "ipython3",
   "version": "3.8.10"
  }
 },
 "nbformat": 4,
 "nbformat_minor": 5
}
